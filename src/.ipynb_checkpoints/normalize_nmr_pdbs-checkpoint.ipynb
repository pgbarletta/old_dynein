{
 "cells": [
  {
   "cell_type": "code",
   "execution_count": 4,
   "metadata": {},
   "outputs": [],
   "source": [
    "import os, pytraj as pt, numpy as np\n",
    "\n",
    "# Get ready\n",
    "home = \"/home/pbarletta/labo/19/dynein/data\"\n",
    "tc_home = os.path.join(home, \"tctex_pdbs\")\n",
    "lc_home = os.path.join(home, \"lc8_pdbs\")"
   ]
  },
  {
   "cell_type": "markdown",
   "metadata": {},
   "source": [
    "## NMR"
   ]
  },
  {
   "cell_type": "code",
   "execution_count": 50,
   "metadata": {},
   "outputs": [
    {
     "data": {
      "text/plain": [
       "0"
      ]
     },
     "execution_count": 50,
     "metadata": {},
     "output_type": "execute_result"
    }
   ],
   "source": [
    "mask_5jpw = \"(:21-111@CA)|(:164-254@CA)\"\n",
    "\n",
    "# Read NMR pdb\n",
    "trj = pt.load(os.path.join(tc_home, \"orig_5jpw.pdb\"))\n",
    "\n",
    "# Eliminate translation, if there is, and rmsdfit to the first frame using the mask.\n",
    "trj(autoimage=True, rmsfit = (0, mask_5jpw))\n",
    "avg = pt.mean_structure(trj, mask_5jpw)\n",
    "\n",
    "ca_indices = pt.select(mask_5jpw, trj.top)\n",
    "\n",
    "# Get the frame closest to the average\n",
    "dist = []\n",
    "for frame in trj.iterframe():\n",
    "    dist.append((np.square(frame.xyz[ca_indices] - avg.xyz)).sum())\n",
    "    \n",
    "dist.index(min(dist))"
   ]
  },
  {
   "cell_type": "code",
   "execution_count": 65,
   "metadata": {},
   "outputs": [
    {
     "data": {
      "text/plain": [
       "14"
      ]
     },
     "execution_count": 65,
     "metadata": {},
     "output_type": "execute_result"
    }
   ],
   "source": [
    "# I could be using chain information but it wasn't working.\n",
    "mask_1xdx = \"(:20-110@CA)|(:163-253@CA)\"\n",
    "\n",
    "# Read NMR pdb\n",
    "trj = pt.load(os.path.join(tc_home, \"orig_1xdx.pdb\"))\n",
    "\n",
    "# Eliminate translation, if there is, and rmsdfit to the first frame using the mask.\n",
    "trj(autoimage=True, rmsfit = (0, mask_1xdx))\n",
    "avg = pt.mean_structure(trj, mask_1xdx)\n",
    "\n",
    "ca_indices = pt.select(mask_1xdx, trj.top)\n",
    "\n",
    "# Get the frame closest to the average\n",
    "dist = []\n",
    "for frame in trj.iterframe():\n",
    "    dist.append((np.square(frame.xyz[ca_indices] - avg.xyz)).sum())\n",
    "    \n",
    "dist.index(min(dist))"
   ]
  },
  {
   "cell_type": "code",
   "execution_count": 38,
   "metadata": {},
   "outputs": [
    {
     "data": {
      "text/plain": [
       "0"
      ]
     },
     "execution_count": 38,
     "metadata": {},
     "output_type": "execute_result"
    }
   ],
   "source": [
    "# I could be using chain information but it wasn't working.\n",
    "mask_1f96 = \"(:5-88@CA)|(:94-177@CA)\"\n",
    "\n",
    "# Read NMR pdb\n",
    "trj = pt.load(os.path.join(lc_home, \"1f96\", \"1F96.pdb\"))\n",
    "\n",
    "# Eliminate translation, if there is, and rmsdfit to the first frame using the mask.\n",
    "trj(autoimage=True, rmsfit = (0, mask_1f96))\n",
    "avg = pt.mean_structure(trj, mask_1f96)\n",
    "\n",
    "ca_indices = pt.select(mask_1f96, trj.top)\n",
    "\n",
    "# Get the frame closest to the average\n",
    "dist = []\n",
    "for frame in trj.iterframe():\n",
    "    dist.append((np.square(frame.xyz[ca_indices] - avg.xyz)).sum())\n",
    "    \n",
    "dist.index(min(dist))"
   ]
  }
 ],
 "metadata": {
  "kernelspec": {
   "display_name": "Python 3",
   "language": "python",
   "name": "python3"
  },
  "language_info": {
   "codemirror_mode": {
    "name": "ipython",
    "version": 3
   },
   "file_extension": ".py",
   "mimetype": "text/x-python",
   "name": "python",
   "nbconvert_exporter": "python",
   "pygments_lexer": "ipython3",
   "version": "3.6.8"
  }
 },
 "nbformat": 4,
 "nbformat_minor": 2
}
