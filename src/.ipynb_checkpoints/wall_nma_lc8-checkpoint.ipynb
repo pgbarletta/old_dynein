{
 "cells": [
  {
   "cell_type": "code",
   "execution_count": 17,
   "metadata": {},
   "outputs": [
    {
     "data": {
      "text/plain": [
       "\"/home/pbarletta/labo/19/dynein/run/lc8\""
      ]
     },
     "execution_count": 17,
     "metadata": {},
     "output_type": "execute_result"
    }
   ],
   "source": [
    "using DelimitedFiles, FileIO, LinearAlgebra, Statistics, DataFrames\n",
    "using Plots, LaTeXStrings, JUMD\n",
    "home_tctex = \"/home/pbarletta/labo/19/dynein/run/tctex\"\n",
    "home_lc8 = \"/home/pbarletta/labo/19/dynein/run/lc8\""
   ]
  },
  {
   "cell_type": "markdown",
   "metadata": {},
   "source": [
    "## wall residues"
   ]
  },
  {
   "cell_type": "code",
   "execution_count": 22,
   "metadata": {},
   "outputs": [],
   "source": [
    "# 15\n",
    "res_15_ecf = [4; 5; 6; 7; 8; 9; 58; 59; 60; 61; 62; 63; 64; 65; 66; 67; 68; 69; 70; 71; 72; 73; 77;\n",
    "    78; 79; 80; 81; 82; 83; 117; 118; 119; 120; 121; 122; 123; 124; 125; 126; 127; 128; 129]\n",
    "res_15_edf = [89; 90; 91; 92; 93; 94; 143; 144; 145; 146; 147; 148; 149; 150; 151; 152; 153; 154; 155;\n",
    "    156; 157; 158; 162; 163; 164; 165; 166; 167; 168; 32; 33; 34; 35; 36; 37; 38; 39; 40; 41; 42; 43; 44]\n",
    "#\n",
    "res_15_ecf_x = res_15_ecf .* 3 .- 2\n",
    "res_15_ecf_y = res_15_ecf .* 3 .- 1\n",
    "res_15_ecf_z = res_15_ecf .* 3\n",
    "res_15_ecf_3 = JUMD.triple(res_15_ecf)\n",
    "#\n",
    "res_15_edf_x = res_15_edf .* 3 .- 2\n",
    "res_15_edf_y = res_15_edf .* 3 .- 1\n",
    "res_15_edf_z = res_15_edf .* 3\n",
    "res_15_edf_3 = JUMD.triple(res_15_edf)\n",
    "# \n",
    "modes_15lf = readdlm(joinpath(home_lc8, \"15lf/modos/15lf.mods\"))\n",
    "evals_15lf = convert(Array{Float64, 1},\n",
    "    readdlm(joinpath(home_lc8, \"15lf/modos/15lf.freq\"))[8:end, 1])\n",
    "gnm_15lf = JUMD.toGnm(modes_15lf);\n",
    "#\n",
    "modes_15lb = readdlm(joinpath(home_lc8, \"15lb/modos/15lb.mods\"))\n",
    "evals_15lb = convert(Array{Float64, 1},\n",
    "    readdlm(joinpath(home_lc8, \"15lb/modos/15lb.freq\"))[8:end, 1])\n",
    "gnm_15lb = JUMD.toGnm(modes_15lb);"
   ]
  },
  {
   "cell_type": "code",
   "execution_count": 41,
   "metadata": {},
   "outputs": [],
   "source": [
    "# 16\n",
    "res_16_ecf = [4; 5; 6; 7; 8; 9; 58; 59; 60; 61; 62; 63; 64; 65; 66; 67; 68; 69; 70; 71; 72; 73; 77;\n",
    "    78; 79; 80; 81; 82; 83; 117; 118; 119; 120; 121; 122; 123; 124; 125; 126; 127; 128; 129]\n",
    "res_16_edf = [89; 90; 91; 92; 93; 94; 143; 144; 145; 146; 147; 148; 149; 150; 151; 152; 153; 154; 155;\n",
    "    156; 157; 158; 162; 163; 164; 165; 166; 167; 168; 32; 33; 34; 35; 36; 37; 38; 39; 40; 41; 42; 43; 44]\n",
    "#\n",
    "res_16_ecf_x = res_16_ecf .* 3 .- 2\n",
    "res_16_ecf_y = res_16_ecf .* 3 .- 1\n",
    "res_16_ecf_z = res_16_ecf .* 3\n",
    "res_16_ecf_3 = JUMD.triple(res_16_ecf)\n",
    "#\n",
    "res_16_edf_x = res_16_edf .* 3 .- 2\n",
    "res_16_edf_y = res_16_edf .* 3 .- 1\n",
    "res_16_edf_z = res_16_edf .* 3\n",
    "res_16_edf_3 = JUMD.triple(res_16_edf)\n",
    "# \n",
    "modes_16lf = readdlm(joinpath(home_lc8, \"16lf/modos/16lf.mods\"))\n",
    "evals_16lf = convert(Array{Float64, 1},\n",
    "    readdlm(joinpath(home_lc8, \"16lf/modos/16lf.freq\"))[8:end, 1])\n",
    "gnm_16lf = JUMD.toGnm(modes_16lf);\n",
    "#\n",
    "modes_16lb = readdlm(joinpath(home_lc8, \"16lb/modos/16lb.mods\"))\n",
    "evals_16lb = convert(Array{Float64, 1},\n",
    "    readdlm(joinpath(home_lc8, \"16lb/modos/16lb.freq\"))[8:end, 1])\n",
    "gnm_16lb = JUMD.toGnm(modes_16lb);"
   ]
  },
  {
   "cell_type": "code",
   "execution_count": 63,
   "metadata": {},
   "outputs": [],
   "source": [
    "# 1c\n",
    "res_1c_ecf = [4; 5; 6; 7; 8; 9; 58; 59; 60; 61; 62; 63; 64; 65; 66; 67; 68; 69; 70; 71; 72; 73; 77;\n",
    "    78; 79; 80; 81; 82; 83; 117; 118; 119; 120; 121; 122; 123; 124; 125; 126; 127; 128; 129]\n",
    "res_1c_edf = [89; 90; 91; 92; 93; 94; 143; 144; 145; 146; 147; 148; 149; 150; 151; 152; 153; 154; 155;\n",
    "    156; 157; 158; 162; 163; 164; 165; 166; 167; 168; 32; 33; 34; 35; 36; 37; 38; 39; 40; 41; 42; 43; 44]\n",
    "#\n",
    "res_1c_ecf_x = res_1c_ecf .* 3 .- 2\n",
    "res_1c_ecf_y = res_1c_ecf .* 3 .- 1\n",
    "res_1c_ecf_z = res_1c_ecf .* 3\n",
    "res_1c_ecf_3 = JUMD.triple(res_1c_ecf)\n",
    "#\n",
    "res_1c_edf_x = res_1c_edf .* 3 .- 2\n",
    "res_1c_edf_y = res_1c_edf .* 3 .- 1\n",
    "res_1c_edf_z = res_1c_edf .* 3\n",
    "res_1c_edf_3 = JUMD.triple(res_1c_edf)\n",
    "# \n",
    "modes_1clf = readdlm(joinpath(home_lc8, \"1clf/modos/1clf.mods\"))\n",
    "evals_1clf = convert(Array{Float64, 1},\n",
    "    readdlm(joinpath(home_lc8, \"1clf/modos/1clf.freq\"))[8:end, 1])\n",
    "gnm_1clf = JUMD.toGnm(modes_1clf);\n",
    "#\n",
    "modes_1clb = readdlm(joinpath(home_lc8, \"1clb/modos/1clb.mods\"))\n",
    "evals_1clb = convert(Array{Float64, 1},\n",
    "    readdlm(joinpath(home_lc8, \"1clb/modos/1clb.freq\"))[8:end, 1])\n",
    "gnm_1clb = JUMD.toGnm(modes_1clb);"
   ]
  },
  {
   "cell_type": "code",
   "execution_count": 65,
   "metadata": {},
   "outputs": [],
   "source": [
    "# 2p\n",
    "res_2p_ecf = [4; 5; 6; 7; 8; 9; 58; 59; 60; 61; 62; 63; 64; 65; 66; 67; 68; 69; 70; 71; 72; 73; 77;\n",
    "    78; 79; 80; 81; 82; 83; 117; 118; 119; 120; 121; 122; 123; 124; 125; 126; 127; 128; 129]\n",
    "res_2p_edf = [89; 90; 91; 92; 93; 94; 143; 144; 145; 146; 147; 148; 149; 150; 151; 152; 153; 154; 155;\n",
    "    156; 157; 158; 162; 163; 164; 165; 166; 167; 168; 32; 33; 34; 35; 36; 37; 38; 39; 40; 41; 42; 43; 44]\n",
    "#\n",
    "res_2p_ecf_x = res_2p_ecf .* 3 .- 2\n",
    "res_2p_ecf_y = res_2p_ecf .* 3 .- 1\n",
    "res_2p_ecf_z = res_2p_ecf .* 3\n",
    "res_2p_ecf_3 = JUMD.triple(res_2p_ecf)\n",
    "#\n",
    "res_2p_edf_x = res_2p_edf .* 3 .- 2\n",
    "res_2p_edf_y = res_2p_edf .* 3 .- 1\n",
    "res_2p_edf_z = res_2p_edf .* 3\n",
    "res_2p_edf_3 = JUMD.triple(res_2p_edf)\n",
    "# \n",
    "modes_2plf = readdlm(joinpath(home_lc8, \"2plf/modos/2plf.mods\"))\n",
    "evals_2plf = convert(Array{Float64, 1},\n",
    "    readdlm(joinpath(home_lc8, \"2plf/modos/2plf.freq\"))[8:end, 1])\n",
    "gnm_2plf = JUMD.toGnm(modes_2plf);\n",
    "#\n",
    "modes_2plb = readdlm(joinpath(home_lc8, \"2plb/modos/2plb.mods\"))\n",
    "evals_2plb = convert(Array{Float64, 1},\n",
    "    readdlm(joinpath(home_lc8, \"2plb/modos/2plb.freq\"))[8:end, 1])\n",
    "gnm_2plb = JUMD.toGnm(modes_2plb);"
   ]
  },
  {
   "cell_type": "code",
   "execution_count": 66,
   "metadata": {},
   "outputs": [],
   "source": [
    "# 2x\n",
    "res_2x_ecf = [4; 5; 6; 7; 8; 9; 58; 59; 60; 61; 62; 63; 64; 65; 66; 67; 68; 69; 70; 71; 72; 73; 77;\n",
    "    78; 79; 80; 81; 82; 83; 117; 118; 119; 120; 121; 122; 123; 124; 125; 126; 127; 128; 129]\n",
    "res_2x_edf = [89; 90; 91; 92; 93; 94; 143; 144; 145; 146; 147; 148; 149; 150; 151; 152; 153; 154; 155;\n",
    "    156; 157; 158; 162; 163; 164; 165; 166; 167; 168; 32; 33; 34; 35; 36; 37; 38; 39; 40; 41; 42; 43; 44]\n",
    "#\n",
    "res_2x_ecf_x = res_2x_ecf .* 3 .- 2\n",
    "res_2x_ecf_y = res_2x_ecf .* 3 .- 1\n",
    "res_2x_ecf_z = res_2x_ecf .* 3\n",
    "res_2x_ecf_3 = JUMD.triple(res_2x_ecf)\n",
    "#\n",
    "res_2x_edf_x = res_2x_edf .* 3 .- 2\n",
    "res_2x_edf_y = res_2x_edf .* 3 .- 1\n",
    "res_2x_edf_z = res_2x_edf .* 3\n",
    "res_2x_edf_3 = JUMD.triple(res_2x_edf)\n",
    "# \n",
    "modes_2xlf = readdlm(joinpath(home_lc8, \"2xlf/modos/2xlf.mods\"))\n",
    "evals_2xlf = convert(Array{Float64, 1},\n",
    "    readdlm(joinpath(home_lc8, \"2xlf/modos/2xlf.freq\"))[8:end, 1])\n",
    "gnm_2xlf = JUMD.toGnm(modes_2xlf);\n",
    "#\n",
    "modes_2xlb = readdlm(joinpath(home_lc8, \"2xlb/modos/2xlb.mods\"))\n",
    "evals_2xlb = convert(Array{Float64, 1},\n",
    "    readdlm(joinpath(home_lc8, \"2xlb/modos/2xlb.freq\"))[8:end, 1])\n",
    "gnm_2xlb = JUMD.toGnm(modes_2xlb);"
   ]
  },
  {
   "cell_type": "code",
   "execution_count": 67,
   "metadata": {},
   "outputs": [],
   "source": [
    "# 3f\n",
    "res_3f_ecf = [4; 5; 6; 7; 8; 9; 58; 59; 60; 61; 62; 63; 64; 65; 66; 67; 68; 69; 70; 71; 72; 73; 77;\n",
    "    78; 79; 80; 81; 82; 83; 117; 118; 119; 120; 121; 122; 123; 124; 125; 126; 127; 128; 129]\n",
    "res_3f_edf = [89; 90; 91; 92; 93; 94; 143; 144; 145; 146; 147; 148; 149; 150; 151; 152; 153; 154; 155;\n",
    "    156; 157; 158; 162; 163; 164; 165; 166; 167; 168; 32; 33; 34; 35; 36; 37; 38; 39; 40; 41; 42; 43; 44]\n",
    "#\n",
    "res_3f_ecf_x = res_3f_ecf .* 3 .- 2\n",
    "res_3f_ecf_y = res_3f_ecf .* 3 .- 1\n",
    "res_3f_ecf_z = res_3f_ecf .* 3\n",
    "res_3f_ecf_3 = JUMD.triple(res_3f_ecf)\n",
    "#\n",
    "res_3f_edf_x = res_3f_edf .* 3 .- 2\n",
    "res_3f_edf_y = res_3f_edf .* 3 .- 1\n",
    "res_3f_edf_z = res_3f_edf .* 3\n",
    "res_3f_edf_3 = JUMD.triple(res_3f_edf)\n",
    "# \n",
    "modes_3flf = readdlm(joinpath(home_lc8, \"3flf/modos/3flf.mods\"))\n",
    "evals_3flf = convert(Array{Float64, 1},\n",
    "    readdlm(joinpath(home_lc8, \"3flf/modos/3flf.freq\"))[8:end, 1])\n",
    "gnm_3flf = JUMD.toGnm(modes_3flf);\n",
    "#\n",
    "modes_3flb = readdlm(joinpath(home_lc8, \"3flb/modos/3flb.mods\"))\n",
    "evals_3flb = convert(Array{Float64, 1},\n",
    "    readdlm(joinpath(home_lc8, \"3flb/modos/3flb.freq\"))[8:end, 1])\n",
    "gnm_3flb = JUMD.toGnm(modes_3flb);"
   ]
  },
  {
   "cell_type": "code",
   "execution_count": 68,
   "metadata": {},
   "outputs": [],
   "source": [
    "# 3g\n",
    "res_3g_ecf = [4; 5; 6; 7; 8; 9; 58; 59; 60; 61; 62; 63; 64; 65; 66; 67; 68; 69; 70; 71; 72; 73; 77;\n",
    "    78; 79; 80; 81; 82; 83; 117; 118; 119; 120; 121; 122; 123; 124; 125; 126; 127; 128; 129]\n",
    "res_3g_edf = [89; 90; 91; 92; 93; 94; 143; 144; 145; 146; 147; 148; 149; 150; 151; 152; 153; 154; 155;\n",
    "    156; 157; 158; 162; 163; 164; 165; 166; 167; 168; 32; 33; 34; 35; 36; 37; 38; 39; 40; 41; 42; 43; 44]\n",
    "#\n",
    "res_3g_ecf_x = res_3g_ecf .* 3 .- 2\n",
    "res_3g_ecf_y = res_3g_ecf .* 3 .- 1\n",
    "res_3g_ecf_z = res_3g_ecf .* 3\n",
    "res_3g_ecf_3 = JUMD.triple(res_3g_ecf)\n",
    "#\n",
    "res_3g_edf_x = res_3g_edf .* 3 .- 2\n",
    "res_3g_edf_y = res_3g_edf .* 3 .- 1\n",
    "res_3g_edf_z = res_3g_edf .* 3\n",
    "res_3g_edf_3 = JUMD.triple(res_3g_edf)\n",
    "# \n",
    "modes_3glf = readdlm(joinpath(home_lc8, \"3glf/modos/3glf.mods\"))\n",
    "evals_3glf = convert(Array{Float64, 1},\n",
    "    readdlm(joinpath(home_lc8, \"3glf/modos/3glf.freq\"))[8:end, 1])\n",
    "gnm_3glf = JUMD.toGnm(modes_3glf);\n",
    "#\n",
    "modes_3glb = readdlm(joinpath(home_lc8, \"3glb/modos/3glb.mods\"))\n",
    "evals_3glb = convert(Array{Float64, 1},\n",
    "    readdlm(joinpath(home_lc8, \"3glb/modos/3glb.freq\"))[8:end, 1])\n",
    "gnm_3glb = JUMD.toGnm(modes_3glb);"
   ]
  },
  {
   "cell_type": "code",
   "execution_count": 69,
   "metadata": {},
   "outputs": [],
   "source": [
    "# 3z\n",
    "res_3z_ecf = [4; 5; 6; 7; 8; 9; 58; 59; 60; 61; 62; 63; 64; 65; 66; 67; 68; 69; 70; 71; 72; 73; 77;\n",
    "    78; 79; 80; 81; 82; 83; 117; 118; 119; 120; 121; 122; 123; 124; 125; 126; 127; 128; 129]\n",
    "res_3z_edf = [89; 90; 91; 92; 93; 94; 143; 144; 145; 146; 147; 148; 149; 150; 151; 152; 153; 154; 155;\n",
    "    156; 157; 158; 162; 163; 164; 165; 166; 167; 168; 32; 33; 34; 35; 36; 37; 38; 39; 40; 41; 42; 43; 44]\n",
    "#\n",
    "res_3z_ecf_x = res_3z_ecf .* 3 .- 2\n",
    "res_3z_ecf_y = res_3z_ecf .* 3 .- 1\n",
    "res_3z_ecf_z = res_3z_ecf .* 3\n",
    "res_3z_ecf_3 = JUMD.triple(res_3z_ecf)\n",
    "#\n",
    "res_3z_edf_x = res_3z_edf .* 3 .- 2\n",
    "res_3z_edf_y = res_3z_edf .* 3 .- 1\n",
    "res_3z_edf_z = res_3z_edf .* 3\n",
    "res_3z_edf_3 = JUMD.triple(res_3z_edf)\n",
    "# \n",
    "modes_3zlf = readdlm(joinpath(home_lc8, \"3zlf/modos/3zlf.mods\"))\n",
    "evals_3zlf = convert(Array{Float64, 1},\n",
    "    readdlm(joinpath(home_lc8, \"3zlf/modos/3zlf.freq\"))[8:end, 1])\n",
    "gnm_3zlf = JUMD.toGnm(modes_3zlf);\n",
    "#\n",
    "modes_3zlb = readdlm(joinpath(home_lc8, \"3zlb/modos/3zlb.mods\"))\n",
    "evals_3zlb = convert(Array{Float64, 1},\n",
    "    readdlm(joinpath(home_lc8, \"3zlb/modos/3zlb.freq\"))[8:end, 1])\n",
    "gnm_3zlb = JUMD.toGnm(modes_3zlb);"
   ]
  },
  {
   "cell_type": "code",
   "execution_count": 70,
   "metadata": {},
   "outputs": [],
   "source": [
    "# adpter_4q_lc8 = [ collect(4:252) ; collect(256:504)]\n",
    "# 4q\n",
    "res_4q_ecf = [ 3; 4; 5; 6; 7; 8; 57; 58; 59; 60; 61; 62; 63; 64; 65; 66; 67; 68; 69; 70; 71; 72; 76;\n",
    "    77; 78; 79; 80; 81; 82; 114; 115; 116; 117; 118; 119; 120; 121; 122; 123; 124; 125; 126 ]\n",
    "res_4q_edf = [86; 87; 88; 89; 90; 91; 140; 141; 142; 143; 144; 145; 146; 147; 148; 149; 150; 151; 152;\n",
    "    153; 154; 155; 159; 160; 161; 162; 163; 164; 165; 31; 32; 33; 34; 35; 36; 37; 38; 39; 40; 41; 42; 43]\n",
    "#\n",
    "\n",
    "res_4q_ecf_x = res_4q_ecf .* 3 .- 2\n",
    "res_4q_ecf_y = res_4q_ecf .* 3 .- 1\n",
    "res_4q_ecf_z = res_4q_ecf .* 3\n",
    "res_4q_ecf_3 = JUMD.triple(res_4q_ecf)\n",
    "#\n",
    "res_4q_edf_x = res_4q_edf .* 3 .- 2\n",
    "res_4q_edf_y = res_4q_edf .* 3 .- 1\n",
    "res_4q_edf_z = res_4q_edf .* 3\n",
    "res_4q_edf_3 = JUMD.triple(res_4q_edf)\n",
    "# \n",
    "modes_4qlf = readdlm(joinpath(home_lc8, \"4qlf/modos/4qlf.mods\"))\n",
    "evals_4qlf = convert(Array{Float64, 1},\n",
    "    readdlm(joinpath(home_lc8, \"4qlf/modos/4qlf.freq\"))[8:end, 1])\n",
    "gnm_4qlf = JUMD.toGnm(modes_4qlf);\n",
    "#\n",
    "modes_4qlb = readdlm(joinpath(home_lc8, \"4qlb/modos/4qlb.mods\"))\n",
    "evals_4qlb = convert(Array{Float64, 1},\n",
    "    readdlm(joinpath(home_lc8, \"4qlb/modos/4qlb.freq\"))[8:end, 1])\n",
    "gnm_4qlb = JUMD.toGnm(modes_4qlb);"
   ]
  },
  {
   "cell_type": "markdown",
   "metadata": {},
   "source": [
    "## Correlaciones"
   ]
  },
  {
   "cell_type": "code",
   "execution_count": 109,
   "metadata": {},
   "outputs": [
    {
     "data": {
      "text/html": [
       "<table class=\"data-frame\"><thead><tr><th></th><th>1F95</th><th>1F96</th><th>1CMI</th><th>2P2P</th><th>2XQQ</th><th>3FM7</th><th>3GLW</th><th>3ZKE</th><th>4QH7</th></tr><tr><th></th><th>Float64</th><th>Float64</th><th>Float64</th><th>Float64</th><th>Float64</th><th>Float64</th><th>Float64</th><th>Float64</th><th>Float64</th></tr></thead><tbody><p>9 rows × 9 columns</p><tr><th>1</th><td>1.0</td><td>-0.989707</td><td>0.99312</td><td>0.992456</td><td>-0.996065</td><td>-0.989409</td><td>0.994586</td><td>-0.991878</td><td>0.993844</td></tr><tr><th>2</th><td>-0.989707</td><td>1.0</td><td>-0.983392</td><td>-0.981374</td><td>0.988834</td><td>0.974635</td><td>-0.982769</td><td>0.979072</td><td>-0.983683</td></tr><tr><th>3</th><td>0.99312</td><td>-0.983392</td><td>1.0</td><td>0.996468</td><td>-0.996736</td><td>-0.993985</td><td>0.996858</td><td>-0.996396</td><td>0.996749</td></tr><tr><th>4</th><td>0.992456</td><td>-0.981374</td><td>0.996468</td><td>1.0</td><td>-0.998071</td><td>-0.997778</td><td>0.998853</td><td>-0.999106</td><td>0.99397</td></tr><tr><th>5</th><td>-0.996065</td><td>0.988834</td><td>-0.996736</td><td>-0.998071</td><td>1.0</td><td>0.994848</td><td>-0.997984</td><td>0.997633</td><td>-0.995876</td></tr><tr><th>6</th><td>-0.989409</td><td>0.974635</td><td>-0.993985</td><td>-0.997778</td><td>0.994848</td><td>1.0</td><td>-0.9973</td><td>0.998418</td><td>-0.992624</td></tr><tr><th>7</th><td>0.994586</td><td>-0.982769</td><td>0.996858</td><td>0.998853</td><td>-0.997984</td><td>-0.9973</td><td>1.0</td><td>-0.998472</td><td>0.995589</td></tr><tr><th>8</th><td>-0.991878</td><td>0.979072</td><td>-0.996396</td><td>-0.999106</td><td>0.997633</td><td>0.998418</td><td>-0.998472</td><td>1.0</td><td>-0.994636</td></tr><tr><th>9</th><td>0.993844</td><td>-0.983683</td><td>0.996749</td><td>0.99397</td><td>-0.995876</td><td>-0.992624</td><td>0.995589</td><td>-0.994636</td><td>1.0</td></tr></tbody></table>"
      ],
      "text/latex": [
       "\\begin{tabular}{r|ccccccccc}\n",
       "\t& 1F95 & 1F96 & 1CMI & 2P2P & 2XQQ & 3FM7 & 3GLW & 3ZKE & 4QH7\\\\\n",
       "\t\\hline\n",
       "\t& Float64 & Float64 & Float64 & Float64 & Float64 & Float64 & Float64 & Float64 & Float64\\\\\n",
       "\t\\hline\n",
       "\t1 & 1.0 & -0.989707 & 0.99312 & 0.992456 & -0.996065 & -0.989409 & 0.994586 & -0.991878 & 0.993844 \\\\\n",
       "\t2 & -0.989707 & 1.0 & -0.983392 & -0.981374 & 0.988834 & 0.974635 & -0.982769 & 0.979072 & -0.983683 \\\\\n",
       "\t3 & 0.99312 & -0.983392 & 1.0 & 0.996468 & -0.996736 & -0.993985 & 0.996858 & -0.996396 & 0.996749 \\\\\n",
       "\t4 & 0.992456 & -0.981374 & 0.996468 & 1.0 & -0.998071 & -0.997778 & 0.998853 & -0.999106 & 0.99397 \\\\\n",
       "\t5 & -0.996065 & 0.988834 & -0.996736 & -0.998071 & 1.0 & 0.994848 & -0.997984 & 0.997633 & -0.995876 \\\\\n",
       "\t6 & -0.989409 & 0.974635 & -0.993985 & -0.997778 & 0.994848 & 1.0 & -0.9973 & 0.998418 & -0.992624 \\\\\n",
       "\t7 & 0.994586 & -0.982769 & 0.996858 & 0.998853 & -0.997984 & -0.9973 & 1.0 & -0.998472 & 0.995589 \\\\\n",
       "\t8 & -0.991878 & 0.979072 & -0.996396 & -0.999106 & 0.997633 & 0.998418 & -0.998472 & 1.0 & -0.994636 \\\\\n",
       "\t9 & 0.993844 & -0.983683 & 0.996749 & 0.99397 & -0.995876 & -0.992624 & 0.995589 & -0.994636 & 1.0 \\\\\n",
       "\\end{tabular}\n"
      ],
      "text/plain": [
       "9×9 DataFrame. Omitted printing of 3 columns\n",
       "│ Row │ 1F95      │ 1F96      │ 1CMI      │ 2P2P      │ 2XQQ      │ 3FM7      │\n",
       "│     │ \u001b[90mFloat64\u001b[39m   │ \u001b[90mFloat64\u001b[39m   │ \u001b[90mFloat64\u001b[39m   │ \u001b[90mFloat64\u001b[39m   │ \u001b[90mFloat64\u001b[39m   │ \u001b[90mFloat64\u001b[39m   │\n",
       "├─────┼───────────┼───────────┼───────────┼───────────┼───────────┼───────────┤\n",
       "│ 1   │ 1.0       │ -0.989707 │ 0.99312   │ 0.992456  │ -0.996065 │ -0.989409 │\n",
       "│ 2   │ -0.989707 │ 1.0       │ -0.983392 │ -0.981374 │ 0.988834  │ 0.974635  │\n",
       "│ 3   │ 0.99312   │ -0.983392 │ 1.0       │ 0.996468  │ -0.996736 │ -0.993985 │\n",
       "│ 4   │ 0.992456  │ -0.981374 │ 0.996468  │ 1.0       │ -0.998071 │ -0.997778 │\n",
       "│ 5   │ -0.996065 │ 0.988834  │ -0.996736 │ -0.998071 │ 1.0       │ 0.994848  │\n",
       "│ 6   │ -0.989409 │ 0.974635  │ -0.993985 │ -0.997778 │ 0.994848  │ 1.0       │\n",
       "│ 7   │ 0.994586  │ -0.982769 │ 0.996858  │ 0.998853  │ -0.997984 │ -0.9973   │\n",
       "│ 8   │ -0.991878 │ 0.979072  │ -0.996396 │ -0.999106 │ 0.997633  │ 0.998418  │\n",
       "│ 9   │ 0.993844  │ -0.983683 │ 0.996749  │ 0.99397   │ -0.995876 │ -0.992624 │"
      ]
     },
     "execution_count": 109,
     "metadata": {},
     "output_type": "execute_result"
    }
   ],
   "source": [
    "mtx_lc8_1 = hcat(modes_15lf[res_15_ecf_x, 1], modes_16lf[res_16_ecf_x, 1],\n",
    "    modes_1clf[res_1c_ecf_x, 1],  modes_2plf[res_2p_ecf_x, 1], modes_2xlf[res_2x_ecf_x, 1],\n",
    "    modes_3flf[res_3f_ecf_x, 1],  modes_3glf[res_3g_ecf_x, 1], modes_3zlf[res_3z_ecf_x, 1],\n",
    "    modes_4qlf[res_4q_ecf_x, 1])\n",
    "\n",
    "df_cor_lc8_1_x = DataFrame(cor(mtx_lc8_1))\n",
    "rename!(df_cor_lc8_1_x, :x1 => Symbol(\"1F95\"))\n",
    "rename!(df_cor_lc8_1_x, :x2 => Symbol(\"1F96\"))\n",
    "rename!(df_cor_lc8_1_x, :x3 => Symbol(\"1CMI\"))\n",
    "rename!(df_cor_lc8_1_x, :x4 => Symbol(\"2P2P\"))\n",
    "rename!(df_cor_lc8_1_x, :x5 => Symbol(\"2XQQ\"))\n",
    "rename!(df_cor_lc8_1_x, :x6 => Symbol(\"3FM7\"))\n",
    "rename!(df_cor_lc8_1_x, :x7 => Symbol(\"3GLW\"))\n",
    "rename!(df_cor_lc8_1_x, :x8 => Symbol(\"3ZKE\"))\n",
    "rename!(df_cor_lc8_1_x, :x9 => Symbol(\"4QH7\"))\n",
    "\n",
    "#####################\n",
    "\n",
    "mtx_lc8_1 = hcat(modes_15lf[res_15_ecf_y, 1], modes_16lf[res_16_ecf_y, 1],\n",
    "    modes_1clf[res_1c_ecf_y, 1],  modes_2plf[res_2p_ecf_y, 1], modes_2xlf[res_2x_ecf_y, 1],\n",
    "    modes_3flf[res_3f_ecf_y, 1],  modes_3glf[res_3g_ecf_y, 1], modes_3zlf[res_3z_ecf_y, 1],\n",
    "    modes_4qlf[res_4q_ecf_y, 1])\n",
    "\n",
    "df_cor_lc8_1_y = DataFrame(cor(mtx_lc8_1))\n",
    "rename!(df_cor_lc8_1_y, :x1 => Symbol(\"1F95\"))\n",
    "rename!(df_cor_lc8_1_y, :x2 => Symbol(\"1F96\"))\n",
    "rename!(df_cor_lc8_1_y, :x3 => Symbol(\"1CMI\"))\n",
    "rename!(df_cor_lc8_1_y, :x4 => Symbol(\"2P2P\"))\n",
    "rename!(df_cor_lc8_1_y, :x5 => Symbol(\"2XQQ\"))\n",
    "rename!(df_cor_lc8_1_y, :x6 => Symbol(\"3FM7\"))\n",
    "rename!(df_cor_lc8_1_y, :x7 => Symbol(\"3GLW\"))\n",
    "rename!(df_cor_lc8_1_y, :x8 => Symbol(\"3ZKE\"))\n",
    "rename!(df_cor_lc8_1_y, :x9 => Symbol(\"4QH7\"))\n",
    "\n",
    "####################\n",
    "\n",
    "mtx_lc8_1 = hcat(modes_15lf[res_15_ecf_z, 1], modes_16lf[res_16_ecf_z, 1],\n",
    "    modes_1clf[res_1c_ecf_z, 1],  modes_2plf[res_2p_ecf_z, 1], modes_2xlf[res_2x_ecf_z, 1],\n",
    "    modes_3flf[res_3f_ecf_z, 1],  modes_3glf[res_3g_ecf_z, 1], modes_3zlf[res_3z_ecf_z, 1],\n",
    "    modes_4qlf[res_4q_ecf_z, 1])\n",
    "\n",
    "df_cor_lc8_1_z = DataFrame(cor(mtx_lc8_1))\n",
    "rename!(df_cor_lc8_1_z, :x1 => Symbol(\"1F95\"))\n",
    "rename!(df_cor_lc8_1_z, :x2 => Symbol(\"1F96\"))\n",
    "rename!(df_cor_lc8_1_z, :x3 => Symbol(\"1CMI\"))\n",
    "rename!(df_cor_lc8_1_z, :x4 => Symbol(\"2P2P\"))\n",
    "rename!(df_cor_lc8_1_z, :x5 => Symbol(\"2XQQ\"))\n",
    "rename!(df_cor_lc8_1_z, :x6 => Symbol(\"3FM7\"))\n",
    "rename!(df_cor_lc8_1_z, :x7 => Symbol(\"3GLW\"))\n",
    "rename!(df_cor_lc8_1_z, :x8 => Symbol(\"3ZKE\"))\n",
    "rename!(df_cor_lc8_1_z, :x9 => Symbol(\"4QH7\"))\n",
    "\n",
    "####################\n",
    "\n",
    "mtx_lc8_1 = hcat(gnm_15lf[res_15_ecf, 1], gnm_16lf[res_16_ecf, 1], \n",
    "    gnm_1clf[res_1c_ecf, 1],  gnm_2plf[res_2p_ecf, 1], gnm_2xlf[res_2x_ecf, 1],\n",
    "    gnm_3flf[res_3f_ecf, 1],  gnm_3glf[res_3g_ecf, 1], gnm_3zlf[res_3z_ecf, 1],\n",
    "    gnm_4qlf[res_4q_ecf, 1])\n",
    "\n",
    "df_cor_lc8_1 = DataFrame(cor(mtx_lc8_1))\n",
    "rename!(df_cor_lc8_1, :x1 => Symbol(\"1F95\"))\n",
    "rename!(df_cor_lc8_1, :x2 => Symbol(\"1F96\"))\n",
    "rename!(df_cor_lc8_1, :x3 => Symbol(\"1CMI\"))\n",
    "rename!(df_cor_lc8_1, :x4 => Symbol(\"2P2P\"))\n",
    "rename!(df_cor_lc8_1, :x5 => Symbol(\"2XQQ\"))\n",
    "rename!(df_cor_lc8_1, :x6 => Symbol(\"3FM7\"))\n",
    "rename!(df_cor_lc8_1, :x7 => Symbol(\"3GLW\"))\n",
    "rename!(df_cor_lc8_1, :x8 => Symbol(\"3ZKE\"))\n",
    "rename!(df_cor_lc8_1, :x9 => Symbol(\"4QH7\"))\n",
    "\n",
    "####################\n",
    "\n",
    "mtx_lc8_1 = hcat(modes_15lf[res_15_ecf_3, 1], modes_16lf[res_16_ecf_3, 1],\n",
    "    modes_1clf[res_1c_ecf_3, 1],  modes_2plf[res_2p_ecf_3, 1], modes_2xlf[res_2x_ecf_3, 1],\n",
    "    modes_3flf[res_3f_ecf_3, 1],  modes_3glf[res_3g_ecf_3, 1], modes_3zlf[res_3z_ecf_3, 1],\n",
    "    modes_4qlf[res_4q_ecf_3, 1])\n",
    "\n",
    "df_cor_lc8_1_3 = DataFrame(cor(mtx_lc8_1))\n",
    "rename!(df_cor_lc8_1_3, :x1 => Symbol(\"1F95\"))\n",
    "rename!(df_cor_lc8_1_3, :x2 => Symbol(\"1F96\"))\n",
    "rename!(df_cor_lc8_1_3, :x3 => Symbol(\"1CMI\"))\n",
    "rename!(df_cor_lc8_1_3, :x4 => Symbol(\"2P2P\"))\n",
    "rename!(df_cor_lc8_1_3, :x5 => Symbol(\"2XQQ\"))\n",
    "rename!(df_cor_lc8_1_3, :x6 => Symbol(\"3FM7\"))\n",
    "rename!(df_cor_lc8_1_3, :x7 => Symbol(\"3GLW\"))\n",
    "rename!(df_cor_lc8_1_3, :x8 => Symbol(\"3ZKE\"))\n",
    "rename!(df_cor_lc8_1_3, :x9 => Symbol(\"4QH7\"))"
   ]
  },
  {
   "cell_type": "code",
   "execution_count": 112,
   "metadata": {},
   "outputs": [
    {
     "data": {
      "text/plain": [
       "1×9 Array{Float64,2}:\n",
       " 0.993452  0.984829  0.994856  0.995342  …  0.995823  0.995068  0.994108"
      ]
     },
     "execution_count": 112,
     "metadata": {},
     "output_type": "execute_result"
    }
   ],
   "source": [
    "mapslices(x -> mean(abs.(x)), cor(mtx_lc8_1), dims = 1)"
   ]
  },
  {
   "cell_type": "code",
   "execution_count": 114,
   "metadata": {},
   "outputs": [
    {
     "data": {
      "text/plain": [
       "SVD{Float64,Float64,Array{Float64,2}}([-0.135259 -0.0303515 … -0.158914 -0.19585; -0.162237 -0.0423859 … -0.0576556 -0.0745177; … ; 0.191693 -0.038296 … 0.0150964 -0.0797842; -0.00714975 0.101141 … 0.177126 -0.0656412], [1.34613, 0.0859464, 0.0428658, 0.0347633, 0.026065, 0.0195807, 0.016552, 0.010896, 0.00936526], [-0.337567 0.344004 … 0.327669 -0.336602; 0.240092 -0.805136 … 0.272117 -0.0120012; … ; -0.0590531 -0.0504589 … -0.605365 -0.115655; 0.11098 -0.105764 … -0.491653 0.0901082])"
      ]
     },
     "execution_count": 114,
     "metadata": {},
     "output_type": "execute_result"
    }
   ],
   "source": [
    "mtx_lc8_1 = hcat(modes_15lf[res_15_ecf_3, 1], modes_16lf[res_16_ecf_3, 1],\n",
    "    modes_1clf[res_1c_ecf_3, 1],  modes_2plf[res_2p_ecf_3, 1], modes_2xlf[res_2x_ecf_3, 1],\n",
    "    modes_3flf[res_3f_ecf_3, 1],  modes_3glf[res_3g_ecf_3, 1], modes_3zlf[res_3z_ecf_3, 1],\n",
    "    modes_4qlf[res_4q_ecf_3, 1])\n",
    "\n",
    "u, d, v = svd(mtx_lc8_1)"
   ]
  },
  {
   "cell_type": "code",
   "execution_count": 116,
   "metadata": {},
   "outputs": [
    {
     "data": {
      "text/plain": [
       "0.99671176902377"
      ]
     },
     "execution_count": 116,
     "metadata": {},
     "output_type": "execute_result"
    }
   ],
   "source": [
    "d[1] ./ norm(d)"
   ]
  },
  {
   "cell_type": "code",
   "execution_count": 98,
   "metadata": {},
   "outputs": [
    {
     "data": {
      "text/plain": [
       "498×492 Array{Float64,2}:\n",
       "  0.090701  -0.053807  -0.003041  …   0.003414   0.000325  -0.008065\n",
       "  0.032602   0.025476  -0.06506      -0.004937   0.002562   0.014093\n",
       " -0.014324   0.081268  -0.098157      0.006401  -0.004699  -0.013594\n",
       "  0.090052  -0.023926   0.010195      0.008967  -0.006161  -0.007262\n",
       "  0.058418   0.013732  -0.027065     -0.01043    0.008088   0.01239 \n",
       " -0.014217   0.116001  -0.118423  …   0.004205  -0.004114  -0.004123\n",
       "  0.060132  -0.008782   0.004205      0.014293  -0.005184  -0.013414\n",
       "  0.074966   0.004779  -0.008444     -0.01311    0.008418   0.011721\n",
       " -0.00443    0.116808  -0.078555      0.002531  -0.001057  -0.002002\n",
       "  0.058914   0.017475   0.016712      0.016333   0.005077   0.006009\n",
       "  0.08353   -0.000893   0.030073  …  -0.011403   0.000458  -0.001426\n",
       " -0.015074   0.087638  -0.052962      0.002796   0.016416   0.010735\n",
       "  0.036578   0.016751   0.016683      0.028106  -0.001885   0.010253\n",
       "  ⋮                               ⋱              ⋮                  \n",
       "  0.016207   0.027294   0.01072       0.050263   0.0562     0.021052\n",
       "  0.004795  -0.007513   0.029113     -0.183871  -0.233047  -0.04089 \n",
       " -0.001761   0.004486  -0.007123     -0.020234   0.022142  -0.11868 \n",
       "  0.03615    0.04018    0.015702     -0.007953   0.001401  -0.009955\n",
       "  0.005408  -0.008831   0.041165  …   0.025254  -0.029606   0.005216\n",
       " -0.00795    0.004519  -0.019845      0.002238   0.036943  -0.101141\n",
       "  0.051591   0.04867    0.020444      0.004079  -0.004849   0.002914\n",
       " -0.007693  -0.011177   0.040587      0.0594     0.020703   0.01639 \n",
       " -0.011372  -0.005958  -0.025045      0.002779   0.026434  -0.047209\n",
       "  0.036185   0.074826   0.026693  …   0.006649  -0.003349   0.00315 \n",
       " -0.008919  -0.014179   0.047632      0.06459    0.010552   0.043619\n",
       " -0.009202  -0.014405  -0.008936      0.003804   0.043341  -0.017172"
      ]
     },
     "execution_count": 98,
     "metadata": {},
     "output_type": "execute_result"
    }
   ],
   "source": [
    "modes_4qlf[res_4q_ecf, 1]"
   ]
  },
  {
   "cell_type": "code",
   "execution_count": 106,
   "metadata": {},
   "outputs": [
    {
     "data": {
      "text/plain": [
       "42-element Array{Int64,1}:\n",
       "   3\n",
       "   4\n",
       "   5\n",
       "   6\n",
       "   7\n",
       "   8\n",
       "  57\n",
       "  58\n",
       "  59\n",
       "  60\n",
       "  61\n",
       "  62\n",
       "  63\n",
       "   ⋮\n",
       " 115\n",
       " 116\n",
       " 117\n",
       " 118\n",
       " 119\n",
       " 120\n",
       " 121\n",
       " 122\n",
       " 123\n",
       " 124\n",
       " 125\n",
       " 126"
      ]
     },
     "execution_count": 106,
     "metadata": {},
     "output_type": "execute_result"
    }
   ],
   "source": [
    "res_4q_ecf"
   ]
  },
  {
   "cell_type": "code",
   "execution_count": 228,
   "metadata": {},
   "outputs": [
    {
     "data": {
      "text/plain": [
       "0.11251954922079983"
      ]
     },
     "execution_count": 228,
     "metadata": {},
     "output_type": "execute_result"
    }
   ],
   "source": [
    "dot(mt[:, 1], mtx_tctex_1[:, 1])"
   ]
  },
  {
   "cell_type": "code",
   "execution_count": 218,
   "metadata": {},
   "outputs": [
    {
     "data": {
      "text/plain": [
       "114-element Array{Float64,1}:\n",
       " -0.042972501120585364\n",
       "  0.006674890616510008\n",
       " -0.10504000304013315 \n",
       " -0.022186176943199565\n",
       "  0.005835877299854738\n",
       " -0.06134959370999904 \n",
       " -0.0285561955016789  \n",
       " -0.013077603299771954\n",
       " -0.07329421990290058 \n",
       " -0.012061718635426237\n",
       " -0.027028427448228507\n",
       " -0.03430847401847454 \n",
       " -0.013091625346648511\n",
       "  ⋮                   \n",
       "  0.1345063005764898  \n",
       " -0.14496393728831766 \n",
       "  0.064609853656078   \n",
       "  0.17486754315165448 \n",
       " -0.08748243328372976 \n",
       "  0.05904080026206819 \n",
       "  0.2042217446671237  \n",
       " -0.08664687344717997 \n",
       "  0.0648946304598947  \n",
       "  0.2289006661410611  \n",
       " -0.155936106036849   \n",
       "  0.10382984719549622 "
      ]
     },
     "execution_count": 218,
     "metadata": {},
     "output_type": "execute_result"
    }
   ],
   "source": [
    "u[:, 1]"
   ]
  },
  {
   "cell_type": "code",
   "execution_count": 258,
   "metadata": {},
   "outputs": [
    {
     "data": {
      "text/plain": [
       "114-element Array{Int64,1}:\n",
       " 181\n",
       " 182\n",
       " 183\n",
       " 184\n",
       " 185\n",
       " 186\n",
       " 187\n",
       " 188\n",
       " 189\n",
       " 190\n",
       " 191\n",
       " 192\n",
       " 193\n",
       "   ⋮\n",
       " 400\n",
       " 401\n",
       " 402\n",
       " 403\n",
       " 404\n",
       " 405\n",
       " 406\n",
       " 407\n",
       " 408\n",
       " 409\n",
       " 410\n",
       " 411"
      ]
     },
     "execution_count": 258,
     "metadata": {},
     "output_type": "execute_result"
    }
   ],
   "source": [
    "res_1xdx_acb_3"
   ]
  },
  {
   "cell_type": "code",
   "execution_count": 261,
   "metadata": {},
   "outputs": [
    {
     "data": {
      "text/plain": [
       "114-element Array{Float64,1}:\n",
       " -0.042972501120585364\n",
       "  0.006674890616510008\n",
       " -0.10504000304013315 \n",
       " -0.022186176943199565\n",
       "  0.005835877299854738\n",
       " -0.06134959370999904 \n",
       " -0.0285561955016789  \n",
       " -0.013077603299771954\n",
       " -0.07329421990290058 \n",
       " -0.012061718635426237\n",
       " -0.027028427448228507\n",
       " -0.03430847401847454 \n",
       " -0.013091625346648511\n",
       "  ⋮                   \n",
       "  0.1345063005764898  \n",
       " -0.14496393728831766 \n",
       "  0.064609853656078   \n",
       "  0.17486754315165448 \n",
       " -0.08748243328372976 \n",
       "  0.05904080026206819 \n",
       "  0.2042217446671237  \n",
       " -0.08664687344717997 \n",
       "  0.0648946304598947  \n",
       "  0.2289006661410611  \n",
       " -0.155936106036849   \n",
       "  0.10382984719549622 "
      ]
     },
     "execution_count": 261,
     "metadata": {},
     "output_type": "execute_result"
    }
   ],
   "source": [
    "vec_1 = zeros(size(modes_1xdx)[1])\n",
    "vec_1[res_1xdx_acb_3] = u[:, 1]"
   ]
  },
  {
   "cell_type": "code",
   "execution_count": 265,
   "metadata": {},
   "outputs": [
    {
     "data": {
      "text/plain": [
       "1.0"
      ]
     },
     "execution_count": 265,
     "metadata": {},
     "output_type": "execute_result"
    }
   ],
   "source": [
    "norm(vec_1)"
   ]
  }
 ],
 "metadata": {
  "kernelspec": {
   "display_name": "Julia 1.1.0",
   "language": "julia",
   "name": "julia-1.1"
  },
  "language_info": {
   "file_extension": ".jl",
   "mimetype": "application/julia",
   "name": "julia",
   "version": "1.1.0"
  }
 },
 "nbformat": 4,
 "nbformat_minor": 2
}
