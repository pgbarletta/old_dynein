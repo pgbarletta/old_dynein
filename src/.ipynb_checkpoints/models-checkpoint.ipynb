{
 "cells": [
  {
   "cell_type": "code",
   "execution_count": 2,
   "metadata": {},
   "outputs": [
    {
     "data": {
      "text/plain": [
       "\"/home/pbarletta/labo/19/dynein/data/tctex_pdbs/model\""
      ]
     },
     "execution_count": 2,
     "metadata": {},
     "output_type": "execute_result"
    }
   ],
   "source": [
    "using DelimitedFiles, FileIO, LinearAlgebra, Statistics, DataFrames\n",
    "using Plots, LaTeXStrings, JUMD, Chemfiles\n",
    "home = \"/home/pbarletta/labo/19/dynein/data/tctex_pdbs/model\""
   ]
  },
  {
   "cell_type": "code",
   "execution_count": 249,
   "metadata": {},
   "outputs": [
    {
     "data": {
      "text/plain": [
       "res_3_to_1 (generic function with 2 methods)"
      ]
     },
     "execution_count": 249,
     "metadata": {},
     "output_type": "execute_result"
    }
   ],
   "source": [
    "function res_3_to_1(in_3::AbstractString)\n",
    "    \n",
    "    res = lowercase(in_3)\n",
    "    out_1 = AbstractString\n",
    "    \n",
    "    if res == \"ala\"\n",
    "        out_1 = \"A\"\n",
    "    elseif res == \"arg\"\n",
    "        out_1 = \"R\"\n",
    "    elseif res == \"asn\"\n",
    "        out_1 = \"N\"\n",
    "    elseif res == \"asp\"\n",
    "        out_1 = \"D\"\n",
    "    elseif res == \"cys\"\n",
    "        out_1 = \"C\"\n",
    "    elseif res == \"gln\"\n",
    "        out_1 = \"Q\"\n",
    "    elseif res == \"glu\"\n",
    "        out_1 = \"E\"\n",
    "    elseif res == \"gly\"\n",
    "        out_1 = \"G\"\n",
    "    elseif res == \"his\"\n",
    "        out_1 = \"H\"\n",
    "    elseif res == \"ile\"\n",
    "        out_1 = \"I\"\n",
    "    elseif res == \"leu\"\n",
    "        out_1 = \"L\"\n",
    "    elseif res == \"lys\"\n",
    "        out_1 = \"K\"\n",
    "    elseif res == \"met\"\n",
    "        out_1 = \"M\"\n",
    "    elseif res == \"phe\"\n",
    "        out_1 = \"F\"\n",
    "    elseif res == \"pro\"\n",
    "        out_1 = \"P\"\n",
    "    elseif res == \"ser\"\n",
    "        out_1 = \"S\"\n",
    "    elseif res == \"thr\"\n",
    "        out_1 = \"T\"\n",
    "    elseif res == \"trp\"\n",
    "        out_1 = \"W\"\n",
    "    elseif res == \"tyr\"\n",
    "        out_1 = \"Y\"\n",
    "    elseif res == \"val\"\n",
    "        out_1 = \"V\"\n",
    "    else\n",
    "        error(\"Unknown aminoacid: \", in_3)\n",
    "    end\n",
    "    \n",
    "    return out_1\n",
    "end\n",
    "\n",
    "function res_3_to_1(in_vec::Array{String, 1})\n",
    "\n",
    "    lista = \"\"\n",
    "    for each in in_vec\n",
    "        try \n",
    "            lista *= res_3_to_1(each)\n",
    "        catch e\n",
    "            error(\"Malformed array list.\\nCaught error: $e\")\n",
    "        end\n",
    "    end\n",
    "    \n",
    "    return lista\n",
    "end"
   ]
  },
  {
   "cell_type": "code",
   "execution_count": 65,
   "metadata": {},
   "outputs": [
    {
     "data": {
      "text/plain": [
       "seq_from_top (generic function with 1 method)"
      ]
     },
     "execution_count": 65,
     "metadata": {},
     "output_type": "execute_result"
    }
   ],
   "source": [
    "function seq_from_top(in_top::Chemfiles.Topology)\n",
    "    # Get 1 letter code amino acid list from a topology\n",
    "    aa = convert(Int64, count_residues(in_top))\n",
    "    ids = Array{Int64, 1}(undef, aa)\n",
    "\n",
    "    for i=1:aa\n",
    "        ids[i] = id(Residue(in_top, i-1))\n",
    "    end\n",
    "    ids_sorted_indices = sortperm(ids);\n",
    "\n",
    "    seq_3 = Array{String, 1}(undef, aa)\n",
    "    i = 0\n",
    "    for each in ids_sorted_indices\n",
    "        i+=1\n",
    "        seq_3[i] = name((Residue(in_top, each-1)))\n",
    "    end\n",
    "    seq_1 = res_3_to_1(seq_3);\n",
    "    \n",
    "    return seq_1\n",
    "end"
   ]
  },
  {
   "cell_type": "code",
   "execution_count": 232,
   "metadata": {},
   "outputs": [
    {
     "data": {
      "text/plain": [
       "write_pdb_to_pir (generic function with 5 methods)"
      ]
     },
     "execution_count": 232,
     "metadata": {},
     "output_type": "execute_result"
    }
   ],
   "source": [
    "function write_pdb_to_pir(seq::String, aa_beg::Int64, chain_beg::String,\n",
    "        aa_end::Int64, chain_end::String, in_pdb_filename::AbstractString,\n",
    "        out_filename::AbstractString)\n",
    "\n",
    "    open(out_filename, \"w\") do f\n",
    "        # Header\n",
    "        write(f, string(\">P1;\", in_pdb_filename, \"\\n\"))\n",
    "        write(f, string(\"structureX:\", in_pdb_filename, \":\", aa_beg, \":\", chain_beg, \":\",\n",
    "                aa_end, \":\", chain_end, \":::-1.00:-1.00\\n\"))\n",
    "        # Sequence\n",
    "        aa = length(seq)\n",
    "        nlineas = convert(Int64, floor(aa / 80))\n",
    "        for i = 1:nlineas\n",
    "            uno = (i-1) * 80 + 1\n",
    "            ult = i * 80\n",
    "            write(f, seq[uno:ult])\n",
    "            write(f, \"\\n\")\n",
    "        end\n",
    "        uno = nlineas * 80 + 1\n",
    "        write(f, seq[uno:end])\n",
    "        write(f, \"*\\n\")\n",
    "    end\n",
    "end"
   ]
  },
  {
   "cell_type": "code",
   "execution_count": 224,
   "metadata": {},
   "outputs": [
    {
     "data": {
      "text/plain": [
       "write_pdb_to_pir (generic function with 4 methods)"
      ]
     },
     "execution_count": 224,
     "metadata": {},
     "output_type": "execute_result"
    }
   ],
   "source": [
    "function write_pdb_to_pir(seq_str::String, aa_beg::Int64, chain_beg::String,\n",
    "        aa_end::Int64, chain_end::String,  name_str::AbstractString,\n",
    "        seq_seq::String, name_seq::AbstractString, out_filename::AbstractString)\n",
    "    \n",
    "    open(out_filename, \"w\") do f\n",
    "        # Header\n",
    "        write(f, string(\">P1;\", name_str, \"\\n\"))\n",
    "        write(f, string(\"structureX:\", name_str, \":\", aa_beg, \":\", chain_beg, \":\",\n",
    "                aa_end, \":\", chain_end, \":::-1.00:-1.00\\n\"))\n",
    "        # Sequence\n",
    "        aa = length(seq_str)\n",
    "        nlineas = convert(Int64, floor(aa / 80))\n",
    "        for i = 1:nlineas\n",
    "            uno = (i-1) * 80 + 1\n",
    "            ult = i * 80\n",
    "            write(f, seq_str[uno:ult])\n",
    "            write(f, \"\\n\")\n",
    "        end\n",
    "        uno = nlineas * 80 + 1\n",
    "        write(f, seq_str[uno:end])\n",
    "        write(f, \"*\\n\\n\")\n",
    "        \n",
    "        write(f, string(\">P1;\", name_seq, \"\\n\"))\n",
    "        write(f, string(\"sequence:::::::::\\n\"))\n",
    "        # Sequence\n",
    "        aa = length(seq_seq)\n",
    "        nlineas = convert(Int64, floor(aa / 80))\n",
    "        for i = 1:nlineas\n",
    "            uno = (i-1) * 80 + 1\n",
    "            ult = i * 80\n",
    "            write(f, seq_seq[uno:ult])\n",
    "            write(f, \"\\n\")\n",
    "        end\n",
    "        uno = nlineas * 80 + 1\n",
    "        write(f, seq_seq[uno:end])\n",
    "        write(f, \"*\\n\")\n",
    "    end\n",
    "end"
   ]
  },
  {
   "cell_type": "markdown",
   "metadata": {},
   "source": [
    "## 5WI4"
   ]
  },
  {
   "cell_type": "code",
   "execution_count": 243,
   "metadata": {},
   "outputs": [
    {
     "name": "stderr",
     "output_type": "stream",
     "text": [
      "[chemfiles] Unknown PDB record: TER\n",
      "[chemfiles] Unknown PDB record: TER\n"
     ]
    },
    {
     "data": {
      "text/plain": [
       "2"
      ]
     },
     "execution_count": 243,
     "metadata": {},
     "output_type": "execute_result"
    }
   ],
   "source": [
    "# Escribo secuencia modelo\n",
    "pdb = \"5wi4\"\n",
    "pdb_fn = joinpath(home, pdb, string(\"pro_\", pdb, \".pdb\"))\n",
    "a_pdb_fn = joinpath(home, pdb, string(\"a.pdb\"))\n",
    "b_pdb_fn = joinpath(home, pdb, string(\"b.pdb\"))\n",
    "pir_fn = joinpath(home, pdb, string(pdb, \".pir\"))\n",
    "\n",
    "in_trj_a = Trajectory(a_pdb_fn)\n",
    "in_frm_a = read(in_trj_a)\n",
    "in_top_a = Topology(in_frm_a)\n",
    "aa_a = convert(Int64, count_residues(in_top_a))\n",
    "ids_a = convert(Array{Int64, 1}, [ id(Residue(in_top_a, i-1)) for i=1:aa_a ])\n",
    "\n",
    "in_trj_b = Trajectory(b_pdb_fn)\n",
    "in_frm_b = read(in_trj_b)\n",
    "in_top_b = Topology(in_frm_b)\n",
    "aa_b = convert(Int64, count_residues(in_top_b))\n",
    "ids_b = convert(Array{Int64, 1}, [ id(Residue(in_top_b, i-1)) for i=1:aa_b ])\n",
    "\n",
    "seq = seq_from_top(in_top_a) * seq_from_top(in_top_b)\n",
    "primer_aa = minimum(ids_a)\n",
    "ultimo_aa = maximum(ids_b)\n",
    "\n",
    "write_pdb_to_pir(seq, primer_aa, \"A\", ultimo_aa, \"B\",\n",
    "    split(basename(pdb_fn), \".\")[1], pir_fn)\n",
    "\n",
    "####################\n",
    "\n",
    "# Alineo\n",
    "needle_fn = joinpath(home, pdb, string(\"alignment_\", pdb))\n",
    "in_a = joinpath(home, pdb, string(\"canonical\"))\n",
    "run(`needle $in_a $pir_fn -gapopen 10.0 -gapextend 0.5 $needle_fn`)\n",
    "\n",
    "# Convierto alineamiento en el formato q modeller necesita\n",
    "alnmto = readlines(needle_fn)[32:end-4]\n",
    "sec_a = \"canonical\"\n",
    "sec_b = string(\"pro_\", pdb)\n",
    "\n",
    "la = length(sec_a)\n",
    "lb = length(sec_b)\n",
    "ln = length(alnmto)\n",
    "sq_a = \"\"\n",
    "sq_b = \"\"\n",
    "mut = \"\"\n",
    "\n",
    "for i = 1:4:ln\n",
    "    global sq_a *= alnmto[i][22:end-7]\n",
    "    global mut *= alnmto[i+1][22:end-7]\n",
    "    global sq_b *= alnmto[i+2][22:end-7]        \n",
    "end\n",
    "\n",
    "write_pdb_to_pir(sq_b, primer_aa, \"A\", ultimo_aa, \"B\",\n",
    "    split(basename(pdb_fn), \".\")[1], sq_a, string(\"model_\", pdb),\n",
    "    joinpath(home, pdb, \"to_model\"))"
   ]
  },
  {
   "cell_type": "markdown",
   "metadata": {},
   "source": [
    "## 5HXL"
   ]
  },
  {
   "cell_type": "code",
   "execution_count": 251,
   "metadata": {},
   "outputs": [
    {
     "name": "stderr",
     "output_type": "stream",
     "text": [
      "[chemfiles] Unknown PDB record: TER\n",
      "[chemfiles] Unknown PDB record: TER\n"
     ]
    },
    {
     "data": {
      "text/plain": [
       "2"
      ]
     },
     "execution_count": 251,
     "metadata": {},
     "output_type": "execute_result"
    }
   ],
   "source": [
    "# Escribo secuencia modelo\n",
    "pdb = \"5hxl\"\n",
    "pdb_fn = joinpath(home, pdb, string(\"pro_\", pdb, \".pdb\"))\n",
    "a_pdb_fn = joinpath(home, pdb, string(\"a.pdb\"))\n",
    "b_pdb_fn = joinpath(home, pdb, string(\"b.pdb\"))\n",
    "pir_fn = joinpath(home, pdb, string(pdb, \".pir\"))\n",
    "\n",
    "in_trj_a = Trajectory(a_pdb_fn)\n",
    "in_frm_a = read(in_trj_a)\n",
    "in_top_a = Topology(in_frm_a)\n",
    "aa_a = convert(Int64, count_residues(in_top_a))\n",
    "ids_a = convert(Array{Int64, 1}, [ id(Residue(in_top_a, i-1)) for i=1:aa_a ])\n",
    "\n",
    "in_trj_b = Trajectory(b_pdb_fn)\n",
    "in_frm_b = read(in_trj_b)\n",
    "in_top_b = Topology(in_frm_b)\n",
    "aa_b = convert(Int64, count_residues(in_top_b))\n",
    "ids_b = convert(Array{Int64, 1}, [ id(Residue(in_top_b, i-1)) for i=1:aa_b ])\n",
    "\n",
    "seq = seq_from_top(in_top_a) * seq_from_top(in_top_b)\n",
    "primer_aa = minimum(ids_a)\n",
    "ultimo_aa = maximum(ids_b)\n",
    "\n",
    "write_pdb_to_pir(seq, primer_aa, \"A\", ultimo_aa, \"B\",\n",
    "    split(basename(pdb_fn), \".\")[1], pir_fn)\n",
    "\n",
    "####################\n",
    "\n",
    "# Alineo\n",
    "needle_fn = joinpath(home, pdb, string(\"alignment_\", pdb))\n",
    "in_a = joinpath(home, pdb, string(\"canonical\"))\n",
    "run(`needle $in_a $pir_fn -gapopen 10.0 -gapextend 0.5 $needle_fn`)\n",
    "\n",
    "# Convierto alineamiento en el formato q modeller necesita\n",
    "alnmto = readlines(needle_fn)[32:end-4]\n",
    "sec_a = \"canonical\"\n",
    "sec_b = string(\"pro_\", pdb)\n",
    "\n",
    "la = length(sec_a)\n",
    "lb = length(sec_b)\n",
    "ln = length(alnmto)\n",
    "sq_a = \"\"\n",
    "sq_b = \"\"\n",
    "mut = \"\"\n",
    "\n",
    "for i = 1:4:ln\n",
    "    global sq_a *= alnmto[i][22:end-7]\n",
    "    global mut *= alnmto[i+1][22:end-7]\n",
    "    global sq_b *= alnmto[i+2][22:end-7]        \n",
    "end\n",
    "\n",
    "write_pdb_to_pir(sq_b, primer_aa, \"A\", ultimo_aa, \"B\",\n",
    "    split(basename(pdb_fn), \".\")[1], sq_a, string(\"model_\", pdb),\n",
    "    joinpath(home, pdb, \"to_model\"))"
   ]
  },
  {
   "cell_type": "markdown",
   "metadata": {},
   "source": [
    "## 5HYC"
   ]
  },
  {
   "cell_type": "code",
   "execution_count": 305,
   "metadata": {},
   "outputs": [
    {
     "name": "stderr",
     "output_type": "stream",
     "text": [
      "[chemfiles] Unknown PDB record: TER\n",
      "[chemfiles] Unknown PDB record: TER\n",
      "[chemfiles] Unknown PDB record: TER\n",
      "Needleman-Wunsch global alignment of two sequences\n"
     ]
    },
    {
     "data": {
      "text/plain": [
       "2"
      ]
     },
     "execution_count": 305,
     "metadata": {},
     "output_type": "execute_result"
    }
   ],
   "source": [
    "# Escribo secuencia modelo\n",
    "pdb = \"5hyc\"\n",
    "pdb_fn = joinpath(home, pdb, string(\"pro_\", pdb, \".pdb\"))\n",
    "a_pdb_fn = joinpath(home, pdb, string(\"a.pdb\"))\n",
    "b_pdb_fn = joinpath(home, pdb, string(\"b.pdb\"))\n",
    "c_pdb_fn = joinpath(home, pdb, string(\"c.pdb\"))\n",
    "pir_fn = joinpath(home, pdb, string(pdb, \".pir\"))\n",
    "\n",
    "in_trj_a = Trajectory(a_pdb_fn)\n",
    "in_frm_a = read(in_trj_a)\n",
    "in_top_a = Topology(in_frm_a)\n",
    "aa_a = convert(Int64, count_residues(in_top_a))\n",
    "ids_a = convert(Array{Int64, 1}, [ id(Residue(in_top_a, i-1)) for i=1:aa_a ])\n",
    "\n",
    "in_trj_b = Trajectory(b_pdb_fn)\n",
    "in_frm_b = read(in_trj_b)\n",
    "in_top_b = Topology(in_frm_b)\n",
    "aa_b = convert(Int64, count_residues(in_top_b))\n",
    "ids_b = convert(Array{Int64, 1}, [ id(Residue(in_top_b, i-1)) for i=1:aa_b ])\n",
    "\n",
    "in_trj_c = Trajectory(c_pdb_fn)\n",
    "in_frm_c = read(in_trj_c)\n",
    "in_top_c = Topology(in_frm_c)\n",
    "aa_c = convert(Int64, count_residues(in_top_c))\n",
    "ids_c = convert(Array{Int64, 1}, [ id(Residue(in_top_c, i-1)) for i=1:aa_c ])\n",
    "\n",
    "seq = seq_from_top(in_top_a) * seq_from_top(in_top_b) * seq_from_top(in_top_c)\n",
    "primer_aa = minimum(ids_a)\n",
    "ultimo_aa = maximum(ids_c)\n",
    "\n",
    "write_pdb_to_pir(seq, primer_aa, \"A\", ultimo_aa, \"C\",\n",
    "    split(basename(pdb_fn), \".\")[1], pir_fn)\n",
    "\n",
    "####################\n",
    "\n",
    "# Alineo\n",
    "needle_fn = joinpath(home, pdb, string(\"alignment_\", pdb))\n",
    "in_a = joinpath(home, pdb, string(\"canonical\"))\n",
    "run(`needle $in_a $pir_fn -gapopen 10.0 -gapextend 0.5 $needle_fn`)\n",
    "\n",
    "# Convierto alineamiento en el formato q modeller necesita\n",
    "alnmto = readlines(needle_fn)[32:end-4]\n",
    "sec_a = \"canonical\"\n",
    "sec_b = string(\"pro_\", pdb)\n",
    "\n",
    "la = length(sec_a)\n",
    "lb = length(sec_b)\n",
    "ln = length(alnmto)\n",
    "sq_a = \"\"\n",
    "sq_b = \"\"\n",
    "mut = \"\"\n",
    "\n",
    "for i = 1:4:ln\n",
    "    global sq_a *= alnmto[i][22:end-7]\n",
    "    global mut *= alnmto[i+1][22:end-7]\n",
    "    global sq_b *= alnmto[i+2][22:end-7]        \n",
    "end\n",
    "\n",
    "write_pdb_to_pir(sq_b, primer_aa, \"A\", ultimo_aa, \"C\",\n",
    "    split(basename(pdb_fn), \".\")[1], sq_a, string(\"model_\", pdb),\n",
    "    joinpath(home, pdb, \"to_model\"))"
   ]
  },
  {
   "cell_type": "code",
   "execution_count": 287,
   "metadata": {},
   "outputs": [
    {
     "data": {
      "text/plain": [
       "\"|||||||||||||||||||||||||||||||||||||||||||||||||||||||||||||||||                   |||||||||||||||||||||||||||||||||||||||||||||||||||||||||||||||||||||||||||||||||    |||||||||||||                             |||||||||||||||||||||||||||||||||||||||||||||||\""
      ]
     },
     "execution_count": 287,
     "metadata": {},
     "output_type": "execute_result"
    }
   ],
   "source": [
    "mut"
   ]
  },
  {
   "cell_type": "code",
   "execution_count": 286,
   "metadata": {},
   "outputs": [
    {
     "data": {
      "text/plain": [
       "\"|                   |\""
      ]
     },
     "execution_count": 286,
     "metadata": {},
     "output_type": "execute_result"
    }
   ],
   "source": [
    "mut[65:85]"
   ]
  },
  {
   "cell_type": "code",
   "execution_count": 289,
   "metadata": {},
   "outputs": [
    {
     "data": {
      "text/plain": [
       "\"|    |\""
      ]
     },
     "execution_count": 289,
     "metadata": {},
     "output_type": "execute_result"
    }
   ],
   "source": [
    "mut[165:170]"
   ]
  },
  {
   "cell_type": "code",
   "execution_count": 303,
   "metadata": {},
   "outputs": [
    {
     "data": {
      "text/plain": [
       "\"|                             |\""
      ]
     },
     "execution_count": 303,
     "metadata": {},
     "output_type": "execute_result"
    }
   ],
   "source": [
    "mut[182:212]"
   ]
  },
  {
   "cell_type": "code",
   "execution_count": 304,
   "metadata": {},
   "outputs": [],
   "source": [
    "findnext(\" \", mut, 212)"
   ]
  },
  {
   "cell_type": "code",
   "execution_count": 290,
   "metadata": {},
   "outputs": [
    {
     "data": {
      "text/plain": [
       "183:183"
      ]
     },
     "execution_count": 290,
     "metadata": {},
     "output_type": "execute_result"
    }
   ],
   "source": [
    "findnext(\" \", mut, 170)"
   ]
  },
  {
   "cell_type": "code",
   "execution_count": 274,
   "metadata": {},
   "outputs": [
    {
     "data": {
      "text/plain": [
       "211:211"
      ]
     },
     "execution_count": 274,
     "metadata": {},
     "output_type": "execute_result"
    }
   ],
   "source": [
    "findlast(\" \", mut)"
   ]
  },
  {
   "cell_type": "code",
   "execution_count": null,
   "metadata": {},
   "outputs": [],
   "source": [
    "    "
   ]
  }
 ],
 "metadata": {
  "kernelspec": {
   "display_name": "Julia 1.1.0",
   "language": "julia",
   "name": "julia-1.1"
  },
  "language_info": {
   "file_extension": ".jl",
   "mimetype": "application/julia",
   "name": "julia",
   "version": "1.1.0"
  }
 },
 "nbformat": 4,
 "nbformat_minor": 2
}
