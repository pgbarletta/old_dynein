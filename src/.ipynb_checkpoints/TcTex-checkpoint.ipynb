{
 "cells": [
  {
   "cell_type": "code",
   "execution_count": 2,
   "metadata": {},
   "outputs": [
    {
     "data": {
      "text/plain": [
       "\"/home/pbarletta/labo/19/dynein/run\""
      ]
     },
     "execution_count": 2,
     "metadata": {},
     "output_type": "execute_result"
    }
   ],
   "source": [
    "using DelimitedFiles, FileIO, LinearAlgebra, Statistics\n",
    "using Plots, LaTeXStrings, JUMD\n",
    "home = \"/home/pbarletta/labo/19/dynein/run\""
   ]
  },
  {
   "cell_type": "code",
   "execution_count": 3,
   "metadata": {},
   "outputs": [
    {
     "data": {
      "text/plain": [
       "get_exp_bf (generic function with 1 method)"
      ]
     },
     "execution_count": 3,
     "metadata": {},
     "output_type": "execute_result"
    }
   ],
   "source": [
    "function get_exp_bf(infile::String)::Array{Float64, 1}\n",
    "    name = 13:16\n",
    "    tempFactor = 61:66\n",
    "    bf = Array{Float64, 1}()\n",
    "    pdb = readlines(infile)\n",
    "\n",
    "    for i = 1:length(pdb)\n",
    "        if length(pdb[i]) > tempFactor[2]\n",
    "            if strip(pdb[i][name]) == \"CA\"\n",
    "                push!(bf, parse(Float64, strip(pdb[i][tempFactor])))\n",
    "            end\n",
    "        end\n",
    "    end\n",
    "    return bf\n",
    "end"
   ]
  },
  {
   "cell_type": "markdown",
   "metadata": {},
   "source": [
    "## NMA"
   ]
  },
  {
   "cell_type": "code",
   "execution_count": 5,
   "metadata": {},
   "outputs": [],
   "source": []
  },
  {
   "cell_type": "markdown",
   "metadata": {},
   "source": [
    "## Bfactors"
   ]
  },
  {
   "cell_type": "code",
   "execution_count": 7,
   "metadata": {},
   "outputs": [
    {
     "data": {
      "text/plain": [
       "0.5968246822577248"
      ]
     },
     "execution_count": 7,
     "metadata": {},
     "output_type": "execute_result"
    }
   ],
   "source": [
    "modes_1ygt = readdlm(joinpath(home, \"1ygt/modos/1ygt.mods\"))\n",
    "evals_1ygt = convert(Array{Float64, 1}, readdlm(joinpath(home, \"1ygt/modos/1ygt.freq\"))[8:end, 1]);\n",
    "\n",
    "bf_t_1ygt = JUMD.theoretical_bf(modes_1ygt, evals_1ygt)\n",
    "bf_e_1ygt = get_exp_bf(joinpath(home, \"1ygt/modos/1ygt.pdb\"))\n",
    "gammap = sum(bf_e_1ygt) / sum(bf_t_1ygt)\n",
    "cor(bf_t_1ygt, bf_e_1ygt)"
   ]
  },
  {
   "cell_type": "markdown",
   "metadata": {},
   "source": [
    "## NMA vs 3FM7"
   ]
  },
  {
   "cell_type": "code",
   "execution_count": 11,
   "metadata": {},
   "outputs": [
    {
     "data": {
      "text/plain": [
       "0.25360244021358536"
      ]
     },
     "execution_count": 11,
     "metadata": {},
     "output_type": "execute_result"
    }
   ],
   "source": [
    "modes_3fm7 = readdlm(joinpath(home, \"3fm7/all/modos/3fm7.mods\"))\n",
    "evals_3fm7 = convert(Array{Float64, 1}, readdlm(joinpath(home, \"3fm7/all/modos/3fm7.freq\"))[8:end, 1]);\n",
    "\n",
    "bf_t_3fm7 = JUMD.theoretical_bf(modes_3fm7, evals_3fm7)\n",
    "bf_e_3fm7 = get_exp_bf(joinpath(home, \"3fm7/all/modos/3fm7.pdb\"))\n",
    "gammap = sum(bf_e_3fm7) / sum(bf_t_3fm7)\n",
    "cor(bf_t_3fm7, bf_e_3fm7)"
   ]
  },
  {
   "cell_type": "markdown",
   "metadata": {},
   "source": [
    "## NMA vs 2PG1"
   ]
  },
  {
   "cell_type": "code",
   "execution_count": 12,
   "metadata": {},
   "outputs": [
    {
     "data": {
      "text/plain": [
       "0.591442571416763"
      ]
     },
     "execution_count": 12,
     "metadata": {},
     "output_type": "execute_result"
    }
   ],
   "source": [
    "modes_2pg1 = readdlm(joinpath(home, \"2pg1/all/modos/2pg1.mods\"))\n",
    "evals_2pg1 = convert(Array{Float64, 1}, readdlm(joinpath(home, \"2pg1/all/modos/2pg1.freq\"))[8:end, 1]);\n",
    "\n",
    "bf_t_2pg1 = JUMD.theoretical_bf(modes_2pg1, evals_2pg1)\n",
    "bf_e_2pg1 = get_exp_bf(joinpath(home, \"2pg1/all/modos/2pg1.pdb\"))\n",
    "gammap = sum(bf_e_2pg1) / sum(bf_t_2pg1)\n",
    "cor(bf_t_2pg1, bf_e_2pg1)"
   ]
  },
  {
   "cell_type": "markdown",
   "metadata": {},
   "source": [
    "## 2PG1 vs 3FM7"
   ]
  },
  {
   "cell_type": "code",
   "execution_count": 8,
   "metadata": {},
   "outputs": [
    {
     "data": {
      "text/plain": [
       "0.16947763346030756"
      ]
     },
     "execution_count": 8,
     "metadata": {},
     "output_type": "execute_result"
    }
   ],
   "source": [
    "t = get_exp_bf(joinpath(home, \"3fm7/all/modos/3fm7.pdb\"))\n",
    "d = get_exp_bf(joinpath(home, \"2pg1/all/modos/2pg1.pdb\"))\n",
    "\n",
    "cor(t, d)"
   ]
  },
  {
   "cell_type": "code",
   "execution_count": 9,
   "metadata": {},
   "outputs": [
    {
     "data": {
      "text/plain": [
       "0.22060757270887887"
      ]
     },
     "execution_count": 9,
     "metadata": {},
     "output_type": "execute_result"
    }
   ],
   "source": [
    "tab = get_exp_bf(joinpath(home, \"3fm7/ab/modos/ab.pdb\"))\n",
    "dab = get_exp_bf(joinpath(home, \"2pg1/ab/modos/ab.pdb\"))\n",
    "\n",
    "cor(tab, dab)"
   ]
  },
  {
   "cell_type": "code",
   "execution_count": 10,
   "metadata": {},
   "outputs": [
    {
     "data": {
      "text/plain": [
       "0.23358179890400652"
      ]
     },
     "execution_count": 10,
     "metadata": {},
     "output_type": "execute_result"
    }
   ],
   "source": [
    "tef = get_exp_bf(joinpath(home, \"3fm7/ef/modos/ef.pdb\"))\n",
    "def = get_exp_bf(joinpath(home, \"2pg1/ef/modos/ef.pdb\"))\n",
    "\n",
    "cor(tef, def)"
   ]
  },
  {
   "cell_type": "code",
   "execution_count": 15,
   "metadata": {},
   "outputs": [
    {
     "data": {
      "text/plain": [
       "0.5407132824230713"
      ]
     },
     "execution_count": 15,
     "metadata": {},
     "output_type": "execute_result"
    }
   ],
   "source": [
    "modes_2pg1 = readdlm(joinpath(home, \"2pg1/ab/modos/ab.mods\"))\n",
    "evals_2pg1 = convert(Array{Float64, 1}, readdlm(joinpath(home, \"2pg1/ab/modos/ab.freq\"))[8:end, 1]);\n",
    "\n",
    "bf_t_2pg1 = JUMD.theoretical_bf(modes_2pg1, evals_2pg1)\n",
    "bf_e_2pg1 = get_exp_bf(joinpath(home, \"2pg1/ab/modos/ab.pdb\"))\n",
    "gammap = sum(bf_e_2pg1) / sum(bf_t_2pg1)\n",
    "cor(bf_t_2pg1, bf_e_2pg1)"
   ]
  },
  {
   "cell_type": "code",
   "execution_count": null,
   "metadata": {},
   "outputs": [],
   "source": []
  }
 ],
 "metadata": {
  "kernelspec": {
   "display_name": "Julia 1.1.0",
   "language": "julia",
   "name": "julia-1.1"
  },
  "language_info": {
   "file_extension": ".jl",
   "mimetype": "application/julia",
   "name": "julia",
   "version": "1.1.0"
  }
 },
 "nbformat": 4,
 "nbformat_minor": 2
}
