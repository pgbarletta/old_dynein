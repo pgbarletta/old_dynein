{
 "cells": [
  {
   "cell_type": "code",
   "execution_count": 2,
   "metadata": {},
   "outputs": [
    {
     "data": {
      "text/plain": [
       "\"/home/pbarletta/labo/19/dynein/run\""
      ]
     },
     "execution_count": 2,
     "metadata": {},
     "output_type": "execute_result"
    }
   ],
   "source": [
    "using DelimitedFiles, FileIO, LinearAlgebra, Statistics\n",
    "using Plots, LaTeXStrings, JUMD\n",
    "home = \"/home/pbarletta/labo/19/dynein/run\""
   ]
  },
  {
   "cell_type": "code",
   "execution_count": 3,
   "metadata": {},
   "outputs": [
    {
     "data": {
      "text/plain": [
       "get_exp_bf (generic function with 1 method)"
      ]
     },
     "execution_count": 3,
     "metadata": {},
     "output_type": "execute_result"
    }
   ],
   "source": [
    "function get_exp_bf(infile::String)::Array{Float64, 1}\n",
    "    name = 13:16\n",
    "    tempFactor = 61:66\n",
    "    bf = Array{Float64, 1}()\n",
    "    pdb = readlines(infile)\n",
    "\n",
    "    for i = 1:length(pdb)\n",
    "        if length(pdb[i]) > tempFactor[2]\n",
    "            if strip(pdb[i][name]) == \"CA\"\n",
    "                push!(bf, parse(Float64, strip(pdb[i][tempFactor])))\n",
    "            end\n",
    "        end\n",
    "    end\n",
    "    return bf\n",
    "end"
   ]
  },
  {
   "cell_type": "markdown",
   "metadata": {},
   "source": [
    "## NMA"
   ]
  },
  {
   "cell_type": "code",
   "execution_count": 5,
   "metadata": {},
   "outputs": [],
   "source": []
  },
  {
   "cell_type": "markdown",
   "metadata": {},
   "source": [
    "## NMA vs 1YGT"
   ]
  },
  {
   "cell_type": "code",
   "execution_count": 60,
   "metadata": {},
   "outputs": [
    {
     "data": {
      "text/plain": [
       "0.5826572556192062"
      ]
     },
     "execution_count": 60,
     "metadata": {},
     "output_type": "execute_result"
    }
   ],
   "source": [
    "modes_1ygt = readdlm(joinpath(home, \"1ygt/modos/1ygt.mods\"))\n",
    "evals_1ygt = convert(Array{Float64, 1}, readdlm(joinpath(home, \"1ygt/modos/1ygt.freq\"))[8:end, 1]);\n",
    "\n",
    "bf_t_1ygt = JUMD.theoretical_bf(modes_1ygt, evals_1ygt)[5:end]\n",
    "bf_e_1ygt = get_exp_bf(joinpath(home, \"1ygt/modos/1ygt.pdb\"))[5:end]\n",
    "\n",
    "gammap = sum(bf_e_1ygt) / sum(bf_t_1ygt)\n",
    "cor(bf_t_1ygt, bf_e_1ygt)"
   ]
  },
  {
   "cell_type": "markdown",
   "metadata": {},
   "source": [
    "## NMA vs 3FM7"
   ]
  },
  {
   "cell_type": "code",
   "execution_count": 11,
   "metadata": {},
   "outputs": [
    {
     "data": {
      "text/plain": [
       "0.25360244021358536"
      ]
     },
     "execution_count": 11,
     "metadata": {},
     "output_type": "execute_result"
    }
   ],
   "source": [
    "modes_3fm7 = readdlm(joinpath(home, \"3fm7/all/modos/3fm7.mods\"))\n",
    "evals_3fm7 = convert(Array{Float64, 1}, readdlm(joinpath(home, \"3fm7/all/modos/3fm7.freq\"))[8:end, 1]);\n",
    "\n",
    "bf_t_3fm7 = JUMD.theoretical_bf(modes_3fm7, evals_3fm7)\n",
    "bf_e_3fm7 = get_exp_bf(joinpath(home, \"3fm7/all/modos/3fm7.pdb\"))\n",
    "gammap = sum(bf_e_3fm7) / sum(bf_t_3fm7)\n",
    "cor(bf_t_3fm7, bf_e_3fm7)"
   ]
  },
  {
   "cell_type": "markdown",
   "metadata": {},
   "source": [
    "## NMA vs 2PG1"
   ]
  },
  {
   "cell_type": "code",
   "execution_count": 12,
   "metadata": {},
   "outputs": [
    {
     "data": {
      "text/plain": [
       "0.591442571416763"
      ]
     },
     "execution_count": 12,
     "metadata": {},
     "output_type": "execute_result"
    }
   ],
   "source": [
    "modes_2pg1 = readdlm(joinpath(home, \"2pg1/all/modos/2pg1.mods\"))\n",
    "evals_2pg1 = convert(Array{Float64, 1}, readdlm(joinpath(home, \"2pg1/all/modos/2pg1.freq\"))[8:end, 1]);\n",
    "\n",
    "bf_t_2pg1 = JUMD.theoretical_bf(modes_2pg1, evals_2pg1)\n",
    "bf_e_2pg1 = get_exp_bf(joinpath(home, \"2pg1/all/modos/2pg1.pdb\"))\n",
    "gammap = sum(bf_e_2pg1) / sum(bf_t_2pg1)\n",
    "cor(bf_t_2pg1, bf_e_2pg1)"
   ]
  },
  {
   "cell_type": "markdown",
   "metadata": {},
   "source": [
    "## 2PG1 vs 3FM7"
   ]
  },
  {
   "cell_type": "code",
   "execution_count": 8,
   "metadata": {},
   "outputs": [
    {
     "data": {
      "text/plain": [
       "0.16947763346030756"
      ]
     },
     "execution_count": 8,
     "metadata": {},
     "output_type": "execute_result"
    }
   ],
   "source": [
    "t = get_exp_bf(joinpath(home, \"3fm7/all/modos/3fm7.pdb\"))\n",
    "d = get_exp_bf(joinpath(home, \"2pg1/all/modos/2pg1.pdb\"))\n",
    "\n",
    "cor(t, d)"
   ]
  },
  {
   "cell_type": "code",
   "execution_count": 9,
   "metadata": {},
   "outputs": [
    {
     "data": {
      "text/plain": [
       "0.22060757270887887"
      ]
     },
     "execution_count": 9,
     "metadata": {},
     "output_type": "execute_result"
    }
   ],
   "source": [
    "tab = get_exp_bf(joinpath(home, \"3fm7/ab/modos/ab.pdb\"))\n",
    "dab = get_exp_bf(joinpath(home, \"2pg1/ab/modos/ab.pdb\"))\n",
    "\n",
    "cor(tab, dab)"
   ]
  },
  {
   "cell_type": "code",
   "execution_count": 10,
   "metadata": {},
   "outputs": [
    {
     "data": {
      "text/plain": [
       "0.23358179890400652"
      ]
     },
     "execution_count": 10,
     "metadata": {},
     "output_type": "execute_result"
    }
   ],
   "source": [
    "tef = get_exp_bf(joinpath(home, \"3fm7/ef/modos/ef.pdb\"))\n",
    "def = get_exp_bf(joinpath(home, \"2pg1/ef/modos/ef.pdb\"))\n",
    "\n",
    "cor(tef, def)"
   ]
  },
  {
   "cell_type": "code",
   "execution_count": 20,
   "metadata": {},
   "outputs": [
    {
     "data": {
      "text/plain": [
       "0.5444634554682006"
      ]
     },
     "execution_count": 20,
     "metadata": {},
     "output_type": "execute_result"
    }
   ],
   "source": [
    "modes_2pg1 = readdlm(joinpath(home, \"2pg1/ab/modos/ab.mods\"))\n",
    "evals_2pg1 = convert(Array{Float64, 1}, readdlm(joinpath(home, \"2pg1/ab/modos/ab.freq\"))[8:end, 1]);\n",
    "\n",
    "bf_t_2pg1 = JUMD.theoretical_bf(modes_2pg1, evals_2pg1)[5:end]\n",
    "bf_e_2pg1 = get_exp_bf(joinpath(home, \"2pg1/ab/modos/ab.pdb\"))[5:end]\n",
    "gammap = sum(bf_e_2pg1) / sum(bf_t_2pg1)\n",
    "cor(bf_t_2pg1, bf_e_2pg1)"
   ]
  },
  {
   "cell_type": "code",
   "execution_count": 62,
   "metadata": {},
   "outputs": [
    {
     "data": {
      "image/svg+xml": [
       "<?xml version=\"1.0\" encoding=\"utf-8\"?>\n",
       "<svg xmlns=\"http://www.w3.org/2000/svg\" xmlns:xlink=\"http://www.w3.org/1999/xlink\" width=\"600\" height=\"400\" viewBox=\"0 0 2400 1600\">\n",
       "<defs>\n",
       "  <clipPath id=\"clip0000\">\n",
       "    <rect x=\"0\" y=\"0\" width=\"2000\" height=\"2000\"/>\n",
       "  </clipPath>\n",
       "</defs>\n",
       "<defs>\n",
       "  <clipPath id=\"clip0001\">\n",
       "    <rect x=\"0\" y=\"0\" width=\"2400\" height=\"1600\"/>\n",
       "  </clipPath>\n",
       "</defs>\n",
       "<polygon clip-path=\"url(#clip0001)\" points=\"\n",
       "0,1600 2400,1600 2400,0 0,0 \n",
       "  \" fill=\"#ffffff\" fill-rule=\"evenodd\" fill-opacity=\"1\"/>\n",
       "<defs>\n",
       "  <clipPath id=\"clip0002\">\n",
       "    <rect x=\"480\" y=\"0\" width=\"1681\" height=\"1600\"/>\n",
       "  </clipPath>\n",
       "</defs>\n",
       "<polygon clip-path=\"url(#clip0001)\" points=\"\n",
       "148.013,1503.47 2321.26,1503.47 2321.26,47.2441 148.013,47.2441 \n",
       "  \" fill=\"#ffffff\" fill-rule=\"evenodd\" fill-opacity=\"1\"/>\n",
       "<defs>\n",
       "  <clipPath id=\"clip0003\">\n",
       "    <rect x=\"148\" y=\"47\" width=\"2174\" height=\"1457\"/>\n",
       "  </clipPath>\n",
       "</defs>\n",
       "<polyline clip-path=\"url(#clip0003)\" style=\"stroke:#000000; stroke-width:2; stroke-opacity:0.1; fill:none\" points=\"\n",
       "  148.013,1503.47 148.013,47.2441 \n",
       "  \"/>\n",
       "<polyline clip-path=\"url(#clip0003)\" style=\"stroke:#000000; stroke-width:2; stroke-opacity:0.1; fill:none\" points=\"\n",
       "  691.325,1503.47 691.325,47.2441 \n",
       "  \"/>\n",
       "<polyline clip-path=\"url(#clip0003)\" style=\"stroke:#000000; stroke-width:2; stroke-opacity:0.1; fill:none\" points=\"\n",
       "  1234.64,1503.47 1234.64,47.2441 \n",
       "  \"/>\n",
       "<polyline clip-path=\"url(#clip0003)\" style=\"stroke:#000000; stroke-width:2; stroke-opacity:0.1; fill:none\" points=\"\n",
       "  1777.95,1503.47 1777.95,47.2441 \n",
       "  \"/>\n",
       "<polyline clip-path=\"url(#clip0003)\" style=\"stroke:#000000; stroke-width:2; stroke-opacity:0.1; fill:none\" points=\"\n",
       "  2321.26,1503.47 2321.26,47.2441 \n",
       "  \"/>\n",
       "<polyline clip-path=\"url(#clip0003)\" style=\"stroke:#000000; stroke-width:2; stroke-opacity:0.1; fill:none\" points=\"\n",
       "  148.013,1503.47 2321.26,1503.47 \n",
       "  \"/>\n",
       "<polyline clip-path=\"url(#clip0003)\" style=\"stroke:#000000; stroke-width:2; stroke-opacity:0.1; fill:none\" points=\"\n",
       "  148.013,1212.23 2321.26,1212.23 \n",
       "  \"/>\n",
       "<polyline clip-path=\"url(#clip0003)\" style=\"stroke:#000000; stroke-width:2; stroke-opacity:0.1; fill:none\" points=\"\n",
       "  148.013,920.982 2321.26,920.982 \n",
       "  \"/>\n",
       "<polyline clip-path=\"url(#clip0003)\" style=\"stroke:#000000; stroke-width:2; stroke-opacity:0.1; fill:none\" points=\"\n",
       "  148.013,629.736 2321.26,629.736 \n",
       "  \"/>\n",
       "<polyline clip-path=\"url(#clip0003)\" style=\"stroke:#000000; stroke-width:2; stroke-opacity:0.1; fill:none\" points=\"\n",
       "  148.013,338.49 2321.26,338.49 \n",
       "  \"/>\n",
       "<polyline clip-path=\"url(#clip0003)\" style=\"stroke:#000000; stroke-width:2; stroke-opacity:0.1; fill:none\" points=\"\n",
       "  148.013,47.2441 2321.26,47.2441 \n",
       "  \"/>\n",
       "<polyline clip-path=\"url(#clip0001)\" style=\"stroke:#000000; stroke-width:4; stroke-opacity:1; fill:none\" points=\"\n",
       "  148.013,1503.47 2321.26,1503.47 \n",
       "  \"/>\n",
       "<polyline clip-path=\"url(#clip0001)\" style=\"stroke:#000000; stroke-width:4; stroke-opacity:1; fill:none\" points=\"\n",
       "  148.013,1503.47 148.013,47.2441 \n",
       "  \"/>\n",
       "<polyline clip-path=\"url(#clip0001)\" style=\"stroke:#000000; stroke-width:4; stroke-opacity:1; fill:none\" points=\"\n",
       "  148.013,1503.47 148.013,1481.63 \n",
       "  \"/>\n",
       "<polyline clip-path=\"url(#clip0001)\" style=\"stroke:#000000; stroke-width:4; stroke-opacity:1; fill:none\" points=\"\n",
       "  691.325,1503.47 691.325,1481.63 \n",
       "  \"/>\n",
       "<polyline clip-path=\"url(#clip0001)\" style=\"stroke:#000000; stroke-width:4; stroke-opacity:1; fill:none\" points=\"\n",
       "  1234.64,1503.47 1234.64,1481.63 \n",
       "  \"/>\n",
       "<polyline clip-path=\"url(#clip0001)\" style=\"stroke:#000000; stroke-width:4; stroke-opacity:1; fill:none\" points=\"\n",
       "  1777.95,1503.47 1777.95,1481.63 \n",
       "  \"/>\n",
       "<polyline clip-path=\"url(#clip0001)\" style=\"stroke:#000000; stroke-width:4; stroke-opacity:1; fill:none\" points=\"\n",
       "  2321.26,1503.47 2321.26,1481.63 \n",
       "  \"/>\n",
       "<polyline clip-path=\"url(#clip0001)\" style=\"stroke:#000000; stroke-width:4; stroke-opacity:1; fill:none\" points=\"\n",
       "  148.013,1503.47 180.612,1503.47 \n",
       "  \"/>\n",
       "<polyline clip-path=\"url(#clip0001)\" style=\"stroke:#000000; stroke-width:4; stroke-opacity:1; fill:none\" points=\"\n",
       "  148.013,1212.23 180.612,1212.23 \n",
       "  \"/>\n",
       "<polyline clip-path=\"url(#clip0001)\" style=\"stroke:#000000; stroke-width:4; stroke-opacity:1; fill:none\" points=\"\n",
       "  148.013,920.982 180.612,920.982 \n",
       "  \"/>\n",
       "<polyline clip-path=\"url(#clip0001)\" style=\"stroke:#000000; stroke-width:4; stroke-opacity:1; fill:none\" points=\"\n",
       "  148.013,629.736 180.612,629.736 \n",
       "  \"/>\n",
       "<polyline clip-path=\"url(#clip0001)\" style=\"stroke:#000000; stroke-width:4; stroke-opacity:1; fill:none\" points=\"\n",
       "  148.013,338.49 180.612,338.49 \n",
       "  \"/>\n",
       "<polyline clip-path=\"url(#clip0001)\" style=\"stroke:#000000; stroke-width:4; stroke-opacity:1; fill:none\" points=\"\n",
       "  148.013,47.2441 180.612,47.2441 \n",
       "  \"/>\n",
       "<g clip-path=\"url(#clip0001)\">\n",
       "<text style=\"fill:#000000; fill-opacity:1; font-family:Arial,Helvetica Neue,Helvetica,sans-serif; font-size:48px; text-anchor:middle;\" transform=\"rotate(0, 148.013, 1557.47)\" x=\"148.013\" y=\"1557.47\">0</text>\n",
       "</g>\n",
       "<g clip-path=\"url(#clip0001)\">\n",
       "<text style=\"fill:#000000; fill-opacity:1; font-family:Arial,Helvetica Neue,Helvetica,sans-serif; font-size:48px; text-anchor:middle;\" transform=\"rotate(0, 691.325, 1557.47)\" x=\"691.325\" y=\"1557.47\">50</text>\n",
       "</g>\n",
       "<g clip-path=\"url(#clip0001)\">\n",
       "<text style=\"fill:#000000; fill-opacity:1; font-family:Arial,Helvetica Neue,Helvetica,sans-serif; font-size:48px; text-anchor:middle;\" transform=\"rotate(0, 1234.64, 1557.47)\" x=\"1234.64\" y=\"1557.47\">100</text>\n",
       "</g>\n",
       "<g clip-path=\"url(#clip0001)\">\n",
       "<text style=\"fill:#000000; fill-opacity:1; font-family:Arial,Helvetica Neue,Helvetica,sans-serif; font-size:48px; text-anchor:middle;\" transform=\"rotate(0, 1777.95, 1557.47)\" x=\"1777.95\" y=\"1557.47\">150</text>\n",
       "</g>\n",
       "<g clip-path=\"url(#clip0001)\">\n",
       "<text style=\"fill:#000000; fill-opacity:1; font-family:Arial,Helvetica Neue,Helvetica,sans-serif; font-size:48px; text-anchor:middle;\" transform=\"rotate(0, 2321.26, 1557.47)\" x=\"2321.26\" y=\"1557.47\">200</text>\n",
       "</g>\n",
       "<g clip-path=\"url(#clip0001)\">\n",
       "<text style=\"fill:#000000; fill-opacity:1; font-family:Arial,Helvetica Neue,Helvetica,sans-serif; font-size:48px; text-anchor:end;\" transform=\"rotate(0, 124.013, 1520.97)\" x=\"124.013\" y=\"1520.97\">0</text>\n",
       "</g>\n",
       "<g clip-path=\"url(#clip0001)\">\n",
       "<text style=\"fill:#000000; fill-opacity:1; font-family:Arial,Helvetica Neue,Helvetica,sans-serif; font-size:48px; text-anchor:end;\" transform=\"rotate(0, 124.013, 1229.73)\" x=\"124.013\" y=\"1229.73\">10</text>\n",
       "</g>\n",
       "<g clip-path=\"url(#clip0001)\">\n",
       "<text style=\"fill:#000000; fill-opacity:1; font-family:Arial,Helvetica Neue,Helvetica,sans-serif; font-size:48px; text-anchor:end;\" transform=\"rotate(0, 124.013, 938.482)\" x=\"124.013\" y=\"938.482\">20</text>\n",
       "</g>\n",
       "<g clip-path=\"url(#clip0001)\">\n",
       "<text style=\"fill:#000000; fill-opacity:1; font-family:Arial,Helvetica Neue,Helvetica,sans-serif; font-size:48px; text-anchor:end;\" transform=\"rotate(0, 124.013, 647.236)\" x=\"124.013\" y=\"647.236\">30</text>\n",
       "</g>\n",
       "<g clip-path=\"url(#clip0001)\">\n",
       "<text style=\"fill:#000000; fill-opacity:1; font-family:Arial,Helvetica Neue,Helvetica,sans-serif; font-size:48px; text-anchor:end;\" transform=\"rotate(0, 124.013, 355.99)\" x=\"124.013\" y=\"355.99\">40</text>\n",
       "</g>\n",
       "<g clip-path=\"url(#clip0001)\">\n",
       "<text style=\"fill:#000000; fill-opacity:1; font-family:Arial,Helvetica Neue,Helvetica,sans-serif; font-size:48px; text-anchor:end;\" transform=\"rotate(0, 124.013, 64.7441)\" x=\"124.013\" y=\"64.7441\">50</text>\n",
       "</g>\n",
       "<polyline clip-path=\"url(#clip0003)\" style=\"stroke:#009af9; stroke-width:4; stroke-opacity:1; fill:none\" points=\"\n",
       "  158.879,621.29 169.745,712.159 180.612,735.167 191.478,510.908 202.344,639.93 213.21,799.533 224.077,650.415 234.943,509.743 245.809,594.204 256.675,656.24 \n",
       "  267.541,528.383 278.408,360.334 289.274,419.165 300.14,624.203 311.006,681.869 321.873,584.593 332.739,484.405 343.605,470.133 354.471,641.969 365.338,812.348 \n",
       "  376.204,589.544 387.07,579.933 397.936,805.358 408.803,844.093 419.669,793.999 430.535,862.442 441.401,921.274 452.267,830.696 463.134,818.173 474,848.171 \n",
       "  484.866,898.848 495.732,832.444 506.599,651.58 517.465,698.47 528.331,807.105 539.197,950.69 550.064,782.349 560.93,831.279 571.796,871.471 582.662,890.11 \n",
       "  593.528,881.373 604.395,979.523 615.261,1018.55 626.127,979.814 636.993,1031.95 647.86,1036.02 658.726,949.525 669.592,947.777 680.458,891.858 691.325,867.102 \n",
       "  702.191,918.361 713.057,865.354 723.923,665.268 734.79,548.479 745.656,606.728 756.522,726.139 767.388,852.54 778.254,837.395 789.121,866.228 799.987,879.043 \n",
       "  810.853,965.834 821.719,960.592 832.586,890.693 843.452,957.388 854.318,967.873 865.184,1001.95 876.051,964.087 886.917,784.097 897.783,701.383 908.649,940.496 \n",
       "  919.516,958.844 930.382,938.457 941.248,885.742 952.114,900.595 962.98,902.925 973.847,828.366 984.713,712.159 995.579,750.895 1006.45,664.977 1017.31,639.93 \n",
       "  1028.18,588.379 1039.04,691.481 1049.91,758.758 1060.78,843.22 1071.64,863.024 1082.51,957.679 1093.38,975.154 1104.24,945.156 1115.11,986.804 1125.97,1014.47 \n",
       "  1136.84,1052.92 1147.71,963.213 1158.57,550.809 1169.44,641.095 1180.31,798.368 1191.17,706.334 1202.04,621.29 1212.9,712.159 1223.77,735.167 1234.64,510.908 \n",
       "  1245.5,639.93 1256.37,799.533 1267.24,650.415 1278.1,509.743 1288.97,594.204 1299.83,656.24 1310.7,528.383 1321.57,360.334 1332.43,419.165 1343.3,624.203 \n",
       "  1354.16,681.869 1365.03,584.593 1375.9,484.405 1386.76,470.133 1397.63,641.969 1408.5,812.348 1419.36,589.544 1430.23,579.933 1441.09,805.358 1451.96,844.093 \n",
       "  1462.83,793.999 1473.69,862.442 1484.56,921.274 1495.43,830.696 1506.29,818.173 1517.16,848.171 1528.02,898.848 1538.89,832.444 1549.76,651.58 1560.62,698.47 \n",
       "  1571.49,807.105 1582.36,950.69 1593.22,782.349 1604.09,831.279 1614.95,871.471 1625.82,890.11 1636.69,881.373 1647.55,979.523 1658.42,1018.55 1669.29,979.814 \n",
       "  1680.15,1031.95 1691.02,1036.02 1701.88,949.525 1712.75,947.777 1723.62,891.858 1734.48,867.102 1745.35,918.361 1756.22,865.354 1767.08,665.268 1777.95,548.479 \n",
       "  1788.81,606.728 1799.68,726.139 1810.55,852.54 1821.41,837.395 1832.28,866.228 1843.15,879.043 1854.01,965.834 1864.88,960.592 1875.74,890.693 1886.61,957.388 \n",
       "  1897.48,967.873 1908.34,1001.95 1919.21,964.087 1930.08,784.097 1940.94,701.383 1951.81,940.496 1962.67,958.844 1973.54,938.457 1984.41,885.742 1995.27,900.595 \n",
       "  2006.14,902.925 2017.01,828.366 2027.87,712.159 2038.74,750.895 2049.6,664.977 2060.47,639.93 2071.34,588.379 2082.2,691.481 2093.07,758.758 2103.94,843.22 \n",
       "  2114.8,863.024 2125.67,957.679 2136.53,975.154 2147.4,945.156 2158.27,986.804 2169.13,1014.47 2180,1052.92 2190.87,963.213 \n",
       "  \"/>\n",
       "<polyline clip-path=\"url(#clip0003)\" style=\"stroke:#e26f46; stroke-width:4; stroke-opacity:1; fill:none\" points=\"\n",
       "  158.879,618.241 169.745,901.615 180.612,848.492 191.478,644.175 202.344,784.64 213.21,860.508 224.077,701.9 234.943,616.763 245.809,753.619 256.675,743.314 \n",
       "  267.541,577.434 278.408,225.488 289.274,444.031 300.14,475.209 311.006,680.615 321.873,484.107 332.739,583.858 343.605,255.573 354.471,375.163 365.338,852.605 \n",
       "  376.204,930.784 387.07,760.788 397.936,869.368 408.803,1018.6 419.669,997.209 430.535,908.575 441.401,976.058 452.267,1027.29 463.134,977.445 474,871.542 \n",
       "  484.866,952.171 495.732,946.558 506.599,772.439 517.465,715.947 528.331,823.976 539.197,735.984 550.064,331.954 560.93,256.433 571.796,252.6 582.662,457.601 \n",
       "  593.528,407.672 604.395,728.292 615.261,881.783 626.127,970.532 636.993,1051.39 647.86,1057.52 658.726,1110.33 669.592,1089.03 680.458,1070.16 691.325,1006.51 \n",
       "  702.191,958.513 713.057,852.009 723.923,732.295 734.79,577.209 745.656,524.91 756.522,771.44 767.388,826.891 778.254,993.21 789.121,1025.47 799.987,1103.35 \n",
       "  810.853,1109.11 821.719,1097.75 832.586,1051.11 843.452,1018.37 854.318,894.429 865.184,793.018 876.051,550.297 886.917,558.038 897.783,-89.2877 908.649,453.452 \n",
       "  919.516,814.365 930.382,945.465 941.248,1025.23 952.114,1029.31 962.98,1083.16 973.847,1041 984.713,1037.48 995.579,929.299 1006.45,869.511 1017.31,666.231 \n",
       "  1028.18,394.607 1039.04,592.101 1049.91,834.245 1060.78,957.093 1071.64,1006.05 1082.51,1078.19 1093.38,1088.52 1104.24,1094.25 1115.11,1050.65 1125.97,1043.63 \n",
       "  1136.84,953.685 1147.71,894.512 1158.57,241.043 1169.44,750.149 1180.31,820.161 1191.17,560.298 1202.04,618.252 1212.9,901.615 1223.77,848.49 1234.64,644.181 \n",
       "  1245.5,784.64 1256.37,860.505 1267.24,701.9 1278.1,616.767 1288.97,753.622 1299.83,743.309 1310.7,577.447 1321.57,225.519 1332.43,444.045 1343.3,475.239 \n",
       "  1354.16,680.612 1365.03,484.14 1375.9,583.843 1386.76,255.548 1397.63,375.15 1408.5,852.607 1419.36,930.788 1430.23,760.786 1441.09,869.365 1451.96,1018.6 \n",
       "  1462.83,997.206 1473.69,908.57 1484.56,976.057 1495.43,1027.29 1506.29,977.447 1517.16,871.543 1528.02,952.168 1538.89,946.558 1549.76,772.436 1560.62,715.938 \n",
       "  1571.49,823.982 1582.36,735.986 1593.22,331.958 1604.09,256.45 1614.95,252.583 1625.82,457.601 1636.69,407.66 1647.55,728.292 1658.42,881.779 1669.29,970.531 \n",
       "  1680.15,1051.4 1691.02,1057.52 1701.88,1110.33 1712.75,1089.03 1723.62,1070.16 1734.48,1006.52 1745.35,958.514 1756.22,852.013 1767.08,732.303 1777.95,577.198 \n",
       "  1788.81,524.923 1799.68,771.437 1810.55,826.889 1821.41,993.199 1832.28,1025.47 1843.15,1103.34 1854.01,1109.11 1864.88,1097.75 1875.74,1051.12 1886.61,1018.37 \n",
       "  1897.48,894.427 1908.34,793.016 1919.21,550.315 1930.08,558.033 1940.94,-89.3525 1951.81,453.439 1962.67,814.371 1973.54,945.46 1984.41,1025.23 1995.27,1029.31 \n",
       "  2006.14,1083.17 2017.01,1041 2027.87,1037.48 2038.74,929.298 2049.6,869.505 2060.47,666.213 2071.34,394.596 2082.2,592.096 2093.07,834.245 2103.94,957.089 \n",
       "  2114.8,1006.05 2125.67,1078.19 2136.53,1088.52 2147.4,1094.26 2158.27,1050.65 2169.13,1043.63 2180,953.687 2190.87,894.511 \n",
       "  \"/>\n",
       "<polygon clip-path=\"url(#clip0001)\" points=\"\n",
       "1958.43,312.204 2249.26,312.204 2249.26,130.764 1958.43,130.764 \n",
       "  \" fill=\"#ffffff\" fill-rule=\"evenodd\" fill-opacity=\"1\"/>\n",
       "<polyline clip-path=\"url(#clip0001)\" style=\"stroke:#000000; stroke-width:4; stroke-opacity:1; fill:none\" points=\"\n",
       "  1958.43,312.204 2249.26,312.204 2249.26,130.764 1958.43,130.764 1958.43,312.204 \n",
       "  \"/>\n",
       "<polyline clip-path=\"url(#clip0001)\" style=\"stroke:#009af9; stroke-width:4; stroke-opacity:1; fill:none\" points=\"\n",
       "  1982.43,191.244 2126.43,191.244 \n",
       "  \"/>\n",
       "<g clip-path=\"url(#clip0001)\">\n",
       "<text style=\"fill:#000000; fill-opacity:1; font-family:Arial,Helvetica Neue,Helvetica,sans-serif; font-size:48px; text-anchor:start;\" transform=\"rotate(0, 2150.43, 208.744)\" x=\"2150.43\" y=\"208.744\">y1</text>\n",
       "</g>\n",
       "<polyline clip-path=\"url(#clip0001)\" style=\"stroke:#e26f46; stroke-width:4; stroke-opacity:1; fill:none\" points=\"\n",
       "  1982.43,251.724 2126.43,251.724 \n",
       "  \"/>\n",
       "<g clip-path=\"url(#clip0001)\">\n",
       "<text style=\"fill:#000000; fill-opacity:1; font-family:Arial,Helvetica Neue,Helvetica,sans-serif; font-size:48px; text-anchor:start;\" transform=\"rotate(0, 2150.43, 269.224)\" x=\"2150.43\" y=\"269.224\">y2</text>\n",
       "</g>\n",
       "</svg>\n"
      ]
     },
     "execution_count": 62,
     "metadata": {},
     "output_type": "execute_result"
    }
   ],
   "source": [
    "plot(bf_e_1ygt)\n",
    "plot!(bf_t_1ygt * gammap,\n",
    "    ylims = (0, 50), xlims = (0, 200))"
   ]
  },
  {
   "cell_type": "code",
   "execution_count": 64,
   "metadata": {},
   "outputs": [
    {
     "data": {
      "text/plain": [
       "0.5444634554682006"
      ]
     },
     "execution_count": 64,
     "metadata": {},
     "output_type": "execute_result"
    }
   ],
   "source": [
    "cor(bf_t_2pg1, bf_e_2pg1)"
   ]
  },
  {
   "cell_type": "code",
   "execution_count": 65,
   "metadata": {},
   "outputs": [],
   "source": [
    "using Chemfiles"
   ]
  },
  {
   "cell_type": "code",
   "execution_count": 66,
   "metadata": {},
   "outputs": [
    {
     "data": {
      "text/plain": [
       "Trajectory(Ptr{Chemfiles.lib.CHFL_TRAJECTORY} @0x000000001026d2d0)"
      ]
     },
     "execution_count": 66,
     "metadata": {},
     "output_type": "execute_result"
    }
   ],
   "source": []
  },
  {
   "cell_type": "code",
   "execution_count": 71,
   "metadata": {},
   "outputs": [
    {
     "data": {
      "text/plain": [
       "0x000000000000000f"
      ]
     },
     "execution_count": 71,
     "metadata": {},
     "output_type": "execute_result"
    }
   ],
   "source": []
  },
  {
   "cell_type": "code",
   "execution_count": 72,
   "metadata": {},
   "outputs": [
    {
     "data": {
      "text/plain": [
       "0-element Array{Array{Float64,2},1}"
      ]
     },
     "execution_count": 72,
     "metadata": {},
     "output_type": "execute_result"
    }
   ],
   "source": []
  },
  {
   "cell_type": "code",
   "execution_count": 85,
   "metadata": {},
   "outputs": [],
   "source": [
    "in_trj = Trajectory(\"/home/pbarletta/labo/19/dynein/data/tctex_pdbs/1xdx.pdb\")\n",
    "in_xyz = Array{Array{Float64,2}, 1}()\n",
    "\n",
    "for i = 1:nsteps(in_trj)\n",
    "    in_frm = read(in_trj)\n",
    "    push!(in_xyz, positions(in_frm))\n",
    "end\n",
    "\n"
   ]
  },
  {
   "cell_type": "code",
   "execution_count": 93,
   "metadata": {},
   "outputs": [
    {
     "data": {
      "text/plain": [
       "3×3502 Array{Float64,2}:\n",
       " 0.0  0.0  0.0  0.0  0.0  0.0  0.0  0.0  …  0.0  0.0  0.0  0.0  0.0  0.0  0.0\n",
       " 0.0  0.0  0.0  0.0  0.0  0.0  0.0  0.0     0.0  0.0  0.0  0.0  0.0  0.0  0.0\n",
       " 0.0  0.0  0.0  0.0  0.0  0.0  0.0  0.0     0.0  0.0  0.0  0.0  0.0  0.0  0.0"
      ]
     },
     "execution_count": 93,
     "metadata": {},
     "output_type": "execute_result"
    }
   ],
   "source": []
  },
  {
   "cell_type": "code",
   "execution_count": 99,
   "metadata": {},
   "outputs": [
    {
     "data": {
      "text/plain": [
       "3×3502 Array{Float64,2}:\n",
       "   1.27639e217   -4.87527    8.24387  …   5.13826   3.04037  2.6602     \n",
       "   4.88481e129    8.91567    8.99047     26.1599   28.4882   6.38194e216\n",
       " -28.1871       -31.8595   -33.6542       6.21718   7.65095  2.4424e129 "
      ]
     },
     "execution_count": 99,
     "metadata": {},
     "output_type": "execute_result"
    }
   ],
   "source": [
    "xyz = zeros(Float64, size(in_xyz[1])[1], size(in_xyz[1])[2])\n",
    "for i=1:nsteps(in_trj)\n",
    "    xyz += in_xyz[i]\n",
    "end\n",
    "\n",
    "avg = xyz ./ nsteps(in_trj)"
   ]
  },
  {
   "cell_type": "code",
   "execution_count": 102,
   "metadata": {},
   "outputs": [
    {
     "data": {
      "text/plain": [
       "3×3502 Array{Float64,2}:\n",
       " -1.27639e217   4.87527  21.3411   …  -16.5163   -14.7264   -15.4992     \n",
       " -4.88481e129  -2.83367  -2.44447       1.69707   -2.03625   -6.38194e216\n",
       " 28.1871       11.6075   14.5682        4.22982    3.81605   -2.4424e129 "
      ]
     },
     "execution_count": 102,
     "metadata": {},
     "output_type": "execute_result"
    }
   ],
   "source": [
    "in_xyz[1] .- avg"
   ]
  },
  {
   "cell_type": "code",
   "execution_count": 86,
   "metadata": {},
   "outputs": [
    {
     "data": {
      "text/plain": [
       "3×3502 Array{Float64,2}:\n",
       "  31.901   31.063   29.889   29.852  …  -9.466  -10.984  -12.483  -11.228\n",
       "   0.012    1.11     1.421    2.472     29.624   27.153   27.569   28.79 \n",
       " -16.401  -16.951  -16.027  -15.388      7.815   10.063    9.23     9.451"
      ]
     },
     "execution_count": 86,
     "metadata": {},
     "output_type": "execute_result"
    }
   ],
   "source": [
    "in_xyz[2]"
   ]
  }
 ],
 "metadata": {
  "kernelspec": {
   "display_name": "Julia 1.1.0",
   "language": "julia",
   "name": "julia-1.1"
  },
  "language_info": {
   "file_extension": ".jl",
   "mimetype": "application/julia",
   "name": "julia",
   "version": "1.1.0"
  }
 },
 "nbformat": 4,
 "nbformat_minor": 2
}
