{
 "cells": [
  {
   "cell_type": "code",
   "execution_count": 1,
   "metadata": {},
   "outputs": [
    {
     "data": {
      "text/plain": [
       "\"/home/pbarletta/labo/19/dynein/run/lc8\""
      ]
     },
     "execution_count": 1,
     "metadata": {},
     "output_type": "execute_result"
    }
   ],
   "source": [
    "using DelimitedFiles, FileIO, LinearAlgebra, Statistics, DataFrames\n",
    "using Plots, JUMD, Revise\n",
    "home_tctex = \"/home/pbarletta/labo/19/dynein/run/tctex\"\n",
    "home_lc8 = \"/home/pbarletta/labo/19/dynein/run/lc8\""
   ]
  },
  {
   "cell_type": "markdown",
   "metadata": {},
   "source": [
    "## wall residues"
   ]
  },
  {
   "cell_type": "code",
   "execution_count": 2,
   "metadata": {},
   "outputs": [],
   "source": [
    "# 15\n",
    "res_15_ecf = [4; 5; 6; 7; 8; 9; 58; 59; 60; 61; 62; 63; 64; 65; 66; 67; 68; 69; 70; 71; 72; 73; 77;\n",
    "    78; 79; 80; 81; 82; 83; 117; 118; 119; 120; 121; 122; 123; 124; 125; 126; 127; 128; 129]\n",
    "res_15_edf = [89; 90; 91; 92; 93; 94; 143; 144; 145; 146; 147; 148; 149; 150; 151; 152; 153; 154; 155;\n",
    "    156; 157; 158; 162; 163; 164; 165; 166; 167; 168; 32; 33; 34; 35; 36; 37; 38; 39; 40; 41; 42; 43; 44]\n",
    "#\n",
    "res_15_ecf_x = res_15_ecf .* 3 .- 2\n",
    "res_15_ecf_y = res_15_ecf .* 3 .- 1\n",
    "res_15_ecf_z = res_15_ecf .* 3\n",
    "res_15_ecf_3 = JUMD.triple(res_15_ecf)\n",
    "#\n",
    "res_15_edf_x = res_15_edf .* 3 .- 2\n",
    "res_15_edf_y = res_15_edf .* 3 .- 1\n",
    "res_15_edf_z = res_15_edf .* 3\n",
    "res_15_edf_3 = JUMD.triple(res_15_edf)\n",
    "# \n",
    "modes_15lf = readdlm(joinpath(home_lc8, \"15lf/modos/15lf.mods\"))\n",
    "evals_15lf = convert(Array{Float64, 1},\n",
    "    readdlm(joinpath(home_lc8, \"15lf/modos/15lf.freq\"))[8:end, 1])\n",
    "gnm_15lf = JUMD.toGnm(modes_15lf);\n",
    "#\n",
    "modes_15lb = readdlm(joinpath(home_lc8, \"15lb/modos/15lb.mods\"))\n",
    "evals_15lb = convert(Array{Float64, 1},\n",
    "    readdlm(joinpath(home_lc8, \"15lb/modos/15lb.freq\"))[8:end, 1])\n",
    "gnm_15lb = JUMD.toGnm(modes_15lb);"
   ]
  },
  {
   "cell_type": "code",
   "execution_count": 3,
   "metadata": {},
   "outputs": [],
   "source": [
    "# 16\n",
    "res_16_ecf = [4; 5; 6; 7; 8; 9; 58; 59; 60; 61; 62; 63; 64; 65; 66; 67; 68; 69; 70; 71; 72; 73; 77;\n",
    "    78; 79; 80; 81; 82; 83; 117; 118; 119; 120; 121; 122; 123; 124; 125; 126; 127; 128; 129]\n",
    "res_16_edf = [89; 90; 91; 92; 93; 94; 143; 144; 145; 146; 147; 148; 149; 150; 151; 152; 153; 154; 155;\n",
    "    156; 157; 158; 162; 163; 164; 165; 166; 167; 168; 32; 33; 34; 35; 36; 37; 38; 39; 40; 41; 42; 43; 44]\n",
    "#\n",
    "res_16_ecf_x = res_16_ecf .* 3 .- 2\n",
    "res_16_ecf_y = res_16_ecf .* 3 .- 1\n",
    "res_16_ecf_z = res_16_ecf .* 3\n",
    "res_16_ecf_3 = JUMD.triple(res_16_ecf)\n",
    "#\n",
    "res_16_edf_x = res_16_edf .* 3 .- 2\n",
    "res_16_edf_y = res_16_edf .* 3 .- 1\n",
    "res_16_edf_z = res_16_edf .* 3\n",
    "res_16_edf_3 = JUMD.triple(res_16_edf)\n",
    "# \n",
    "modes_16lf = readdlm(joinpath(home_lc8, \"16lf/modos/16lf.mods\"))\n",
    "evals_16lf = convert(Array{Float64, 1},\n",
    "    readdlm(joinpath(home_lc8, \"16lf/modos/16lf.freq\"))[8:end, 1])\n",
    "gnm_16lf = JUMD.toGnm(modes_16lf);\n",
    "#\n",
    "modes_16lb = readdlm(joinpath(home_lc8, \"16lb/modos/16lb.mods\"))\n",
    "evals_16lb = convert(Array{Float64, 1},\n",
    "    readdlm(joinpath(home_lc8, \"16lb/modos/16lb.freq\"))[8:end, 1])\n",
    "gnm_16lb = JUMD.toGnm(modes_16lb);"
   ]
  },
  {
   "cell_type": "code",
   "execution_count": 4,
   "metadata": {},
   "outputs": [],
   "source": [
    "# 1c\n",
    "res_1c_ecf = [4; 5; 6; 7; 8; 9; 58; 59; 60; 61; 62; 63; 64; 65; 66; 67; 68; 69; 70; 71; 72; 73; 77;\n",
    "    78; 79; 80; 81; 82; 83; 117; 118; 119; 120; 121; 122; 123; 124; 125; 126; 127; 128; 129]\n",
    "res_1c_edf = [89; 90; 91; 92; 93; 94; 143; 144; 145; 146; 147; 148; 149; 150; 151; 152; 153; 154; 155;\n",
    "    156; 157; 158; 162; 163; 164; 165; 166; 167; 168; 32; 33; 34; 35; 36; 37; 38; 39; 40; 41; 42; 43; 44]\n",
    "#\n",
    "res_1c_ecf_x = res_1c_ecf .* 3 .- 2\n",
    "res_1c_ecf_y = res_1c_ecf .* 3 .- 1\n",
    "res_1c_ecf_z = res_1c_ecf .* 3\n",
    "res_1c_ecf_3 = JUMD.triple(res_1c_ecf)\n",
    "#\n",
    "res_1c_edf_x = res_1c_edf .* 3 .- 2\n",
    "res_1c_edf_y = res_1c_edf .* 3 .- 1\n",
    "res_1c_edf_z = res_1c_edf .* 3\n",
    "res_1c_edf_3 = JUMD.triple(res_1c_edf)\n",
    "# \n",
    "modes_1clf = readdlm(joinpath(home_lc8, \"1clf/modos/1clf.mods\"))\n",
    "evals_1clf = convert(Array{Float64, 1},\n",
    "    readdlm(joinpath(home_lc8, \"1clf/modos/1clf.freq\"))[8:end, 1])\n",
    "gnm_1clf = JUMD.toGnm(modes_1clf);\n",
    "#\n",
    "modes_1clb = readdlm(joinpath(home_lc8, \"1clb/modos/1clb.mods\"))\n",
    "evals_1clb = convert(Array{Float64, 1},\n",
    "    readdlm(joinpath(home_lc8, \"1clb/modos/1clb.freq\"))[8:end, 1])\n",
    "gnm_1clb = JUMD.toGnm(modes_1clb);"
   ]
  },
  {
   "cell_type": "code",
   "execution_count": 5,
   "metadata": {},
   "outputs": [],
   "source": [
    "# 2p\n",
    "res_2p_ecf = [4; 5; 6; 7; 8; 9; 58; 59; 60; 61; 62; 63; 64; 65; 66; 67; 68; 69; 70; 71; 72; 73; 77;\n",
    "    78; 79; 80; 81; 82; 83; 117; 118; 119; 120; 121; 122; 123; 124; 125; 126; 127; 128; 129]\n",
    "res_2p_edf = [89; 90; 91; 92; 93; 94; 143; 144; 145; 146; 147; 148; 149; 150; 151; 152; 153; 154; 155;\n",
    "    156; 157; 158; 162; 163; 164; 165; 166; 167; 168; 32; 33; 34; 35; 36; 37; 38; 39; 40; 41; 42; 43; 44]\n",
    "#\n",
    "res_2p_ecf_x = res_2p_ecf .* 3 .- 2\n",
    "res_2p_ecf_y = res_2p_ecf .* 3 .- 1\n",
    "res_2p_ecf_z = res_2p_ecf .* 3\n",
    "res_2p_ecf_3 = JUMD.triple(res_2p_ecf)\n",
    "#\n",
    "res_2p_edf_x = res_2p_edf .* 3 .- 2\n",
    "res_2p_edf_y = res_2p_edf .* 3 .- 1\n",
    "res_2p_edf_z = res_2p_edf .* 3\n",
    "res_2p_edf_3 = JUMD.triple(res_2p_edf)\n",
    "# \n",
    "modes_2plf = readdlm(joinpath(home_lc8, \"2plf/modos/2plf.mods\"))\n",
    "evals_2plf = convert(Array{Float64, 1},\n",
    "    readdlm(joinpath(home_lc8, \"2plf/modos/2plf.freq\"))[8:end, 1])\n",
    "gnm_2plf = JUMD.toGnm(modes_2plf);\n",
    "#\n",
    "modes_2plb = readdlm(joinpath(home_lc8, \"2plb/modos/2plb.mods\"))\n",
    "evals_2plb = convert(Array{Float64, 1},\n",
    "    readdlm(joinpath(home_lc8, \"2plb/modos/2plb.freq\"))[8:end, 1])\n",
    "gnm_2plb = JUMD.toGnm(modes_2plb);"
   ]
  },
  {
   "cell_type": "code",
   "execution_count": 6,
   "metadata": {},
   "outputs": [],
   "source": [
    "# 2x\n",
    "res_2x_ecf = [4; 5; 6; 7; 8; 9; 58; 59; 60; 61; 62; 63; 64; 65; 66; 67; 68; 69; 70; 71; 72; 73; 77;\n",
    "    78; 79; 80; 81; 82; 83; 117; 118; 119; 120; 121; 122; 123; 124; 125; 126; 127; 128; 129]\n",
    "res_2x_edf = [89; 90; 91; 92; 93; 94; 143; 144; 145; 146; 147; 148; 149; 150; 151; 152; 153; 154; 155;\n",
    "    156; 157; 158; 162; 163; 164; 165; 166; 167; 168; 32; 33; 34; 35; 36; 37; 38; 39; 40; 41; 42; 43; 44]\n",
    "#\n",
    "res_2x_ecf_x = res_2x_ecf .* 3 .- 2\n",
    "res_2x_ecf_y = res_2x_ecf .* 3 .- 1\n",
    "res_2x_ecf_z = res_2x_ecf .* 3\n",
    "res_2x_ecf_3 = JUMD.triple(res_2x_ecf)\n",
    "#\n",
    "res_2x_edf_x = res_2x_edf .* 3 .- 2\n",
    "res_2x_edf_y = res_2x_edf .* 3 .- 1\n",
    "res_2x_edf_z = res_2x_edf .* 3\n",
    "res_2x_edf_3 = JUMD.triple(res_2x_edf)\n",
    "# \n",
    "modes_2xlf = readdlm(joinpath(home_lc8, \"2xlf/modos/2xlf.mods\"))\n",
    "evals_2xlf = convert(Array{Float64, 1},\n",
    "    readdlm(joinpath(home_lc8, \"2xlf/modos/2xlf.freq\"))[8:end, 1])\n",
    "gnm_2xlf = JUMD.toGnm(modes_2xlf);\n",
    "#\n",
    "modes_2xlb = readdlm(joinpath(home_lc8, \"2xlb/modos/2xlb.mods\"))\n",
    "evals_2xlb = convert(Array{Float64, 1},\n",
    "    readdlm(joinpath(home_lc8, \"2xlb/modos/2xlb.freq\"))[8:end, 1])\n",
    "gnm_2xlb = JUMD.toGnm(modes_2xlb);"
   ]
  },
  {
   "cell_type": "code",
   "execution_count": 7,
   "metadata": {},
   "outputs": [],
   "source": [
    "# 3f\n",
    "res_3f_ecf = [4; 5; 6; 7; 8; 9; 58; 59; 60; 61; 62; 63; 64; 65; 66; 67; 68; 69; 70; 71; 72; 73; 77;\n",
    "    78; 79; 80; 81; 82; 83; 117; 118; 119; 120; 121; 122; 123; 124; 125; 126; 127; 128; 129]\n",
    "res_3f_edf = [89; 90; 91; 92; 93; 94; 143; 144; 145; 146; 147; 148; 149; 150; 151; 152; 153; 154; 155;\n",
    "    156; 157; 158; 162; 163; 164; 165; 166; 167; 168; 32; 33; 34; 35; 36; 37; 38; 39; 40; 41; 42; 43; 44]\n",
    "#\n",
    "res_3f_ecf_x = res_3f_ecf .* 3 .- 2\n",
    "res_3f_ecf_y = res_3f_ecf .* 3 .- 1\n",
    "res_3f_ecf_z = res_3f_ecf .* 3\n",
    "res_3f_ecf_3 = JUMD.triple(res_3f_ecf)\n",
    "#\n",
    "res_3f_edf_x = res_3f_edf .* 3 .- 2\n",
    "res_3f_edf_y = res_3f_edf .* 3 .- 1\n",
    "res_3f_edf_z = res_3f_edf .* 3\n",
    "res_3f_edf_3 = JUMD.triple(res_3f_edf)\n",
    "# \n",
    "modes_3flf = readdlm(joinpath(home_lc8, \"3flf/modos/3flf.mods\"))\n",
    "evals_3flf = convert(Array{Float64, 1},\n",
    "    readdlm(joinpath(home_lc8, \"3flf/modos/3flf.freq\"))[8:end, 1])\n",
    "gnm_3flf = JUMD.toGnm(modes_3flf);\n",
    "#\n",
    "modes_3flb = readdlm(joinpath(home_lc8, \"3flb/modos/3flb.mods\"))\n",
    "evals_3flb = convert(Array{Float64, 1},\n",
    "    readdlm(joinpath(home_lc8, \"3flb/modos/3flb.freq\"))[8:end, 1])\n",
    "gnm_3flb = JUMD.toGnm(modes_3flb);"
   ]
  },
  {
   "cell_type": "code",
   "execution_count": 8,
   "metadata": {},
   "outputs": [],
   "source": [
    "# 3g\n",
    "res_3g_ecf = [4; 5; 6; 7; 8; 9; 58; 59; 60; 61; 62; 63; 64; 65; 66; 67; 68; 69; 70; 71; 72; 73; 77;\n",
    "    78; 79; 80; 81; 82; 83; 117; 118; 119; 120; 121; 122; 123; 124; 125; 126; 127; 128; 129]\n",
    "res_3g_edf = [89; 90; 91; 92; 93; 94; 143; 144; 145; 146; 147; 148; 149; 150; 151; 152; 153; 154; 155;\n",
    "    156; 157; 158; 162; 163; 164; 165; 166; 167; 168; 32; 33; 34; 35; 36; 37; 38; 39; 40; 41; 42; 43; 44]\n",
    "#\n",
    "res_3g_ecf_x = res_3g_ecf .* 3 .- 2\n",
    "res_3g_ecf_y = res_3g_ecf .* 3 .- 1\n",
    "res_3g_ecf_z = res_3g_ecf .* 3\n",
    "res_3g_ecf_3 = JUMD.triple(res_3g_ecf)\n",
    "#\n",
    "res_3g_edf_x = res_3g_edf .* 3 .- 2\n",
    "res_3g_edf_y = res_3g_edf .* 3 .- 1\n",
    "res_3g_edf_z = res_3g_edf .* 3\n",
    "res_3g_edf_3 = JUMD.triple(res_3g_edf)\n",
    "# \n",
    "modes_3glf = readdlm(joinpath(home_lc8, \"3glf/modos/3glf.mods\"))\n",
    "evals_3glf = convert(Array{Float64, 1},\n",
    "    readdlm(joinpath(home_lc8, \"3glf/modos/3glf.freq\"))[8:end, 1])\n",
    "gnm_3glf = JUMD.toGnm(modes_3glf);\n",
    "#\n",
    "modes_3glb = readdlm(joinpath(home_lc8, \"3glb/modos/3glb.mods\"))\n",
    "evals_3glb = convert(Array{Float64, 1},\n",
    "    readdlm(joinpath(home_lc8, \"3glb/modos/3glb.freq\"))[8:end, 1])\n",
    "gnm_3glb = JUMD.toGnm(modes_3glb);"
   ]
  },
  {
   "cell_type": "code",
   "execution_count": 9,
   "metadata": {},
   "outputs": [],
   "source": [
    "# 3z\n",
    "res_3z_ecf = [4; 5; 6; 7; 8; 9; 58; 59; 60; 61; 62; 63; 64; 65; 66; 67; 68; 69; 70; 71; 72; 73; 77;\n",
    "    78; 79; 80; 81; 82; 83; 117; 118; 119; 120; 121; 122; 123; 124; 125; 126; 127; 128; 129]\n",
    "res_3z_edf = [89; 90; 91; 92; 93; 94; 143; 144; 145; 146; 147; 148; 149; 150; 151; 152; 153; 154; 155;\n",
    "    156; 157; 158; 162; 163; 164; 165; 166; 167; 168; 32; 33; 34; 35; 36; 37; 38; 39; 40; 41; 42; 43; 44]\n",
    "#\n",
    "res_3z_ecf_x = res_3z_ecf .* 3 .- 2\n",
    "res_3z_ecf_y = res_3z_ecf .* 3 .- 1\n",
    "res_3z_ecf_z = res_3z_ecf .* 3\n",
    "res_3z_ecf_3 = JUMD.triple(res_3z_ecf)\n",
    "#\n",
    "res_3z_edf_x = res_3z_edf .* 3 .- 2\n",
    "res_3z_edf_y = res_3z_edf .* 3 .- 1\n",
    "res_3z_edf_z = res_3z_edf .* 3\n",
    "res_3z_edf_3 = JUMD.triple(res_3z_edf)\n",
    "# \n",
    "modes_3zlf = readdlm(joinpath(home_lc8, \"3zlf/modos/3zlf.mods\"))\n",
    "evals_3zlf = convert(Array{Float64, 1},\n",
    "    readdlm(joinpath(home_lc8, \"3zlf/modos/3zlf.freq\"))[8:end, 1])\n",
    "gnm_3zlf = JUMD.toGnm(modes_3zlf);\n",
    "#\n",
    "modes_3zlb = readdlm(joinpath(home_lc8, \"3zlb/modos/3zlb.mods\"))\n",
    "evals_3zlb = convert(Array{Float64, 1},\n",
    "    readdlm(joinpath(home_lc8, \"3zlb/modos/3zlb.freq\"))[8:end, 1])\n",
    "gnm_3zlb = JUMD.toGnm(modes_3zlb);"
   ]
  },
  {
   "cell_type": "code",
   "execution_count": 10,
   "metadata": {},
   "outputs": [],
   "source": [
    "# adpter_4q_lc8 = [ collect(4:252) ; collect(256:504)]\n",
    "# 4q\n",
    "res_4q_ecf = [ 3; 4; 5; 6; 7; 8; 57; 58; 59; 60; 61; 62; 63; 64; 65; 66; 67; 68; 69; 70; 71; 72; 76;\n",
    "    77; 78; 79; 80; 81; 82; 114; 115; 116; 117; 118; 119; 120; 121; 122; 123; 124; 125; 126 ]\n",
    "res_4q_edf = [86; 87; 88; 89; 90; 91; 140; 141; 142; 143; 144; 145; 146; 147; 148; 149; 150; 151; 152;\n",
    "    153; 154; 155; 159; 160; 161; 162; 163; 164; 165; 31; 32; 33; 34; 35; 36; 37; 38; 39; 40; 41; 42; 43]\n",
    "#\n",
    "\n",
    "res_4q_ecf_x = res_4q_ecf .* 3 .- 2\n",
    "res_4q_ecf_y = res_4q_ecf .* 3 .- 1\n",
    "res_4q_ecf_z = res_4q_ecf .* 3\n",
    "res_4q_ecf_3 = JUMD.triple(res_4q_ecf)\n",
    "#\n",
    "res_4q_edf_x = res_4q_edf .* 3 .- 2\n",
    "res_4q_edf_y = res_4q_edf .* 3 .- 1\n",
    "res_4q_edf_z = res_4q_edf .* 3\n",
    "res_4q_edf_3 = JUMD.triple(res_4q_edf)\n",
    "# \n",
    "modes_4qlf = readdlm(joinpath(home_lc8, \"4qlf/modos/4qlf.mods\"))\n",
    "evals_4qlf = convert(Array{Float64, 1},\n",
    "    readdlm(joinpath(home_lc8, \"4qlf/modos/4qlf.freq\"))[8:end, 1])\n",
    "gnm_4qlf = JUMD.toGnm(modes_4qlf);\n",
    "#\n",
    "modes_4qlb = readdlm(joinpath(home_lc8, \"4qlb/modos/4qlb.mods\"))\n",
    "evals_4qlb = convert(Array{Float64, 1},\n",
    "    readdlm(joinpath(home_lc8, \"4qlb/modos/4qlb.freq\"))[8:end, 1])\n",
    "gnm_4qlb = JUMD.toGnm(modes_4qlb);"
   ]
  },
  {
   "cell_type": "markdown",
   "metadata": {},
   "source": [
    "## Correlaciones"
   ]
  },
  {
   "cell_type": "code",
   "execution_count": 11,
   "metadata": {},
   "outputs": [
    {
     "data": {
      "text/html": [
       "<table class=\"data-frame\"><thead><tr><th></th><th>1F95</th><th>1F96</th><th>1CMI</th><th>2P2P</th><th>2XQQ</th><th>3FM7</th><th>3GLW</th><th>3ZKE</th><th>4QH7</th></tr><tr><th></th><th>Float64</th><th>Float64</th><th>Float64</th><th>Float64</th><th>Float64</th><th>Float64</th><th>Float64</th><th>Float64</th><th>Float64</th></tr></thead><tbody><p>9 rows × 9 columns</p><tr><th>1</th><td>1.0</td><td>-0.989625</td><td>0.99312</td><td>0.992456</td><td>0.996054</td><td>-0.989409</td><td>-0.994725</td><td>-0.991878</td><td>0.993845</td></tr><tr><th>2</th><td>-0.989625</td><td>1.0</td><td>-0.983389</td><td>-0.981456</td><td>-0.988838</td><td>0.974699</td><td>0.983137</td><td>0.979096</td><td>-0.983699</td></tr><tr><th>3</th><td>0.99312</td><td>-0.983389</td><td>1.0</td><td>0.996468</td><td>0.996733</td><td>-0.993985</td><td>-0.996861</td><td>-0.996396</td><td>0.996747</td></tr><tr><th>4</th><td>0.992456</td><td>-0.981456</td><td>0.996468</td><td>1.0</td><td>0.998091</td><td>-0.997778</td><td>-0.998836</td><td>-0.999106</td><td>0.993957</td></tr><tr><th>5</th><td>0.996054</td><td>-0.988838</td><td>0.996733</td><td>0.998091</td><td>1.0</td><td>-0.994861</td><td>-0.998073</td><td>-0.997636</td><td>0.995871</td></tr><tr><th>6</th><td>-0.989409</td><td>0.974699</td><td>-0.993985</td><td>-0.997778</td><td>-0.994861</td><td>1.0</td><td>0.997215</td><td>0.998418</td><td>-0.99261</td></tr><tr><th>7</th><td>-0.994725</td><td>0.983137</td><td>-0.996861</td><td>-0.998836</td><td>-0.998073</td><td>0.997215</td><td>1.0</td><td>0.998419</td><td>-0.995629</td></tr><tr><th>8</th><td>-0.991878</td><td>0.979096</td><td>-0.996396</td><td>-0.999106</td><td>-0.997636</td><td>0.998418</td><td>0.998419</td><td>1.0</td><td>-0.994628</td></tr><tr><th>9</th><td>0.993845</td><td>-0.983699</td><td>0.996747</td><td>0.993957</td><td>0.995871</td><td>-0.99261</td><td>-0.995629</td><td>-0.994628</td><td>1.0</td></tr></tbody></table>"
      ],
      "text/latex": [
       "\\begin{tabular}{r|ccccccccc}\n",
       "\t& 1F95 & 1F96 & 1CMI & 2P2P & 2XQQ & 3FM7 & 3GLW & 3ZKE & 4QH7\\\\\n",
       "\t\\hline\n",
       "\t& Float64 & Float64 & Float64 & Float64 & Float64 & Float64 & Float64 & Float64 & Float64\\\\\n",
       "\t\\hline\n",
       "\t1 & 1.0 & -0.989625 & 0.99312 & 0.992456 & 0.996054 & -0.989409 & -0.994725 & -0.991878 & 0.993845 \\\\\n",
       "\t2 & -0.989625 & 1.0 & -0.983389 & -0.981456 & -0.988838 & 0.974699 & 0.983137 & 0.979096 & -0.983699 \\\\\n",
       "\t3 & 0.99312 & -0.983389 & 1.0 & 0.996468 & 0.996733 & -0.993985 & -0.996861 & -0.996396 & 0.996747 \\\\\n",
       "\t4 & 0.992456 & -0.981456 & 0.996468 & 1.0 & 0.998091 & -0.997778 & -0.998836 & -0.999106 & 0.993957 \\\\\n",
       "\t5 & 0.996054 & -0.988838 & 0.996733 & 0.998091 & 1.0 & -0.994861 & -0.998073 & -0.997636 & 0.995871 \\\\\n",
       "\t6 & -0.989409 & 0.974699 & -0.993985 & -0.997778 & -0.994861 & 1.0 & 0.997215 & 0.998418 & -0.99261 \\\\\n",
       "\t7 & -0.994725 & 0.983137 & -0.996861 & -0.998836 & -0.998073 & 0.997215 & 1.0 & 0.998419 & -0.995629 \\\\\n",
       "\t8 & -0.991878 & 0.979096 & -0.996396 & -0.999106 & -0.997636 & 0.998418 & 0.998419 & 1.0 & -0.994628 \\\\\n",
       "\t9 & 0.993845 & -0.983699 & 0.996747 & 0.993957 & 0.995871 & -0.99261 & -0.995629 & -0.994628 & 1.0 \\\\\n",
       "\\end{tabular}\n"
      ],
      "text/plain": [
       "9×9 DataFrame. Omitted printing of 3 columns\n",
       "│ Row │ 1F95      │ 1F96      │ 1CMI      │ 2P2P      │ 2XQQ      │ 3FM7      │\n",
       "│     │ \u001b[90mFloat64\u001b[39m   │ \u001b[90mFloat64\u001b[39m   │ \u001b[90mFloat64\u001b[39m   │ \u001b[90mFloat64\u001b[39m   │ \u001b[90mFloat64\u001b[39m   │ \u001b[90mFloat64\u001b[39m   │\n",
       "├─────┼───────────┼───────────┼───────────┼───────────┼───────────┼───────────┤\n",
       "│ 1   │ 1.0       │ -0.989625 │ 0.99312   │ 0.992456  │ 0.996054  │ -0.989409 │\n",
       "│ 2   │ -0.989625 │ 1.0       │ -0.983389 │ -0.981456 │ -0.988838 │ 0.974699  │\n",
       "│ 3   │ 0.99312   │ -0.983389 │ 1.0       │ 0.996468  │ 0.996733  │ -0.993985 │\n",
       "│ 4   │ 0.992456  │ -0.981456 │ 0.996468  │ 1.0       │ 0.998091  │ -0.997778 │\n",
       "│ 5   │ 0.996054  │ -0.988838 │ 0.996733  │ 0.998091  │ 1.0       │ -0.994861 │\n",
       "│ 6   │ -0.989409 │ 0.974699  │ -0.993985 │ -0.997778 │ -0.994861 │ 1.0       │\n",
       "│ 7   │ -0.994725 │ 0.983137  │ -0.996861 │ -0.998836 │ -0.998073 │ 0.997215  │\n",
       "│ 8   │ -0.991878 │ 0.979096  │ -0.996396 │ -0.999106 │ -0.997636 │ 0.998418  │\n",
       "│ 9   │ 0.993845  │ -0.983699 │ 0.996747  │ 0.993957  │ 0.995871  │ -0.99261  │"
      ]
     },
     "execution_count": 11,
     "metadata": {},
     "output_type": "execute_result"
    }
   ],
   "source": [
    "mtx_lc8_1 = hcat(modes_15lf[res_15_ecf_x, 1], modes_16lf[res_16_ecf_x, 1],\n",
    "    modes_1clf[res_1c_ecf_x, 1],  modes_2plf[res_2p_ecf_x, 1], modes_2xlf[res_2x_ecf_x, 1],\n",
    "    modes_3flf[res_3f_ecf_x, 1],  modes_3glf[res_3g_ecf_x, 1], modes_3zlf[res_3z_ecf_x, 1],\n",
    "    modes_4qlf[res_4q_ecf_x, 1])\n",
    "\n",
    "df_cor_lc8_1_x = DataFrame(cor(mtx_lc8_1))\n",
    "rename!(df_cor_lc8_1_x, :x1 => Symbol(\"1F95\"))\n",
    "rename!(df_cor_lc8_1_x, :x2 => Symbol(\"1F96\"))\n",
    "rename!(df_cor_lc8_1_x, :x3 => Symbol(\"1CMI\"))\n",
    "rename!(df_cor_lc8_1_x, :x4 => Symbol(\"2P2P\"))\n",
    "rename!(df_cor_lc8_1_x, :x5 => Symbol(\"2XQQ\"))\n",
    "rename!(df_cor_lc8_1_x, :x6 => Symbol(\"3FM7\"))\n",
    "rename!(df_cor_lc8_1_x, :x7 => Symbol(\"3GLW\"))\n",
    "rename!(df_cor_lc8_1_x, :x8 => Symbol(\"3ZKE\"))\n",
    "rename!(df_cor_lc8_1_x, :x9 => Symbol(\"4QH7\"))\n",
    "\n",
    "#####################\n",
    "\n",
    "mtx_lc8_1 = hcat(modes_15lf[res_15_ecf_y, 1], modes_16lf[res_16_ecf_y, 1],\n",
    "    modes_1clf[res_1c_ecf_y, 1],  modes_2plf[res_2p_ecf_y, 1], modes_2xlf[res_2x_ecf_y, 1],\n",
    "    modes_3flf[res_3f_ecf_y, 1],  modes_3glf[res_3g_ecf_y, 1], modes_3zlf[res_3z_ecf_y, 1],\n",
    "    modes_4qlf[res_4q_ecf_y, 1])\n",
    "\n",
    "df_cor_lc8_1_y = DataFrame(cor(mtx_lc8_1))\n",
    "rename!(df_cor_lc8_1_y, :x1 => Symbol(\"1F95\"))\n",
    "rename!(df_cor_lc8_1_y, :x2 => Symbol(\"1F96\"))\n",
    "rename!(df_cor_lc8_1_y, :x3 => Symbol(\"1CMI\"))\n",
    "rename!(df_cor_lc8_1_y, :x4 => Symbol(\"2P2P\"))\n",
    "rename!(df_cor_lc8_1_y, :x5 => Symbol(\"2XQQ\"))\n",
    "rename!(df_cor_lc8_1_y, :x6 => Symbol(\"3FM7\"))\n",
    "rename!(df_cor_lc8_1_y, :x7 => Symbol(\"3GLW\"))\n",
    "rename!(df_cor_lc8_1_y, :x8 => Symbol(\"3ZKE\"))\n",
    "rename!(df_cor_lc8_1_y, :x9 => Symbol(\"4QH7\"))\n",
    "\n",
    "####################\n",
    "\n",
    "mtx_lc8_1 = hcat(modes_15lf[res_15_ecf_z, 1], modes_16lf[res_16_ecf_z, 1],\n",
    "    modes_1clf[res_1c_ecf_z, 1],  modes_2plf[res_2p_ecf_z, 1], modes_2xlf[res_2x_ecf_z, 1],\n",
    "    modes_3flf[res_3f_ecf_z, 1],  modes_3glf[res_3g_ecf_z, 1], modes_3zlf[res_3z_ecf_z, 1],\n",
    "    modes_4qlf[res_4q_ecf_z, 1])\n",
    "\n",
    "df_cor_lc8_1_z = DataFrame(cor(mtx_lc8_1))\n",
    "rename!(df_cor_lc8_1_z, :x1 => Symbol(\"1F95\"))\n",
    "rename!(df_cor_lc8_1_z, :x2 => Symbol(\"1F96\"))\n",
    "rename!(df_cor_lc8_1_z, :x3 => Symbol(\"1CMI\"))\n",
    "rename!(df_cor_lc8_1_z, :x4 => Symbol(\"2P2P\"))\n",
    "rename!(df_cor_lc8_1_z, :x5 => Symbol(\"2XQQ\"))\n",
    "rename!(df_cor_lc8_1_z, :x6 => Symbol(\"3FM7\"))\n",
    "rename!(df_cor_lc8_1_z, :x7 => Symbol(\"3GLW\"))\n",
    "rename!(df_cor_lc8_1_z, :x8 => Symbol(\"3ZKE\"))\n",
    "rename!(df_cor_lc8_1_z, :x9 => Symbol(\"4QH7\"))\n",
    "\n",
    "####################\n",
    "\n",
    "mtx_lc8_1 = hcat(gnm_15lf[res_15_ecf, 1], gnm_16lf[res_16_ecf, 1], \n",
    "    gnm_1clf[res_1c_ecf, 1],  gnm_2plf[res_2p_ecf, 1], gnm_2xlf[res_2x_ecf, 1],\n",
    "    gnm_3flf[res_3f_ecf, 1],  gnm_3glf[res_3g_ecf, 1], gnm_3zlf[res_3z_ecf, 1],\n",
    "    gnm_4qlf[res_4q_ecf, 1])\n",
    "\n",
    "df_cor_lc8_1 = DataFrame(cor(mtx_lc8_1))\n",
    "rename!(df_cor_lc8_1, :x1 => Symbol(\"1F95\"))\n",
    "rename!(df_cor_lc8_1, :x2 => Symbol(\"1F96\"))\n",
    "rename!(df_cor_lc8_1, :x3 => Symbol(\"1CMI\"))\n",
    "rename!(df_cor_lc8_1, :x4 => Symbol(\"2P2P\"))\n",
    "rename!(df_cor_lc8_1, :x5 => Symbol(\"2XQQ\"))\n",
    "rename!(df_cor_lc8_1, :x6 => Symbol(\"3FM7\"))\n",
    "rename!(df_cor_lc8_1, :x7 => Symbol(\"3GLW\"))\n",
    "rename!(df_cor_lc8_1, :x8 => Symbol(\"3ZKE\"))\n",
    "rename!(df_cor_lc8_1, :x9 => Symbol(\"4QH7\"))\n",
    "\n",
    "####################\n",
    "\n",
    "mtx_lc8_1 = hcat(modes_15lf[res_15_ecf_3, 1], modes_16lf[res_16_ecf_3, 1],\n",
    "    modes_1clf[res_1c_ecf_3, 1],  modes_2plf[res_2p_ecf_3, 1], modes_2xlf[res_2x_ecf_3, 1],\n",
    "    modes_3flf[res_3f_ecf_3, 1],  modes_3glf[res_3g_ecf_3, 1], modes_3zlf[res_3z_ecf_3, 1],\n",
    "    modes_4qlf[res_4q_ecf_3, 1])\n",
    "\n",
    "df_cor_lc8_1_3 = DataFrame(cor(mtx_lc8_1))\n",
    "rename!(df_cor_lc8_1_3, :x1 => Symbol(\"1F95\"))\n",
    "rename!(df_cor_lc8_1_3, :x2 => Symbol(\"1F96\"))\n",
    "rename!(df_cor_lc8_1_3, :x3 => Symbol(\"1CMI\"))\n",
    "rename!(df_cor_lc8_1_3, :x4 => Symbol(\"2P2P\"))\n",
    "rename!(df_cor_lc8_1_3, :x5 => Symbol(\"2XQQ\"))\n",
    "rename!(df_cor_lc8_1_3, :x6 => Symbol(\"3FM7\"))\n",
    "rename!(df_cor_lc8_1_3, :x7 => Symbol(\"3GLW\"))\n",
    "rename!(df_cor_lc8_1_3, :x8 => Symbol(\"3ZKE\"))\n",
    "rename!(df_cor_lc8_1_3, :x9 => Symbol(\"4QH7\"))"
   ]
  },
  {
   "cell_type": "code",
   "execution_count": 12,
   "metadata": {},
   "outputs": [
    {
     "data": {
      "text/plain": [
       "get_lb (generic function with 1 method)"
      ]
     },
     "execution_count": 12,
     "metadata": {},
     "output_type": "execute_result"
    }
   ],
   "source": [
    "function get_lf(i)\n",
    "     return svd(hcat(modes_15lf[res_15_ecf_3, i], modes_16lf[res_16_ecf_3, i],\n",
    "        modes_1clf[res_1c_ecf_3, i],  modes_2plf[res_2p_ecf_3, i], modes_2xlf[res_2x_ecf_3, i],\n",
    "        modes_3flf[res_3f_ecf_3, i],  modes_3glf[res_3g_ecf_3, i], modes_3zlf[res_3z_ecf_3, i],\n",
    "        modes_4qlf[res_4q_ecf_3, i]))\n",
    "end\n",
    "\n",
    "function get_lb(i)\n",
    "     return svd(hcat(modes_15lb[res_15_ecf_3, i], modes_16lb[res_16_ecf_3, i],\n",
    "        modes_1clb[res_1c_ecf_3, i],  modes_2plb[res_2p_ecf_3, i], modes_2xlb[res_2x_ecf_3, i],\n",
    "        modes_3flb[res_3f_ecf_3, i],  modes_3glb[res_3g_ecf_3, i], modes_3zlb[res_3z_ecf_3, i],\n",
    "        modes_4qlb[res_4q_ecf_3, i]))\n",
    "end"
   ]
  },
  {
   "cell_type": "code",
   "execution_count": 13,
   "metadata": {},
   "outputs": [],
   "source": [
    "nmodes = 100\n",
    "svds_lf = Array{SVD{Float64,Float64,Array{Float64,2}}, 1}(undef, nmodes)\n",
    "svds_lb = Array{SVD{Float64,Float64,Array{Float64,2}}, 1}(undef, nmodes)\n",
    "us_lf = Array{Float64, 1}(undef, nmodes)\n",
    "us_lb = Array{Float64, 1}(undef, nmodes)\n",
    "\n",
    "for i = 1:nmodes\n",
    "    svds_lf[i] = get_lf(i)\n",
    "    svds_lb[i] = get_lb(i)\n",
    "    \n",
    "    us_lf[i] = svds_lf[i].S[1] / sum(svds_lf[i].S)\n",
    "    us_lb[i] = svds_lb[i].S[1] / sum(svds_lb[i].S)\n",
    "end"
   ]
  },
  {
   "cell_type": "code",
   "execution_count": 14,
   "metadata": {},
   "outputs": [
    {
     "ename": "LoadError",
     "evalue": "UndefVarError: @L_str not defined",
     "output_type": "error",
     "traceback": [
      "UndefVarError: @L_str not defined",
      ""
     ]
    }
   ],
   "source": [
    "plot(us_lf,\n",
    "    xticks = [1 ; collect(5:5:20)],\n",
    "    yticks = 0.:.2:1., ylims = (0, 1.),\n",
    "    xlims = (1, 50),\n",
    "    grid = true, guidefont = font(16, \"Helvetica\"), tickfont = font(11, \"Helvetica\"),\n",
    "    yaxis = L\"u1/U\", xaxis = L\"Mode \\#\", label = \"LF\",\n",
    "    linecolor = Colors.colorant\"#1E90FF\", linewidth = 3)\n",
    "plot!(us_lb,\n",
    "    label = \"LB\",\n",
    "    linecolor = Colors.colorant\"#E9967A\", linewidth = 3)"
   ]
  },
  {
   "cell_type": "markdown",
   "metadata": {},
   "source": [
    "# IC"
   ]
  },
  {
   "cell_type": "code",
   "execution_count": 15,
   "metadata": {},
   "outputs": [
    {
     "data": {
      "text/plain": [
       "27-element Array{Int64,1}:\n",
       " 526\n",
       " 527\n",
       " 528\n",
       " 529\n",
       " 530\n",
       " 531\n",
       " 532\n",
       " 533\n",
       " 534\n",
       " 535\n",
       " 536\n",
       " 537\n",
       " 538\n",
       "   ⋮\n",
       " 541\n",
       " 542\n",
       " 543\n",
       " 544\n",
       " 545\n",
       " 546\n",
       " 547\n",
       " 548\n",
       " 549\n",
       " 550\n",
       " 551\n",
       " 552"
      ]
     },
     "execution_count": 15,
     "metadata": {},
     "output_type": "execute_result"
    }
   ],
   "source": [
    "# IC 2PG1\n",
    "res_ic_lc8_c = collect(171:179)\n",
    "res_ic_lc8_d = collect(180:188)\n",
    "res_ic_lc8_2x_c = collect(171:177)\n",
    "res_ic_lc8_2x_d = collect(178:184)\n",
    "res_ic_lc8_4q_c = collect(167:175)\n",
    "res_ic_lc8_4q_d = collect(176:184)\n",
    "\n",
    "\n",
    "res_ic_lc8_c_3 = JUMD.triple(res_ic_lc8_c)\n",
    "res_ic_lc8_d_3 = JUMD.triple(res_ic_lc8_d)\n",
    "res_ic_lc8_2x_c_3 = JUMD.triple(res_ic_lc8_2x_c)\n",
    "res_ic_lc8_2x_d_3 = JUMD.triple(res_ic_lc8_2x_d)\n",
    "res_ic_lc8_4q_c_3 = JUMD.triple(res_ic_lc8_4q_c)\n",
    "res_ic_lc8_4q_d_3 = JUMD.triple(res_ic_lc8_4q_d)"
   ]
  },
  {
   "cell_type": "code",
   "execution_count": 16,
   "metadata": {},
   "outputs": [],
   "source": [
    "svds_lc8_c = Array{SVD{Float64,Float64,Array{Float64,2}}, 1}(undef, nmodes)\n",
    "us_lc8_c = Array{Float64, 1}(undef, nmodes)\n",
    "svds_lc8_d = Array{SVD{Float64,Float64,Array{Float64,2}}, 1}(undef, nmodes)\n",
    "us_lc8_d = Array{Float64, 1}(undef, nmodes)\n",
    "\n",
    "\n",
    "svds_lc8_4q_d = Array{SVD{Float64,Float64,Array{Float64,2}}, 1}(undef, nmodes)\n",
    "us_lc8_4q_d = Array{Float64, 1}(undef, nmodes)\n",
    "svds_lc8_4q_d = Array{SVD{Float64,Float64,Array{Float64,2}}, 1}(undef, nmodes)\n",
    "us_lc8_4q_d = Array{Float64, 1}(undef, nmodes)\n",
    "\n",
    "\n",
    "for i = 1:nmodes\n",
    "    nma_ic_15lb_c = modes_15lb[res_ic_lc8_c_3, i]\n",
    "    nma_ic_16lb_c = modes_16lb[res_ic_lc8_c_3, i]\n",
    "\n",
    "    nma_ic_1clb_c = modes_1clb[res_ic_lc8_c_3, i]\n",
    "    nma_ic_2plb_c = modes_2plb[res_ic_lc8_c_3, i]\n",
    "\n",
    "    nma_ic_2xlb_c = [ fill(0., 6) ; modes_2xlb[res_ic_lc8_2x_c_3, i] ]\n",
    "    nma_ic_3flb_c = modes_3flb[res_ic_lc8_c_3, i]\n",
    "\n",
    "    nma_ic_3glb_c = modes_3glb[res_ic_lc8_c_3, i]\n",
    "    nma_ic_3zlb_c = modes_3zlb[res_ic_lc8_c_3, i]\n",
    "\n",
    "    nma_ic_4qlb_c = modes_4qlb[res_ic_lc8_4q_c_3, i]\n",
    "    #\n",
    "    nma_ic_15lb_d = modes_15lb[res_ic_lc8_d_3, i]\n",
    "    nma_ic_16lb_d = modes_16lb[res_ic_lc8_d_3, i]\n",
    "\n",
    "    nma_ic_1clb_d = modes_1clb[res_ic_lc8_d_3, i]\n",
    "    nma_ic_2plb_d = modes_2plb[res_ic_lc8_d_3, i]\n",
    "\n",
    "    nma_ic_2xlb_d = [ fill(0., 6) ; modes_2xlb[res_ic_lc8_2x_d_3, i] ]\n",
    "    nma_ic_3flb_d = modes_3flb[res_ic_lc8_d_3, i]\n",
    "\n",
    "    nma_ic_3glb_d = modes_3glb[res_ic_lc8_d_3, i]\n",
    "    nma_ic_3zlb_d = modes_3zlb[res_ic_lc8_d_3, i]\n",
    "\n",
    "    nma_ic_4qlb_d = modes_4qlb[res_ic_lc8_4q_d_3, i]\n",
    "    \n",
    "    \n",
    "    svds_lc8_c[i] = svd(hcat(nma_ic_15lb_c, nma_ic_16lb_c, nma_ic_1clb_c, nma_ic_2plb_c,\n",
    "    nma_ic_3flb_c, nma_ic_3glb_c, nma_ic_3zlb_c, nma_ic_4qlb_c))\n",
    "    us_lc8_c[i] = svds_lc8_c[i].S[1] / sum(svds_lc8_c[i].S)\n",
    "    \n",
    "    svds_lc8_d[i] = svd(hcat(nma_ic_15lb_d, nma_ic_16lb_d, nma_ic_1clb_d, nma_ic_2plb_d,\n",
    "    nma_ic_3flb_d, nma_ic_3glb_d, nma_ic_3zlb_d, nma_ic_4qlb_d))\n",
    "    us_lc8_d[i] = svds_lc8_d[i].S[1] / sum(svds_lc8_d[i].S)\n",
    "end"
   ]
  },
  {
   "cell_type": "code",
   "execution_count": 17,
   "metadata": {},
   "outputs": [],
   "source": [
    "dots_16lb = Array{Float64, 1}(undef, nmodes)\n",
    "dots_1clb = Array{Float64, 1}(undef, nmodes)\n",
    "dots_2plb = Array{Float64, 1}(undef, nmodes)\n",
    "dots_3glb = Array{Float64, 1}(undef, nmodes)\n",
    "dots_3zlb = Array{Float64, 1}(undef, nmodes)\n",
    "dots_4qlb = Array{Float64, 1}(undef, nmodes)\n",
    "\n",
    "for i = 1:nmodes\n",
    "    v_15lb = modes_15lb[res_ic_lc8_c_3, i] ./ norm(modes_15lb[res_ic_lc8_c_3, i])\n",
    "    v_16lb = modes_16lb[res_ic_lc8_c_3, i] ./ norm(modes_16lb[res_ic_lc8_c_3, i])\n",
    "    \n",
    "    v_1clb = modes_1clb[res_ic_lc8_c_3, i] ./ norm(modes_1clb[res_ic_lc8_c_3, i])\n",
    "    v_2plb = modes_2plb[res_ic_lc8_c_3, i] ./ norm(modes_2plb[res_ic_lc8_c_3, i])\n",
    "    \n",
    "    v_3glb = modes_3glb[res_ic_lc8_c_3, i] ./ norm(modes_3glb[res_ic_lc8_c_3, i])\n",
    "    v_3zlb = modes_3zlb[res_ic_lc8_c_3, i] ./ norm(modes_3zlb[res_ic_lc8_c_3, i])\n",
    "    \n",
    "    v_4qlb = modes_4qlb[res_ic_lc8_4q_c_3, i] ./ norm(modes_4qlb[res_ic_lc8_4q_c_3, i])\n",
    "\n",
    "    dots_16lb[i] = abs(dot(v_15lb, v_16lb))\n",
    "    dots_1clb[i] = abs(dot(v_15lb, v_1clb))\n",
    "    dots_2plb[i] = abs(dot(v_15lb, v_2plb))\n",
    "    dots_3glb[i] = abs(dot(v_15lb, v_3glb))\n",
    "    dots_3zlb[i] = abs(dot(v_15lb, v_3zlb))\n",
    "    dots_4qlb[i] = abs(dot(v_15lb, v_4qlb))\n",
    "end"
   ]
  },
  {
   "cell_type": "code",
   "execution_count": 18,
   "metadata": {},
   "outputs": [
    {
     "ename": "LoadError",
     "evalue": "UndefVarError: @L_str not defined",
     "output_type": "error",
     "traceback": [
      "UndefVarError: @L_str not defined",
      ""
     ]
    }
   ],
   "source": [
    "plot(dots_16lb,\n",
    "    xticks = [1 ; collect(5:5:20)],\n",
    "    yticks = 0.:.2:1., ylims = (0, 1.),\n",
    "    xlims = (1, 10),\n",
    "    label = \"15LB 16LB\",\n",
    "    grid = true, guidefont = font(16, \"Helvetica\"), tickfont = font(11, \"Helvetica\"),\n",
    "    yaxis = L\"u1/U\", xaxis = L\"Mode \\#\",\n",
    "    linecolor = Colors.colorant\"#1E90FF\", linewidth = 3)\n",
    "\n",
    "plot!(dots_1clb,\n",
    "    label = \"15LB 1CLB\",\n",
    "    linecolor = Colors.colorant\"#00008B\", linewidth = 3)\n",
    "plot!(dots_2plb,\n",
    "    label = \"15LB 2PLB\",\n",
    "    linecolor = Colors.colorant\"#B8860B\", linewidth = 3)\n",
    "plot!(dots_3glb,\n",
    "    label = \"15LB 3GLB\",\n",
    "    linecolor = Colors.colorant\"#8A2BE2\", linewidth = 3)\n",
    "plot!(dots_3zlb,\n",
    "    label = \"15LB 3ZLB\",\n",
    "    linecolor = Colors.colorant\"#A52A2A\", linewidth = 3)\n",
    "plot!(dots_4qlb,\n",
    "    label = \"15LB 4QLB\",\n",
    "    linecolor = Colors.colorant\"#5F9EA0\", linewidth = 3)"
   ]
  },
  {
   "cell_type": "code",
   "execution_count": 19,
   "metadata": {},
   "outputs": [],
   "source": [
    "vec_ic_15lb_c = Array{Float64, 2}(undef, length(res_ic_lc8_c_3), nmodes)\n",
    "vec_ic_16lb_c = Array{Float64, 2}(undef, length(res_ic_lc8_c_3), nmodes)\n",
    "vec_ic_1clb_c = Array{Float64, 2}(undef, length(res_ic_lc8_c_3), nmodes)\n",
    "vec_ic_2plb_c = Array{Float64, 2}(undef, length(res_ic_lc8_c_3), nmodes)\n",
    "vec_ic_3flb_c = Array{Float64, 2}(undef, length(res_ic_lc8_c_3), nmodes)\n",
    "vec_ic_3glb_c = Array{Float64, 2}(undef, length(res_ic_lc8_c_3), nmodes)\n",
    "vec_ic_3zlb_c = Array{Float64, 2}(undef, length(res_ic_lc8_c_3), nmodes)\n",
    "vec_ic_4qlb_c = Array{Float64, 2}(undef, length(res_ic_lc8_4q_c_3), nmodes)\n",
    "\n",
    "vec_ic_15lb_d = Array{Float64, 2}(undef, length(res_ic_lc8_c_3), nmodes)\n",
    "vec_ic_16lb_d = Array{Float64, 2}(undef, length(res_ic_lc8_c_3), nmodes)\n",
    "vec_ic_1clb_d = Array{Float64, 2}(undef, length(res_ic_lc8_c_3), nmodes)\n",
    "vec_ic_2plb_d = Array{Float64, 2}(undef, length(res_ic_lc8_c_3), nmodes)\n",
    "vec_ic_3flb_d = Array{Float64, 2}(undef, length(res_ic_lc8_c_3), nmodes)\n",
    "vec_ic_3glb_d = Array{Float64, 2}(undef, length(res_ic_lc8_c_3), nmodes)\n",
    "vec_ic_3zlb_d = Array{Float64, 2}(undef, length(res_ic_lc8_c_3), nmodes)\n",
    "vec_ic_4qlb_d = Array{Float64, 2}(undef, length(res_ic_lc8_4q_c_3), nmodes)\n",
    "\n",
    "\n",
    "dots_15lb_cd = Array{Float64, 1}(undef, nmodes)\n",
    "dots_16lb_cd = Array{Float64, 1}(undef, nmodes)\n",
    "dots_1clb_cd = Array{Float64, 1}(undef, nmodes)\n",
    "dots_2plb_cd = Array{Float64, 1}(undef, nmodes)\n",
    "dots_3flb_cd = Array{Float64, 1}(undef, nmodes)\n",
    "dots_3glb_cd = Array{Float64, 1}(undef, nmodes)\n",
    "dots_3zlb_cd = Array{Float64, 1}(undef, nmodes)\n",
    "dots_4qlb_cd = Array{Float64, 1}(undef, nmodes)\n",
    "\n",
    "\n",
    "svds_lc8_ic_c = Array{SVD{Float64,Float64,Array{Float64,2}}, 1}(undef, nmodes)\n",
    "svds_lc8_ic_d = Array{SVD{Float64,Float64,Array{Float64,2}}, 1}(undef, nmodes)\n",
    "\n",
    "for i = 1:nmodes\n",
    "    vec_ic_15lb_c[:, i] = modes_15lb[res_ic_lc8_c_3, i] ./ \n",
    "        norm(modes_15lb[res_ic_lc8_c_3, i])\n",
    "    vec_ic_15lb_d[:, i] = modes_15lb[res_ic_lc8_d_3, i] ./ \n",
    "        norm(modes_15lb[res_ic_lc8_d_3, i])\n",
    "    dots_15lb_cd[i] = abs(dot(vec_ic_15lb_c[:, i], vec_ic_15lb_d[:, i]))\n",
    "    \n",
    "    vec_ic_16lb_c[:, i] = modes_16lb[res_ic_lc8_c_3, i] ./\n",
    "        norm(modes_16lb[res_ic_lc8_c_3, i])\n",
    "    vec_ic_16lb_d[:, i] = modes_16lb[res_ic_lc8_d_3, i] ./\n",
    "        norm(modes_16lb[res_ic_lc8_d_3, i])\n",
    "    dots_16lb_cd[i] = abs(dot(vec_ic_16lb_c[:, i], vec_ic_16lb_d[:, i]))\n",
    "\n",
    "    vec_ic_1clb_c[:, i] = modes_1clb[res_ic_lc8_c_3, i] ./\n",
    "        norm(modes_1clb[res_ic_lc8_c_3, i])\n",
    "    vec_ic_1clb_d[:, i] = modes_1clb[res_ic_lc8_d_3, i] ./\n",
    "        norm(modes_1clb[res_ic_lc8_d_3, i])\n",
    "    dots_1clb_cd[i] = abs(dot(vec_ic_1clb_c[:, i], vec_ic_1clb_d[:, i]))\n",
    "\n",
    "    vec_ic_2plb_c[:, i] = modes_2plb[res_ic_lc8_c_3, i] ./\n",
    "        norm(modes_2plb[res_ic_lc8_c_3, i])\n",
    "    vec_ic_2plb_d[:, i] = modes_2plb[res_ic_lc8_d_3, i] ./\n",
    "        norm(modes_2plb[res_ic_lc8_d_3, i])\n",
    "    dots_2plb_cd[i] = abs(dot(vec_ic_2plb_c[:, i], vec_ic_2plb_d[:, i]))\n",
    "\n",
    "    vec_ic_3flb_c[:, i] = modes_3flb[res_ic_lc8_c_3, i] ./\n",
    "        norm(modes_3flb[res_ic_lc8_c_3, i])\n",
    "    vec_ic_3flb_d[:, i] = modes_3flb[res_ic_lc8_d_3, i] ./\n",
    "        norm(modes_3flb[res_ic_lc8_d_3, i])\n",
    "    dots_3flb_cd[i] = abs(dot(vec_ic_3flb_c[:, i], vec_ic_3flb_d[:, i]))\n",
    "\n",
    "    vec_ic_3glb_c[:, i] = modes_3glb[res_ic_lc8_c_3, i] ./\n",
    "        norm(modes_3glb[res_ic_lc8_c_3, i])\n",
    "    vec_ic_3glb_d[:, i] = modes_3glb[res_ic_lc8_d_3, i] ./\n",
    "        norm(modes_3glb[res_ic_lc8_d_3, i])\n",
    "    dots_3glb_cd[i] = abs(dot(vec_ic_3glb_c[:, i], vec_ic_3glb_d[:, i]))\n",
    "\n",
    "    vec_ic_3zlb_c[:, i] = modes_3zlb[res_ic_lc8_c_3, i] ./\n",
    "        norm(modes_3zlb[res_ic_lc8_c_3, i])\n",
    "    vec_ic_3zlb_d[:, i] = modes_3zlb[res_ic_lc8_d_3, i] ./\n",
    "        norm(modes_3zlb[res_ic_lc8_d_3, i])\n",
    "    dots_3zlb_cd[i] = abs(dot(vec_ic_3zlb_c[:, i], vec_ic_3zlb_d[:, i]))\n",
    "\n",
    "    vec_ic_4qlb_c[:, i] = modes_4qlb[res_ic_lc8_4q_c_3, i] ./\n",
    "        norm(modes_4qlb[res_ic_lc8_4q_c_3, i])\n",
    "    vec_ic_4qlb_d[:, i] = modes_4qlb[res_ic_lc8_4q_d_3, i] ./\n",
    "        norm(modes_4qlb[res_ic_lc8_4q_d_3, i])\n",
    "    dots_4qlb_cd[i] = abs(dot(vec_ic_4qlb_c[:, i], vec_ic_4qlb_d[:, i]))\n",
    "\n",
    "    \n",
    "    svds_lc8_ic_c[i] = svd(hcat(vec_ic_15lb_c[:, i], vec_ic_16lb_c[:, i],\n",
    "        vec_ic_1clb_c[:, i], vec_ic_2plb_c[:, i], vec_ic_3flb_c[:, i],\n",
    "        vec_ic_3glb_c[:, i], vec_ic_3zlb_c[:, i], vec_ic_4qlb_c[:, i]))\n",
    "     \n",
    "    svds_lc8_ic_d[i] = svd(hcat(vec_ic_15lb_d[:, i], vec_ic_16lb_d[:, i],\n",
    "        vec_ic_1clb_d[:, i], vec_ic_2plb_d[:, i], vec_ic_3flb_d[:, i],\n",
    "        vec_ic_3glb_d[:, i], vec_ic_3zlb_d[:, i], vec_ic_4qlb_d[:, i]))   \n",
    "end"
   ]
  },
  {
   "cell_type": "code",
   "execution_count": 20,
   "metadata": {},
   "outputs": [
    {
     "ename": "LoadError",
     "evalue": "UndefVarError: @L_str not defined",
     "output_type": "error",
     "traceback": [
      "UndefVarError: @L_str not defined",
      ""
     ]
    }
   ],
   "source": [
    "plot(dots_15lb_cd,\n",
    "    xticks = [1 ; collect(5:5:20)],\n",
    "    yticks = 0.:.2:1., ylims = (0, 1.),\n",
    "    xlims = (1, 10), title = \"Dot products between ICs C and D\",\n",
    "    label = \"15LB\",\n",
    "    grid = true, guidefont = font(16, \"Helvetica\"), tickfont = font(11, \"Helvetica\"),\n",
    "    yaxis = L\"u1/U\", xaxis = L\"Mode \\#\", linewidth = 3)\n",
    "\n",
    "plot!(dots_16lb_cd,\n",
    "    label = \"16LB\", linewidth = 3)\n",
    "\n",
    "plot!(dots_1clb_cd,\n",
    "    label = \"1CLB\", linewidth = 3)\n",
    "\n",
    "plot!(dots_2plb_cd,\n",
    "    label = \"2PLB\", linewidth = 3)\n",
    "\n",
    "plot!(dots_3flb_cd,\n",
    "    label = \"3FLB\", linewidth = 3)\n",
    "\n",
    "plot!(dots_3glb_cd,\n",
    "    label = \"3GLB\", linewidth = 3)\n",
    "\n",
    "plot!(dots_3zlb_cd,\n",
    "    label = \"3ZLB\", linewidth = 3)\n",
    "\n",
    "plot!(dots_4qlb_cd,\n",
    "    label = \"4QLB\", linewidth = 3)"
   ]
  },
  {
   "cell_type": "code",
   "execution_count": 21,
   "metadata": {},
   "outputs": [],
   "source": [
    "i = 4\n",
    "\n",
    "v_all_c = hcat(vec_ic_15lb_c[:, i], vec_ic_16lb_c[:, i], vec_ic_1clb_c[:, i],\n",
    "    vec_ic_2plb_c[:, i], vec_ic_3flb_c[:, i], vec_ic_3glb_c[:, i],\n",
    "    vec_ic_3zlb_c[:, i], vec_ic_4qlb_c[:, i])\n",
    "\n",
    "v_all_d = hcat(vec_ic_15lb_d[:, i], vec_ic_16lb_d[:, i], vec_ic_1clb_d[:, i],\n",
    "    vec_ic_2plb_d[:, i], vec_ic_3flb_d[:, i], vec_ic_3glb_d[:, i],\n",
    "    vec_ic_3zlb_d[:, i], vec_ic_4qlb_d[:, i]);"
   ]
  },
  {
   "cell_type": "code",
   "execution_count": 22,
   "metadata": {},
   "outputs": [
    {
     "data": {
      "text/html": [
       "<table class=\"data-frame\"><thead><tr><th></th><th>1F95</th><th>1F96</th><th>1CMI</th><th>2P2P</th><th>3FM7</th><th>3GLW</th><th>3ZKE</th><th>4QH7</th></tr><tr><th></th><th>Float64</th><th>Float64</th><th>Float64</th><th>Float64</th><th>Float64</th><th>Float64</th><th>Float64</th><th>Float64</th></tr></thead><tbody><p>8 rows × 8 columns</p><tr><th>1</th><td>1.0</td><td>-0.77876</td><td>0.79109</td><td>-0.825494</td><td>-0.714474</td><td>-0.557565</td><td>0.719823</td><td>-0.0931858</td></tr><tr><th>2</th><td>-0.77876</td><td>1.0</td><td>-0.982032</td><td>0.984266</td><td>0.951375</td><td>0.672178</td><td>-0.971375</td><td>0.517312</td></tr><tr><th>3</th><td>0.79109</td><td>-0.982032</td><td>1.0</td><td>-0.983743</td><td>-0.981583</td><td>-0.645744</td><td>0.985144</td><td>-0.47137</td></tr><tr><th>4</th><td>-0.825494</td><td>0.984266</td><td>-0.983743</td><td>1.0</td><td>0.949027</td><td>0.725693</td><td>-0.964662</td><td>0.441254</td></tr><tr><th>5</th><td>-0.714474</td><td>0.951375</td><td>-0.981583</td><td>0.949027</td><td>1.0</td><td>0.549321</td><td>-0.992169</td><td>0.528922</td></tr><tr><th>6</th><td>-0.557565</td><td>0.672178</td><td>-0.645744</td><td>0.725693</td><td>0.549321</td><td>1.0</td><td>-0.586022</td><td>0.01763</td></tr><tr><th>7</th><td>0.719823</td><td>-0.971375</td><td>0.985144</td><td>-0.964662</td><td>-0.992169</td><td>-0.586022</td><td>1.0</td><td>-0.539964</td></tr><tr><th>8</th><td>-0.0931858</td><td>0.517312</td><td>-0.47137</td><td>0.441254</td><td>0.528922</td><td>0.01763</td><td>-0.539964</td><td>1.0</td></tr></tbody></table>"
      ],
      "text/latex": [
       "\\begin{tabular}{r|cccccccc}\n",
       "\t& 1F95 & 1F96 & 1CMI & 2P2P & 3FM7 & 3GLW & 3ZKE & 4QH7\\\\\n",
       "\t\\hline\n",
       "\t& Float64 & Float64 & Float64 & Float64 & Float64 & Float64 & Float64 & Float64\\\\\n",
       "\t\\hline\n",
       "\t1 & 1.0 & -0.77876 & 0.79109 & -0.825494 & -0.714474 & -0.557565 & 0.719823 & -0.0931858 \\\\\n",
       "\t2 & -0.77876 & 1.0 & -0.982032 & 0.984266 & 0.951375 & 0.672178 & -0.971375 & 0.517312 \\\\\n",
       "\t3 & 0.79109 & -0.982032 & 1.0 & -0.983743 & -0.981583 & -0.645744 & 0.985144 & -0.47137 \\\\\n",
       "\t4 & -0.825494 & 0.984266 & -0.983743 & 1.0 & 0.949027 & 0.725693 & -0.964662 & 0.441254 \\\\\n",
       "\t5 & -0.714474 & 0.951375 & -0.981583 & 0.949027 & 1.0 & 0.549321 & -0.992169 & 0.528922 \\\\\n",
       "\t6 & -0.557565 & 0.672178 & -0.645744 & 0.725693 & 0.549321 & 1.0 & -0.586022 & 0.01763 \\\\\n",
       "\t7 & 0.719823 & -0.971375 & 0.985144 & -0.964662 & -0.992169 & -0.586022 & 1.0 & -0.539964 \\\\\n",
       "\t8 & -0.0931858 & 0.517312 & -0.47137 & 0.441254 & 0.528922 & 0.01763 & -0.539964 & 1.0 \\\\\n",
       "\\end{tabular}\n"
      ],
      "text/plain": [
       "8×8 DataFrame. Omitted printing of 2 columns\n",
       "│ Row │ 1F95       │ 1F96      │ 1CMI      │ 2P2P      │ 3FM7      │ 3GLW      │\n",
       "│     │ \u001b[90mFloat64\u001b[39m    │ \u001b[90mFloat64\u001b[39m   │ \u001b[90mFloat64\u001b[39m   │ \u001b[90mFloat64\u001b[39m   │ \u001b[90mFloat64\u001b[39m   │ \u001b[90mFloat64\u001b[39m   │\n",
       "├─────┼────────────┼───────────┼───────────┼───────────┼───────────┼───────────┤\n",
       "│ 1   │ 1.0        │ -0.77876  │ 0.79109   │ -0.825494 │ -0.714474 │ -0.557565 │\n",
       "│ 2   │ -0.77876   │ 1.0       │ -0.982032 │ 0.984266  │ 0.951375  │ 0.672178  │\n",
       "│ 3   │ 0.79109    │ -0.982032 │ 1.0       │ -0.983743 │ -0.981583 │ -0.645744 │\n",
       "│ 4   │ -0.825494  │ 0.984266  │ -0.983743 │ 1.0       │ 0.949027  │ 0.725693  │\n",
       "│ 5   │ -0.714474  │ 0.951375  │ -0.981583 │ 0.949027  │ 1.0       │ 0.549321  │\n",
       "│ 6   │ -0.557565  │ 0.672178  │ -0.645744 │ 0.725693  │ 0.549321  │ 1.0       │\n",
       "│ 7   │ 0.719823   │ -0.971375 │ 0.985144  │ -0.964662 │ -0.992169 │ -0.586022 │\n",
       "│ 8   │ -0.0931858 │ 0.517312  │ -0.47137  │ 0.441254  │ 0.528922  │ 0.01763   │"
      ]
     },
     "execution_count": 22,
     "metadata": {},
     "output_type": "execute_result"
    }
   ],
   "source": [
    "df_dot_lc8_ic_c = DataFrame(transpose(v_all_c) * v_all_c)\n",
    "rename!(df_dot_lc8_ic_c, :x1 => Symbol(\"1F95\"))\n",
    "rename!(df_dot_lc8_ic_c, :x2 => Symbol(\"1F96\"))\n",
    "rename!(df_dot_lc8_ic_c, :x3 => Symbol(\"1CMI\"))\n",
    "rename!(df_dot_lc8_ic_c, :x4 => Symbol(\"2P2P\"))\n",
    "rename!(df_dot_lc8_ic_c, :x5 => Symbol(\"3FM7\"))\n",
    "rename!(df_dot_lc8_ic_c, :x6 => Symbol(\"3GLW\"))\n",
    "rename!(df_dot_lc8_ic_c, :x7 => Symbol(\"3ZKE\"))\n",
    "rename!(df_dot_lc8_ic_c, :x8 => Symbol(\"4QH7\"))"
   ]
  },
  {
   "cell_type": "code",
   "execution_count": 23,
   "metadata": {},
   "outputs": [
    {
     "data": {
      "text/html": [
       "<table class=\"data-frame\"><thead><tr><th></th><th>1F95</th><th>1F96</th><th>1CMI</th><th>2P2P</th><th>3FM7</th><th>3GLW</th><th>3ZKE</th><th>4QH7</th></tr><tr><th></th><th>Float64</th><th>Float64</th><th>Float64</th><th>Float64</th><th>Float64</th><th>Float64</th><th>Float64</th><th>Float64</th></tr></thead><tbody><p>8 rows × 8 columns</p><tr><th>1</th><td>1.0</td><td>-0.84539</td><td>0.836209</td><td>-0.809928</td><td>-0.865106</td><td>-0.298201</td><td>0.856005</td><td>-0.153947</td></tr><tr><th>2</th><td>-0.84539</td><td>1.0</td><td>-0.984871</td><td>0.976397</td><td>0.983204</td><td>0.620551</td><td>-0.980299</td><td>0.519591</td></tr><tr><th>3</th><td>0.836209</td><td>-0.984871</td><td>1.0</td><td>-0.985682</td><td>-0.994539</td><td>-0.651421</td><td>0.995284</td><td>-0.560269</td></tr><tr><th>4</th><td>-0.809928</td><td>0.976397</td><td>-0.985682</td><td>1.0</td><td>0.981634</td><td>0.725147</td><td>-0.980751</td><td>0.633196</td></tr><tr><th>5</th><td>-0.865106</td><td>0.983204</td><td>-0.994539</td><td>0.981634</td><td>1.0</td><td>0.621555</td><td>-0.997534</td><td>0.521384</td></tr><tr><th>6</th><td>-0.298201</td><td>0.620551</td><td>-0.651421</td><td>0.725147</td><td>0.621555</td><td>1.0</td><td>-0.61959</td><td>0.974969</td></tr><tr><th>7</th><td>0.856005</td><td>-0.980299</td><td>0.995284</td><td>-0.980751</td><td>-0.997534</td><td>-0.61959</td><td>1.0</td><td>-0.521526</td></tr><tr><th>8</th><td>-0.153947</td><td>0.519591</td><td>-0.560269</td><td>0.633196</td><td>0.521384</td><td>0.974969</td><td>-0.521526</td><td>1.0</td></tr></tbody></table>"
      ],
      "text/latex": [
       "\\begin{tabular}{r|cccccccc}\n",
       "\t& 1F95 & 1F96 & 1CMI & 2P2P & 3FM7 & 3GLW & 3ZKE & 4QH7\\\\\n",
       "\t\\hline\n",
       "\t& Float64 & Float64 & Float64 & Float64 & Float64 & Float64 & Float64 & Float64\\\\\n",
       "\t\\hline\n",
       "\t1 & 1.0 & -0.84539 & 0.836209 & -0.809928 & -0.865106 & -0.298201 & 0.856005 & -0.153947 \\\\\n",
       "\t2 & -0.84539 & 1.0 & -0.984871 & 0.976397 & 0.983204 & 0.620551 & -0.980299 & 0.519591 \\\\\n",
       "\t3 & 0.836209 & -0.984871 & 1.0 & -0.985682 & -0.994539 & -0.651421 & 0.995284 & -0.560269 \\\\\n",
       "\t4 & -0.809928 & 0.976397 & -0.985682 & 1.0 & 0.981634 & 0.725147 & -0.980751 & 0.633196 \\\\\n",
       "\t5 & -0.865106 & 0.983204 & -0.994539 & 0.981634 & 1.0 & 0.621555 & -0.997534 & 0.521384 \\\\\n",
       "\t6 & -0.298201 & 0.620551 & -0.651421 & 0.725147 & 0.621555 & 1.0 & -0.61959 & 0.974969 \\\\\n",
       "\t7 & 0.856005 & -0.980299 & 0.995284 & -0.980751 & -0.997534 & -0.61959 & 1.0 & -0.521526 \\\\\n",
       "\t8 & -0.153947 & 0.519591 & -0.560269 & 0.633196 & 0.521384 & 0.974969 & -0.521526 & 1.0 \\\\\n",
       "\\end{tabular}\n"
      ],
      "text/plain": [
       "8×8 DataFrame. Omitted printing of 2 columns\n",
       "│ Row │ 1F95      │ 1F96      │ 1CMI      │ 2P2P      │ 3FM7      │ 3GLW      │\n",
       "│     │ \u001b[90mFloat64\u001b[39m   │ \u001b[90mFloat64\u001b[39m   │ \u001b[90mFloat64\u001b[39m   │ \u001b[90mFloat64\u001b[39m   │ \u001b[90mFloat64\u001b[39m   │ \u001b[90mFloat64\u001b[39m   │\n",
       "├─────┼───────────┼───────────┼───────────┼───────────┼───────────┼───────────┤\n",
       "│ 1   │ 1.0       │ -0.84539  │ 0.836209  │ -0.809928 │ -0.865106 │ -0.298201 │\n",
       "│ 2   │ -0.84539  │ 1.0       │ -0.984871 │ 0.976397  │ 0.983204  │ 0.620551  │\n",
       "│ 3   │ 0.836209  │ -0.984871 │ 1.0       │ -0.985682 │ -0.994539 │ -0.651421 │\n",
       "│ 4   │ -0.809928 │ 0.976397  │ -0.985682 │ 1.0       │ 0.981634  │ 0.725147  │\n",
       "│ 5   │ -0.865106 │ 0.983204  │ -0.994539 │ 0.981634  │ 1.0       │ 0.621555  │\n",
       "│ 6   │ -0.298201 │ 0.620551  │ -0.651421 │ 0.725147  │ 0.621555  │ 1.0       │\n",
       "│ 7   │ 0.856005  │ -0.980299 │ 0.995284  │ -0.980751 │ -0.997534 │ -0.61959  │\n",
       "│ 8   │ -0.153947 │ 0.519591  │ -0.560269 │ 0.633196  │ 0.521384  │ 0.974969  │"
      ]
     },
     "execution_count": 23,
     "metadata": {},
     "output_type": "execute_result"
    }
   ],
   "source": [
    "df_dot_lc8_ic_d = DataFrame(transpose(v_all_d) * v_all_d)\n",
    "rename!(df_dot_lc8_ic_d, :x1 => Symbol(\"1F95\"))\n",
    "rename!(df_dot_lc8_ic_d, :x2 => Symbol(\"1F96\"))\n",
    "rename!(df_dot_lc8_ic_d, :x3 => Symbol(\"1CMI\"))\n",
    "rename!(df_dot_lc8_ic_d, :x4 => Symbol(\"2P2P\"))\n",
    "rename!(df_dot_lc8_ic_d, :x5 => Symbol(\"3FM7\"))\n",
    "rename!(df_dot_lc8_ic_d, :x6 => Symbol(\"3GLW\"))\n",
    "rename!(df_dot_lc8_ic_d, :x7 => Symbol(\"3ZKE\"))\n",
    "rename!(df_dot_lc8_ic_d, :x8 => Symbol(\"4QH7\"))"
   ]
  },
  {
   "cell_type": "code",
   "execution_count": 24,
   "metadata": {},
   "outputs": [
    {
     "ename": "UndefVarError",
     "evalue": "UndefVarError: vec_ic_5wlb_c not defined",
     "output_type": "error",
     "traceback": [
      "UndefVarError: vec_ic_5wlb_c not defined",
      "",
      "Stacktrace:",
      " [1] top-level scope at In[24]:2"
     ]
    }
   ],
   "source": [
    "i = 3\n",
    "\n",
    "v_all_c = hcat(vec_ic_2plb_c[:, i], vec_ic_3flb_c[:, i], vec_ic_5wlb_c[:, i])\n",
    "v_all_d = hcat(vec_ic_2plb_d[:, i], vec_ic_3flb_d[:, i], vec_ic_5wlb_d[:, i])\n",
    "\n",
    "df_dot_tctex_ic_c = DataFrame(transpose(v_all_c) * v_all_c)\n",
    "rename!(df_dot_tctex_ic_c, :x1 => Symbol(\"2PLB\"))\n",
    "rename!(df_dot_tctex_ic_c, :x2 => Symbol(\"3FLB\"))\n",
    "rename!(df_dot_tctex_ic_c, :x3 => Symbol(\"5WLB\"))\n",
    "df_dot_tctex_ic_d = DataFrame(transpose(v_all_d) * v_all_d)\n",
    "rename!(df_dot_tctex_ic_d, :x1 => Symbol(\"2PLB\"))\n",
    "rename!(df_dot_tctex_ic_d, :x2 => Symbol(\"3FLB\"))\n",
    "rename!(df_dot_tctex_ic_d, :x3 => Symbol(\"5WLB\"))\n",
    "\n",
    "println(\"IC C\")\n",
    "showall(df_dot_tctex_ic_c)\n",
    "println(\"\\n\\nIC D\")\n",
    "showall(df_dot_tctex_ic_d)"
   ]
  },
  {
   "cell_type": "markdown",
   "metadata": {},
   "source": [
    "## Wall residues Bfactors"
   ]
  },
  {
   "cell_type": "code",
   "execution_count": 25,
   "metadata": {},
   "outputs": [],
   "source": [
    "mtx_lc8_1 = hcat(modes_15lf[res_15_ecf_3, 1], modes_16lf[res_16_ecf_3, 1],\n",
    "    modes_1clf[res_1c_ecf_3, 1],  modes_2plf[res_2p_ecf_3, 1], modes_2xlf[res_2x_ecf_3, 1],\n",
    "    modes_3flf[res_3f_ecf_3, 1],  modes_3glf[res_3g_ecf_3, 1], modes_3zlf[res_3z_ecf_3, 1],\n",
    "    modes_4qlf[res_4q_ecf_3, 1]);"
   ]
  },
  {
   "cell_type": "code",
   "execution_count": 26,
   "metadata": {},
   "outputs": [
    {
     "data": {
      "text/plain": [
       "0.23594432847783953"
      ]
     },
     "execution_count": 26,
     "metadata": {},
     "output_type": "execute_result"
    }
   ],
   "source": [
    "npdbs = 8\n",
    "bfs_ratio_lf = Array{Float64, 1}(undef, npdbs)\n",
    "bfs_ratio_lb = Array{Float64, 1}(undef, npdbs)\n",
    "\n",
    "bf_15lf = JUMD.theoretical_bf(modes_15lf, evals_15lf)\n",
    "bf_16lf = JUMD.theoretical_bf(modes_16lf, evals_16lf)\n",
    "bf_1clf = JUMD.theoretical_bf(modes_1clf, evals_1clf)\n",
    "bf_2plf = JUMD.theoretical_bf(modes_2plf, evals_2plf)\n",
    "bf_3flf = JUMD.theoretical_bf(modes_3flf, evals_3flf)\n",
    "bf_3glf = JUMD.theoretical_bf(modes_3glf, evals_3glf)\n",
    "bf_3zlf = JUMD.theoretical_bf(modes_3zlf, evals_3zlf)\n",
    "bf_4qlf = JUMD.theoretical_bf(modes_4qlf, evals_4qlf)\n",
    "\n",
    "\n",
    "bfs_ratio_lf[1] = sum(bf_15lf[res_15_ecf]) / sum(bf_15lf)\n",
    "bfs_ratio_lf[2] = sum(bf_16lf[res_15_ecf]) / sum(bf_16lf)\n",
    "bfs_ratio_lf[3] = sum(bf_1clf[res_15_ecf]) / sum(bf_1clf)\n",
    "bfs_ratio_lf[4] = sum(bf_2plf[res_15_ecf]) / sum(bf_2plf)\n",
    "bfs_ratio_lf[5] = sum(bf_3flf[res_15_ecf]) / sum(bf_3flf)\n",
    "bfs_ratio_lf[6] = sum(bf_3glf[res_15_ecf]) / sum(bf_3glf)\n",
    "bfs_ratio_lf[7] = sum(bf_3zlf[res_15_ecf]) / sum(bf_3zlf)\n",
    "bfs_ratio_lf[8] = sum(bf_4qlf[res_15_ecf]) / sum(bf_4qlf)"
   ]
  },
  {
   "cell_type": "code",
   "execution_count": 27,
   "metadata": {},
   "outputs": [
    {
     "data": {
      "text/plain": [
       "8-element Array{Float64,1}:\n",
       " 0.9905694168078498\n",
       " 1.0180148395538349\n",
       " 0.9744803536398622\n",
       " 0.9747573912366767\n",
       " 0.9776745911754278\n",
       " 0.978985942322506 \n",
       " 0.9753629401528062\n",
       " 1.0561317560436627"
      ]
     },
     "execution_count": 27,
     "metadata": {},
     "output_type": "execute_result"
    }
   ],
   "source": [
    "bfs_ratio_lf ./ (length(res_15_ecf) / ((length(evals_15lb) + 6) / 3 ))"
   ]
  },
  {
   "cell_type": "code",
   "execution_count": 30,
   "metadata": {},
   "outputs": [
    {
     "data": {
      "text/plain": [
       "8-element Array{Float64,1}:\n",
       " 3916.4960229778285\n",
       " 4178.198783286104 \n",
       " 4076.76930238938  \n",
       " 3915.565879569565 \n",
       " 4015.600757431216 \n",
       " 3985.426545024966 \n",
       " 3943.469185768109 \n",
       " 3903.680476816145 "
      ]
     },
     "execution_count": 30,
     "metadata": {},
     "output_type": "execute_result"
    }
   ],
   "source": [
    "[ sum(bf_15lf) ; sum(bf_16lf) ; sum(bf_1clf) ; sum(bf_2plf) ;\n",
    "    sum(bf_3flf) ; sum(bf_3glf) ; sum(bf_3zlf) ; sum(bf_4qlf) ] "
   ]
  },
  {
   "cell_type": "code",
   "execution_count": 31,
   "metadata": {},
   "outputs": [],
   "source": [
    "struct Interaction\n",
    "    chid_a::String\n",
    "    chid_b::String\n",
    "    resi_a::Int64\n",
    "    resi_b::Int64\n",
    "    resn_a::String\n",
    "    resn_b::String\n",
    "    atm_a::String\n",
    "    atm_b::String\n",
    "    scmc_a::String\n",
    "    scmc_b::String\n",
    "    interaction::String\n",
    "    d::Float64\n",
    "    \n",
    "    function Interaction(chid_a::AbstractString, chid_b::AbstractString,\n",
    "        c_resi_a::AbstractString, c_resi_b::AbstractString,\n",
    "        resn_a::AbstractString, resn_b::AbstractString,\n",
    "        atm_a::AbstractString, atm_b::AbstractString,\n",
    "        scmc_a::AbstractString, scmc_b::AbstractString,\n",
    "        interaction::AbstractString, d::Float64) \n",
    "        \n",
    "        new(chid_a, chid_b, parse(Int64, c_resi_a), parse(Int64, c_resi_b),\n",
    "            resn_a, resn_b, atm_a, atm_b, scmc_a, scmc_b, interaction, d)\n",
    "    end\n",
    "\n",
    "end"
   ]
  },
  {
   "cell_type": "code",
   "execution_count": 32,
   "metadata": {},
   "outputs": [
    {
     "data": {
      "text/plain": [
       "sort_contactos! (generic function with 1 method)"
      ]
     },
     "execution_count": 32,
     "metadata": {},
     "output_type": "execute_result"
    }
   ],
   "source": [
    "function get_ring_chain(fn, chid::Char)\n",
    "    # Read file\n",
    "    crudo = readdlm(fn)[8:end, :]\n",
    "    header = crudo[1, :]\n",
    "    ancho = 17\n",
    "    lineas = Array{Any, 2}(undef, 17, 0)\n",
    "    i = 2\n",
    "    # Get the Lines corresponding to the desired chain\n",
    "    while (crudo[i, :][1][1] != chid) \n",
    "        i+=1\n",
    "    end\n",
    "    while (crudo[i, :][1][1] == chid)\n",
    "        lineas = hcat(lineas, crudo[i, :])\n",
    "        i+=1\n",
    "    end\n",
    "\n",
    "    # Turn the raw info in an array of Interaction objects\n",
    "    ninter = size(lineas)[2]\n",
    "    inter = Array{Interaction, 1}(undef, ninter)\n",
    "    for i = 1:ninter\n",
    "        chid_a, c_resi_a, dummy, resn_a = split(lineas[:, i][1], \":\")\n",
    "        chid_b, c_resi_b, dummy, resn_b = split(lineas[:, i][3], \":\")\n",
    "        interaction, sc_mc_ab = split(lineas[:, i][2], \":\")\n",
    "        atm_a = lineas[:, i][7]\n",
    "        atm_b = lineas[:, i][8]\n",
    "        sc_mc_a, sc_mc_b = split(sc_mc_ab, \"_\")\n",
    "        dtce = lineas[:, i][4]\n",
    "\n",
    "        inter[i] = Interaction(chid_a, chid_b, c_resi_a, c_resi_b, atm_a, atm_b, \n",
    "            resn_a, resn_b, sc_mc_a, sc_mc_b, interaction, dtce)\n",
    "    end\n",
    "    \n",
    "    return inter\n",
    "end\n",
    "\n",
    "function sort_contactos!(w::Array{Interaction,1})\n",
    "    n = length(w)\n",
    "    v = Array{Int64, 1}(undef, n)\n",
    "    [ v[i] = w[i].resi_a for i in 1:n ]\n",
    "    w = w[sortperm(v)]\n",
    "end"
   ]
  },
  {
   "cell_type": "code",
   "execution_count": 34,
   "metadata": {},
   "outputs": [
    {
     "data": {
      "text/plain": [
       "8×2 Array{Int64,2}:\n",
       " 19  17\n",
       " 19  20\n",
       " 25  25\n",
       " 18  18\n",
       " 25  23\n",
       " 27  27\n",
       " 27  25\n",
       " 21  25"
      ]
     },
     "execution_count": 34,
     "metadata": {},
     "output_type": "execute_result"
    }
   ],
   "source": [
    "inter_15lb_c = sort_contactos!(get_ring_chain(joinpath(home_lc8, \"15lb/ring/ctcto_15lb\"), 'C'))\n",
    "inter_15lb_d = sort_contactos!(get_ring_chain(joinpath(home_lc8, \"15lb/ring/ctcto_15lb\"), 'D'))\n",
    "\n",
    "inter_16lb_c = sort_contactos!(get_ring_chain(joinpath(home_lc8, \"16lb/ring/ctcto_16lb\"), 'C'))\n",
    "inter_16lb_d = sort_contactos!(get_ring_chain(joinpath(home_lc8, \"16lb/ring/ctcto_16lb\"), 'D'))\n",
    "\n",
    "inter_1clb_c = sort_contactos!(get_ring_chain(joinpath(home_lc8, \"1clb/ring/ctcto_1clb\"), 'C'))\n",
    "inter_1clb_d = sort_contactos!(get_ring_chain(joinpath(home_lc8, \"1clb/ring/ctcto_1clb\"), 'D'))\n",
    "\n",
    "inter_2plb_c = sort_contactos!(get_ring_chain(joinpath(home_lc8, \"2plb/ring/ctcto_2plb\"), 'C'))\n",
    "inter_2plb_d = sort_contactos!(get_ring_chain(joinpath(home_lc8, \"2plb/ring/ctcto_2plb\"), 'D'))\n",
    "\n",
    "inter_3flb_c = sort_contactos!(get_ring_chain(joinpath(home_lc8, \"3flb/ring/ctcto_3flb\"), 'C'))\n",
    "inter_3flb_d = sort_contactos!(get_ring_chain(joinpath(home_lc8, \"3flb/ring/ctcto_3flb\"), 'D'))\n",
    "\n",
    "inter_3glb_c = sort_contactos!(get_ring_chain(joinpath(home_lc8, \"3glb/ring/ctcto_3glb\"), 'C'))\n",
    "inter_3glb_d = sort_contactos!(get_ring_chain(joinpath(home_lc8, \"3glb/ring/ctcto_3glb\"), 'D'))\n",
    "\n",
    "inter_3zlb_c = sort_contactos!(get_ring_chain(joinpath(home_lc8, \"3zlb/ring/ctcto_3zlb\"), 'C'))\n",
    "inter_3zlb_d = sort_contactos!(get_ring_chain(joinpath(home_lc8, \"3zlb/ring/ctcto_3zlb\"), 'D'))\n",
    "\n",
    "inter_4qlb_c = sort_contactos!(get_ring_chain(joinpath(home_lc8, \"4qlb/ring/ctcto_4qlb\"), 'C'))\n",
    "inter_4qlb_d = sort_contactos!(get_ring_chain(joinpath(home_lc8, \"4qlb/ring/ctcto_4qlb\"), 'D'))\n",
    "\n",
    "\n",
    "n_c = [ length(inter_15lb_c) ; length(inter_16lb_c) ; length(inter_1clb_c) ; length(inter_2plb_c) ;\n",
    "    length(inter_3flb_c) ; length(inter_3glb_c) ; length(inter_3zlb_c) ; length(inter_4qlb_c) ]\n",
    "\n",
    "n_d = [ length(inter_15lb_d) ; length(inter_16lb_d) ; length(inter_1clb_d) ; length(inter_2plb_d) ;\n",
    "    length(inter_3flb_d) ; length(inter_3glb_d) ; length(inter_3zlb_d) ; length(inter_4qlb_d) ]\n",
    "hcat(n_c, n_d)"
   ]
  },
  {
   "cell_type": "code",
   "execution_count": 36,
   "metadata": {},
   "outputs": [
    {
     "data": {
      "text/plain": [
       "19-element Array{Interaction,1}:\n",
       " Interaction(\"C\", \"E\", 172, 64, \"N\", \"O\", \"LYS\", \"HIS\", \"MC\", \"MC\", \"HBOND\", 2.916)    \n",
       " Interaction(\"C\", \"E\", 172, 64, \"C\", \"CE1\", \"LYS\", \"HIS\", \"MC\", \"SC\", \"VDW\", 3.864)    \n",
       " Interaction(\"C\", \"F\", 173, 124, \"CB\", \"CE\", \"ASP\", \"LYS\", \"SC\", \"SC\", \"VDW\", 3.594)   \n",
       " Interaction(\"C\", \"E\", 174, 62, \"N\", \"O\", \"THR\", \"VAL\", \"MC\", \"MC\", \"HBOND\", 2.462)    \n",
       " Interaction(\"C\", \"E\", 174, 62, \"CG2\", \"CB\", \"THR\", \"VAL\", \"SC\", \"SC\", \"VDW\", 3.343)   \n",
       " Interaction(\"C\", \"E\", 174, 64, \"CB\", \"CD2\", \"THR\", \"HIS\", \"SC\", \"SC\", \"VDW\", 3.619)   \n",
       " Interaction(\"C\", \"E\", 174, 69, \"CB\", \"CE1\", \"THR\", \"PHE\", \"SC\", \"SC\", \"VDW\", 3.58)    \n",
       " Interaction(\"C\", \"E\", 176, 58, \"CD\", \"CE2\", \"ILE\", \"PHE\", \"SC\", \"SC\", \"VDW\", 3.615)   \n",
       " Interaction(\"C\", \"E\", 176, 60, \"N\", \"O\", \"ILE\", \"SER\", \"MC\", \"MC\", \"HBOND\", 3.123)    \n",
       " Interaction(\"C\", \"E\", 176, 71, \"CD\", \"CE2\", \"ILE\", \"TYR\", \"SC\", \"SC\", \"VDW\", 3.501)   \n",
       " Interaction(\"C\", \"F\", 177, 117, \"CD\", \"CD\", \"GLN\", \"LYS\", \"SC\", \"SC\", \"VDW\", 3.404)   \n",
       " Interaction(\"C\", \"E\", 178, 56, \"CG1\", \"C\", \"VAL\", \"ARG\", \"SC\", \"MC\", \"VDW\", 3.258)    \n",
       " Interaction(\"C\", \"E\", 178, 57, \"O\", \"ND2\", \"VAL\", \"ASN\", \"MC\", \"SC\", \"HBOND\", 3.296)  \n",
       " Interaction(\"C\", \"E\", 178, 57, \"C\", \"C\", \"VAL\", \"ASN\", \"MC\", \"MC\", \"VDW\", 4.018)      \n",
       " Interaction(\"C\", \"E\", 178, 58, \"O\", \"N\", \"VAL\", \"PHE\", \"MC\", \"MC\", \"HBOND\", 2.583)    \n",
       " Interaction(\"C\", \"E\", 178, 58, \"CG2\", \"CE1\", \"VAL\", \"PHE\", \"SC\", \"SC\", \"VDW\", 3.558)  \n",
       " Interaction(\"C\", \"E\", 178, 78, \"CG2\", \"CB\", \"VAL\", \"ALA\", \"SC\", \"SC\", \"VDW\", 3.687)   \n",
       " Interaction(\"C\", \"E\", 179, 57, \"OD1\", \"ND2\", \"ASP\", \"ASN\", \"SC\", \"SC\", \"HBOND\", 2.581)\n",
       " Interaction(\"C\", \"E\", 179, 57, \"CG\", \"ND2\", \"ASP\", \"ASN\", \"SC\", \"SC\", \"VDW\", 3.61)    "
      ]
     },
     "execution_count": 36,
     "metadata": {},
     "output_type": "execute_result"
    }
   ],
   "source": [
    "inter_16lb_c"
   ]
  },
  {
   "cell_type": "code",
   "execution_count": 80,
   "metadata": {},
   "outputs": [
    {
     "data": {
      "text/plain": [
       "19-element Array{Interaction,1}:\n",
       " Interaction(\"C\", \"E\", 172, 64, \"LYS\", \"HIS\", \"MC\", \"MC\", \"HBOND\", 2.916)\n",
       " Interaction(\"C\", \"E\", 172, 64, \"LYS\", \"HIS\", \"MC\", \"SC\", \"VDW\", 3.864)  \n",
       " Interaction(\"C\", \"F\", 173, 124, \"ASP\", \"LYS\", \"SC\", \"SC\", \"VDW\", 3.594) \n",
       " Interaction(\"C\", \"E\", 174, 62, \"THR\", \"VAL\", \"MC\", \"MC\", \"HBOND\", 2.462)\n",
       " Interaction(\"C\", \"E\", 174, 62, \"THR\", \"VAL\", \"SC\", \"SC\", \"VDW\", 3.343)  \n",
       " Interaction(\"C\", \"E\", 174, 64, \"THR\", \"HIS\", \"SC\", \"SC\", \"VDW\", 3.619)  \n",
       " Interaction(\"C\", \"E\", 174, 69, \"THR\", \"PHE\", \"SC\", \"SC\", \"VDW\", 3.58)   \n",
       " Interaction(\"C\", \"E\", 176, 58, \"ILE\", \"PHE\", \"SC\", \"SC\", \"VDW\", 3.615)  \n",
       " Interaction(\"C\", \"E\", 176, 60, \"ILE\", \"SER\", \"MC\", \"MC\", \"HBOND\", 3.123)\n",
       " Interaction(\"C\", \"E\", 176, 71, \"ILE\", \"TYR\", \"SC\", \"SC\", \"VDW\", 3.501)  \n",
       " Interaction(\"C\", \"F\", 177, 117, \"GLN\", \"LYS\", \"SC\", \"SC\", \"VDW\", 3.404) \n",
       " Interaction(\"C\", \"E\", 178, 56, \"VAL\", \"ARG\", \"SC\", \"MC\", \"VDW\", 3.258)  \n",
       " Interaction(\"C\", \"E\", 178, 57, \"VAL\", \"ASN\", \"MC\", \"SC\", \"HBOND\", 3.296)\n",
       " Interaction(\"C\", \"E\", 178, 57, \"VAL\", \"ASN\", \"MC\", \"MC\", \"VDW\", 4.018)  \n",
       " Interaction(\"C\", \"E\", 178, 58, \"VAL\", \"PHE\", \"MC\", \"MC\", \"HBOND\", 2.583)\n",
       " Interaction(\"C\", \"E\", 178, 58, \"VAL\", \"PHE\", \"SC\", \"SC\", \"VDW\", 3.558)  \n",
       " Interaction(\"C\", \"E\", 178, 78, \"VAL\", \"ALA\", \"SC\", \"SC\", \"VDW\", 3.687)  \n",
       " Interaction(\"C\", \"E\", 179, 57, \"ASP\", \"ASN\", \"SC\", \"SC\", \"HBOND\", 2.581)\n",
       " Interaction(\"C\", \"E\", 179, 57, \"ASP\", \"ASN\", \"SC\", \"SC\", \"VDW\", 3.61)   "
      ]
     },
     "execution_count": 80,
     "metadata": {},
     "output_type": "execute_result"
    }
   ],
   "source": [
    "inter_16lb_c"
   ]
  },
  {
   "cell_type": "code",
   "execution_count": 81,
   "metadata": {},
   "outputs": [
    {
     "data": {
      "text/plain": [
       "25-element Array{Interaction,1}:\n",
       " Interaction(\"C\", \"E\", 171, 63, \"MET\", \"THR\", \"SC\", \"SC\", \"VDW\", 3.922)  \n",
       " Interaction(\"C\", \"E\", 171, 64, \"MET\", \"HIS\", \"SC\", \"MC\", \"VDW\", 3.99)   \n",
       " Interaction(\"C\", \"E\", 171, 65, \"MET\", \"GLU\", \"SC\", \"SC\", \"VDW\", 3.759)  \n",
       " Interaction(\"C\", \"E\", 172, 64, \"LYS\", \"HIS\", \"MC\", \"MC\", \"HBOND\", 2.757)\n",
       " Interaction(\"C\", \"E\", 172, 64, \"LYS\", \"HIS\", \"SC\", \"SC\", \"VDW\", 3.48)   \n",
       " Interaction(\"C\", \"E\", 173, 61, \"ASP\", \"TYR\", \"SC\", \"SC\", \"VDW\", 3.932)  \n",
       " Interaction(\"C\", \"E\", 173, 63, \"ASP\", \"THR\", \"SC\", \"SC\", \"HBOND\", 2.489)\n",
       " Interaction(\"C\", \"E\", 174, 61, \"THR\", \"TYR\", \"MC\", \"SC\", \"VDW\", 3.878)  \n",
       " Interaction(\"C\", \"E\", 174, 62, \"THR\", \"VAL\", \"MC\", \"MC\", \"HBOND\", 2.919)\n",
       " Interaction(\"C\", \"E\", 174, 64, \"THR\", \"HIS\", \"SC\", \"SC\", \"HBOND\", 2.836)\n",
       " Interaction(\"C\", \"E\", 174, 64, \"THR\", \"HIS\", \"SC\", \"SC\", \"VDW\", 4.019)  \n",
       " Interaction(\"C\", \"E\", 174, 69, \"THR\", \"PHE\", \"SC\", \"SC\", \"VDW\", 3.966)  \n",
       " Interaction(\"C\", \"F\", 175, 117, \"GLY\", \"LYS\", \"MC\", \"SC\", \"VDW\", 3.829) \n",
       " Interaction(\"C\", \"E\", 176, 60, \"ILE\", \"SER\", \"MC\", \"MC\", \"HBOND\", 2.884)\n",
       " Interaction(\"C\", \"E\", 176, 69, \"ILE\", \"PHE\", \"SC\", \"SC\", \"VDW\", 3.99)   \n",
       " Interaction(\"C\", \"E\", 176, 71, \"ILE\", \"TYR\", \"SC\", \"SC\", \"VDW\", 3.7)    \n",
       " Interaction(\"C\", \"F\", 176, 117, \"ILE\", \"LYS\", \"MC\", \"SC\", \"VDW\", 3.821) \n",
       " Interaction(\"C\", \"F\", 177, 115, \"GLN\", \"ILE\", \"SC\", \"SC\", \"VDW\", 3.575) \n",
       " Interaction(\"C\", \"F\", 177, 117, \"GLN\", \"LYS\", \"SC\", \"MC\", \"HBOND\", 2.65)\n",
       " Interaction(\"C\", \"E\", 178, 56, \"VAL\", \"ARG\", \"SC\", \"MC\", \"VDW\", 3.684)  \n",
       " Interaction(\"C\", \"E\", 178, 58, \"VAL\", \"PHE\", \"MC\", \"MC\", \"HBOND\", 2.808)\n",
       " Interaction(\"C\", \"E\", 178, 58, \"VAL\", \"PHE\", \"SC\", \"SC\", \"VDW\", 3.802)  \n",
       " Interaction(\"C\", \"E\", 178, 71, \"VAL\", \"TYR\", \"SC\", \"SC\", \"VDW\", 3.616)  \n",
       " Interaction(\"C\", \"E\", 178, 78, \"VAL\", \"ALA\", \"SC\", \"SC\", \"VDW\", 3.729)  \n",
       " Interaction(\"C\", \"E\", 179, 57, \"ASP\", \"ASN\", \"SC\", \"SC\", \"HBOND\", 3.241)"
      ]
     },
     "execution_count": 81,
     "metadata": {},
     "output_type": "execute_result"
    }
   ],
   "source": [
    "inter_1clb_c"
   ]
  },
  {
   "cell_type": "code",
   "execution_count": 55,
   "metadata": {},
   "outputs": [
    {
     "name": "stdout",
     "output_type": "stream",
     "text": [
      "false\n",
      "false\n",
      "false\n",
      "false\n",
      "false\n",
      "false\n",
      "false\n",
      "false\n",
      "false\n",
      "false\n",
      "false\n",
      "false\n",
      "false\n",
      "true\n",
      "true\n",
      "true\n",
      "true\n",
      "true\n",
      "true\n",
      "false\n",
      "false\n",
      "false\n",
      "true\n",
      "true\n",
      "true\n"
     ]
    }
   ],
   "source": [
    "for i in 1:length(inter_3flb_c)\n",
    "    println(176 <= inter_3flb_c[i].resi_a <= 178)\n",
    "end"
   ]
  }
 ],
 "metadata": {
  "kernelspec": {
   "display_name": "Julia 1.1.0",
   "language": "julia",
   "name": "julia-1.1"
  },
  "language_info": {
   "file_extension": ".jl",
   "mimetype": "application/julia",
   "name": "julia",
   "version": "1.1.0"
  }
 },
 "nbformat": 4,
 "nbformat_minor": 2
}
